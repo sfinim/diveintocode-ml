{
 "cells": [
  {
   "cell_type": "markdown",
   "metadata": {},
   "source": [
    "# 【問題】栗まんじゅうが太陽系を覆う日\n",
    "1個の栗まんじゅうにバイバインを振りかけた場合、太陽系が栗まんじゅうで覆われるのは何分後でしょうか。\n",
    "\n",
    "これを計算するプログラムを作成してください。\n",
    "\n",
    "\n",
    "栗まんじゅうや太陽系の体積を調査した上で仮定して計算してください。栗まんじゅうの隙間や重力などは考えず、問題を単純化して構いません。\n",
    "\n",
    "\n",
    "ボールにバイバインを振りかけた時、東京ドームが一杯になる時間など他の状況にも適用できるような汎用的なプログラムを作成してください。\n",
    "\n",
    "また、グラフを表示するなど分かりやすいノートブックを作成してください。"
   ]
  },
  {
   "cell_type": "code",
   "execution_count": 1,
   "metadata": {},
   "outputs": [],
   "source": [
    "import math\n",
    "import matplotlib.pyplot as plt\n",
    "%matplotlib inline"
   ]
  },
  {
   "cell_type": "code",
   "execution_count": 2,
   "metadata": {},
   "outputs": [],
   "source": [
    "VOLUME_MANJU = 0.04**3\n",
    "VOLUME_SOLAR_SYSTEM = 4/3 * math.pi * (28000 * 9.461 * 10**15)**3"
   ]
  },
  {
   "cell_type": "code",
   "execution_count": 3,
   "metadata": {},
   "outputs": [],
   "source": [
    "def compute_minute(Volume1, Volume2):\n",
    "    \"\"\"\n",
    "    Volume1:バイバインかけられる物体の体積\n",
    "    Volume2:おおいつくされる空間の体積\n",
    "    \"\"\"\n",
    "    \n",
    "    num_division = 0\n",
    "    total_volume = Volume1\n",
    "    total_volume_list = []\n",
    "    total_volume_list.append(total_volume)\n",
    "    \n",
    "    while True:\n",
    "        if total_volume > Volume2:\n",
    "            break\n",
    "\n",
    "        num_division += 1\n",
    "        total_volume *= 2\n",
    "        total_volume_list.append(total_volume)\n",
    "        \n",
    "    return (num_division * 5, total_volume_list)\n"
   ]
  },
  {
   "cell_type": "code",
   "execution_count": 4,
   "metadata": {},
   "outputs": [
    {
     "name": "stdout",
     "output_type": "stream",
     "text": [
      "1100分後\n"
     ]
    }
   ],
   "source": [
    "# 栗まんじゅうで太陽系を覆い尽くす時間\n",
    "time, total_volume_list = compute_minute(VOLUME_MANJU, VOLUME_SOLAR_SYSTEM)\n",
    "print(\"{}分後\".format(time))\n"
   ]
  },
  {
   "cell_type": "code",
   "execution_count": 9,
   "metadata": {},
   "outputs": [
    {
     "data": {
      "image/png": "[encoded data removed]",
      "text/plain": [
       "<Figure size 432x288 with 1 Axes>"
      ]
     },
     "metadata": {
      "needs_background": "light"
     },
     "output_type": "display_data"
    }
   ],
   "source": [
    "X = [i * 5 for i in range((time // 5) + 1)]\n",
    "\n",
    "Y_MANJUU = total_volume_list\n",
    "Y_SOLAR_SYSTEM = [VOLUME_SOLAR_SYSTEM] * len(Y_MANJUU)\n",
    "\n",
    "plt.plot(X, Y_MANJUU)\n",
    "plt.plot(X, Y_SOLAR_SYSTEM)\n",
    "#plt.yscale(\"log\")\n",
    "plt.xlim(1050, 1110)\n",
    "plt.show()\n"
   ]
  },
  {
   "cell_type": "code",
   "execution_count": null,
   "metadata": {},
   "outputs": [],
   "source": []
  }
 ],
 "metadata": {
  "kernelspec": {
   "display_name": "Python 3",
   "language": "python",
   "name": "python3"
  },
  "language_info": {
   "codemirror_mode": {
    "name": "ipython",
    "version": 3
   },
   "file_extension": ".py",
   "mimetype": "text/x-python",
   "name": "python",
   "nbconvert_exporter": "python",
   "pygments_lexer": "ipython3",
   "version": "3.7.8"
  }
 },
 "nbformat": 4,
 "nbformat_minor": 4
}
