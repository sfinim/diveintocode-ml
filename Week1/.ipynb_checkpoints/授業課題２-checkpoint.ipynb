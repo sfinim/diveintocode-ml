{
 "cells": [
  {
   "cell_type": "markdown",
   "metadata": {},
   "source": [
    "### 問題１"
   ]
  },
  {
   "cell_type": "code",
   "execution_count": 11,
   "metadata": {},
   "outputs": [],
   "source": [
    "THICNESS = 0.00008\n",
    "\n",
    "folded_thicness = THICNESS\n",
    "\n",
    "num_fold = 0"
   ]
  },
  {
   "cell_type": "code",
   "execution_count": 12,
   "metadata": {},
   "outputs": [
    {
     "name": "stdout",
     "output_type": "stream",
     "text": [
      "26\n"
     ]
    }
   ],
   "source": [
    "while True:\n",
    "    if folded_thicness > 3776:\n",
    "        break\n",
    "    \n",
    "    num_fold += 1\n",
    "    folded_thicness *= 2\n",
    "\n",
    "print(num_fold)"
   ]
  },
  {
   "cell_type": "code",
   "execution_count": 14,
   "metadata": {},
   "outputs": [
    {
     "name": "stdout",
     "output_type": "stream",
     "text": [
      "5368.70912\n"
     ]
    }
   ],
   "source": [
    "print(2**26*(THICNESS))"
   ]
  },
  {
   "cell_type": "markdown",
   "metadata": {},
   "source": [
    "### 問題２"
   ]
  },
  {
   "cell_type": "code",
   "execution_count": null,
   "metadata": {},
   "outputs": [],
   "source": []
  },
  {
   "cell_type": "markdown",
   "metadata": {},
   "source": [
    "### 問題３"
   ]
  },
  {
   "cell_type": "code",
   "execution_count": 40,
   "metadata": {},
   "outputs": [],
   "source": [
    "# 間違い\n",
    "\n",
    "import math\n",
    "math.pi\n",
    "\n",
    "def compute_length(thickness, num_fold):\n",
    "    \n",
    "    length = (2**num_fold + 4)*(2**num_fold - 1)\n",
    "    # 数がおおきすぎてfloatに変換できない\n",
    "    length *= math.pi*thickness/6\n",
    "    \n",
    "    return length\n"
   ]
  },
  {
   "cell_type": "code",
   "execution_count": 38,
   "metadata": {},
   "outputs": [],
   "source": [
    "# 訂正\n",
    "\n",
    "import math\n",
    "math.pi\n",
    "\n",
    "def compute_length(thickness, num_fold):\n",
    "    \n",
    "    length = (2**num_fold + 4)*(2**num_fold - 1)\n",
    "    # 数がおおきすぎてfloatに変換できない\n",
    "    length *= math.pi*thickness/6\n",
    "    \n",
    "    return length\n"
   ]
  },
  {
   "cell_type": "code",
   "execution_count": 39,
   "metadata": {},
   "outputs": [
    {
     "ename": "OverflowError",
     "evalue": "int too large to convert to float",
     "output_type": "error",
     "traceback": [
      "\u001b[0;31m---------------------------------------------------------------------------\u001b[0m",
      "\u001b[0;31mOverflowError\u001b[0m                             Traceback (most recent call last)",
      "\u001b[0;32m<ipython-input-39-2f231b23cdc2>\u001b[0m in \u001b[0;36m<module>\u001b[0;34m\u001b[0m\n\u001b[1;32m      3\u001b[0m \u001b[0;31m# 月\u001b[0m\u001b[0;34m\u001b[0m\u001b[0;34m\u001b[0m\u001b[0;34m\u001b[0m\u001b[0m\n\u001b[1;32m      4\u001b[0m \u001b[0mDISTANCE_MOON\u001b[0m \u001b[0;34m=\u001b[0m \u001b[0;36m384400\u001b[0m\u001b[0;34m\u001b[0m\u001b[0;34m\u001b[0m\u001b[0m\n\u001b[0;32m----> 5\u001b[0;31m \u001b[0mlength_for_moon\u001b[0m \u001b[0;34m=\u001b[0m \u001b[0mcompute_length\u001b[0m\u001b[0;34m(\u001b[0m\u001b[0mTHICNESS\u001b[0m\u001b[0;34m,\u001b[0m \u001b[0mDISTANCE_MOON\u001b[0m\u001b[0;34m)\u001b[0m\u001b[0;34m\u001b[0m\u001b[0;34m\u001b[0m\u001b[0m\n\u001b[0m\u001b[1;32m      6\u001b[0m \u001b[0mprint\u001b[0m\u001b[0;34m(\u001b[0m\u001b[0;34m\"月：{}\"\u001b[0m\u001b[0;34m.\u001b[0m\u001b[0mformat\u001b[0m\u001b[0;34m(\u001b[0m\u001b[0mlength_for_moon\u001b[0m\u001b[0;34m)\u001b[0m\u001b[0;34m)\u001b[0m\u001b[0;34m\u001b[0m\u001b[0;34m\u001b[0m\u001b[0m\n\u001b[1;32m      7\u001b[0m \u001b[0;34m\u001b[0m\u001b[0m\n",
      "\u001b[0;32m<ipython-input-38-c2e9e2dbf0ba>\u001b[0m in \u001b[0;36mcompute_length\u001b[0;34m(thickness, num_fold)\u001b[0m\n\u001b[1;32m      6\u001b[0m     \u001b[0mlength\u001b[0m \u001b[0;34m=\u001b[0m \u001b[0;34m(\u001b[0m\u001b[0;36m2\u001b[0m\u001b[0;34m**\u001b[0m\u001b[0mnum_fold\u001b[0m \u001b[0;34m+\u001b[0m \u001b[0;36m4\u001b[0m\u001b[0;34m)\u001b[0m\u001b[0;34m*\u001b[0m\u001b[0;34m(\u001b[0m\u001b[0;36m2\u001b[0m\u001b[0;34m**\u001b[0m\u001b[0mnum_fold\u001b[0m \u001b[0;34m-\u001b[0m \u001b[0;36m1\u001b[0m\u001b[0;34m)\u001b[0m\u001b[0;34m\u001b[0m\u001b[0;34m\u001b[0m\u001b[0m\n\u001b[1;32m      7\u001b[0m \u001b[0;31m#    length *= math.pi*thickness/6\u001b[0m\u001b[0;34m\u001b[0m\u001b[0;34m\u001b[0m\u001b[0;34m\u001b[0m\u001b[0m\n\u001b[0;32m----> 8\u001b[0;31m     \u001b[0mlength\u001b[0m \u001b[0;34m*=\u001b[0m \u001b[0mmath\u001b[0m\u001b[0;34m.\u001b[0m\u001b[0mpi\u001b[0m\u001b[0;34m\u001b[0m\u001b[0;34m\u001b[0m\u001b[0m\n\u001b[0m\u001b[1;32m      9\u001b[0m \u001b[0;34m\u001b[0m\u001b[0m\n\u001b[1;32m     10\u001b[0m     \u001b[0;32mreturn\u001b[0m \u001b[0mlength\u001b[0m\u001b[0;34m\u001b[0m\u001b[0;34m\u001b[0m\u001b[0m\n",
      "\u001b[0;31mOverflowError\u001b[0m: int too large to convert to float"
     ]
    }
   ],
   "source": [
    "THICNESS = 0.00008\n",
    "\n",
    "# 月\n",
    "DISTANCE_MOON = 384400\n",
    "length_for_moon = compute_length(THICNESS, DISTANCE_MOON)\n",
    "print(\"月：{}\".format(length_for_moon))\n",
    "\n",
    "# # 富士山\n",
    "# DISTANCE_FUJISAN = 3776\n",
    "# length_for_fuji = compute_length(THICNESS, DISTANCE_FUJISAN)\n",
    "# print(\"富士山：{}\".format(length_for_fuji))\n",
    "\n",
    "# # 最も近い太陽以外の恒星\n",
    "# DISTANCE_PROXIMA = 4.243*9.461*(10**15)\n",
    "# length_for_proxima = compute_length(THICNESS, DISTANCE_PROXIMA)\n",
    "# print(\"プロキシマ：{}\".format(length_for_proxima))\n"
   ]
  },
  {
   "cell_type": "code",
   "execution_count": null,
   "metadata": {},
   "outputs": [],
   "source": []
  }
 ],
 "metadata": {
  "kernelspec": {
   "display_name": "Python 3",
   "language": "python",
   "name": "python3"
  },
  "language_info": {
   "codemirror_mode": {
    "name": "ipython",
    "version": 3
   },
   "file_extension": ".py",
   "mimetype": "text/x-python",
   "name": "python",
   "nbconvert_exporter": "python",
   "pygments_lexer": "ipython3",
   "version": "3.7.8"
  }
 },
 "nbformat": 4,
 "nbformat_minor": 4
}
