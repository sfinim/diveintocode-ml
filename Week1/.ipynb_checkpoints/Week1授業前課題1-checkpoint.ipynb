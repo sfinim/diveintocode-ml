{
 "cells": [
  {
   "cell_type": "markdown",
   "metadata": {},
   "source": [
    "### 【問題1】べき乗の算術演算子を使用して作成"
   ]
  },
  {
   "cell_type": "code",
   "execution_count": 7,
   "metadata": {},
   "outputs": [
    {
     "name": "stdout",
     "output_type": "stream",
     "text": [
      "厚さ： 703687441.77664メートル\n"
     ]
    }
   ],
   "source": [
    "THICKNESS = 0.00008\n",
    "folded_thickness = THICKNESS * (2**43)\n",
    "print(\"厚さ： {}メートル\".format(folded_thickness))"
   ]
  },
  {
   "cell_type": "markdown",
   "metadata": {},
   "source": [
    "### 【問題2】単位の変換"
   ]
  },
  {
   "cell_type": "code",
   "execution_count": 8,
   "metadata": {},
   "outputs": [
    {
     "name": "stdout",
     "output_type": "stream",
     "text": [
      "厚さ： 703687.44キロメートル\n"
     ]
    }
   ],
   "source": [
    "# メートルをキロメートルに変換して小数点以下2桁で表示する\n",
    "print(\"厚さ： {:.2f}キロメートル\".format(folded_thickness/1000))"
   ]
  },
  {
   "cell_type": "markdown",
   "metadata": {},
   "source": [
    "##### 月までの距離\n",
    "> 384,400km\n",
    "\n",
    "月まで届く。"
   ]
  },
  {
   "cell_type": "markdown",
   "metadata": {},
   "source": [
    "### 【問題3】for文を使用して作成"
   ]
  },
  {
   "cell_type": "code",
   "execution_count": 11,
   "metadata": {},
   "outputs": [
    {
     "name": "stdout",
     "output_type": "stream",
     "text": [
      "厚さ： 703687441.77664メートル\n"
     ]
    }
   ],
   "source": [
    "THICKNESS = 0.00008\n",
    "folded_thickness = THICKNESS\n",
    "for i in range(43):\n",
    "    folded_thickness *= 2\n",
    "print(\"厚さ： {}メートル\".format(folded_thickness))"
   ]
  },
  {
   "cell_type": "markdown",
   "metadata": {},
   "source": [
    "### 【問題4】計算時間の比較"
   ]
  },
  {
   "cell_type": "code",
   "execution_count": 32,
   "metadata": {},
   "outputs": [
    {
     "name": "stdout",
     "output_type": "stream",
     "text": [
      "time : 4.9114227294921875e-05[s]\n"
     ]
    }
   ],
   "source": [
    "import time\n",
    "\n",
    "THICKNESS = 0.00008\n",
    "\n",
    "start = time.time()\n",
    "\n",
    "# べき乗\n",
    "folded_thickness = THICKNESS * (2**100)\n",
    "\n",
    "elapsed_time = time.time() - start\n",
    "print(\"time : {}[s]\".format(elapsed_time))"
   ]
  },
  {
   "cell_type": "code",
   "execution_count": 33,
   "metadata": {},
   "outputs": [
    {
     "name": "stdout",
     "output_type": "stream",
     "text": [
      "time : 7.581710815429688e-05[s]\n"
     ]
    }
   ],
   "source": [
    "import time\n",
    "\n",
    "THICKNESS = 0.00008\n",
    "\n",
    "start = time.time()\n",
    "\n",
    "# for文\n",
    "folded_thickness = THICKNESS\n",
    "for i in range(100):\n",
    "    folded_thickness *= 2\n",
    "\n",
    "elapsed_time = time.time() - start\n",
    "print(\"time : {}[s]\".format(elapsed_time))"
   ]
  },
  {
   "cell_type": "markdown",
   "metadata": {},
   "source": [
    "#### 比較結果について\n",
    "\n",
    "べき乗のほうがfor文より計算速度が速い。"
   ]
  },
  {
   "cell_type": "code",
   "execution_count": 1,
   "metadata": {},
   "outputs": [
    {
     "name": "stdout",
     "output_type": "stream",
     "text": [
      "486 ns ± 9.64 ns per loop (mean ± std. dev. of 7 runs, 1000000 loops each)\n",
      "3.31 µs ± 69.4 ns per loop (mean ± std. dev. of 7 runs, 100000 loops each)\n"
     ]
    }
   ],
   "source": [
    "# マジックコマンドの練習\n",
    "def test1():\n",
    "    THICKNESS = 0.00008\n",
    "\n",
    "    # べき乗\n",
    "    folded_thickness = THICKNESS * (2**100)\n",
    "\n",
    "def test2():\n",
    "    THICKNESS = 0.00008\n",
    "\n",
    "    # for文\n",
    "    folded_thickness = THICKNESS\n",
    "    for i in range(100):\n",
    "        folded_thickness *= 2\n",
    "\n",
    "%timeit test1()\n",
    "%timeit test2()"
   ]
  },
  {
   "cell_type": "markdown",
   "metadata": {},
   "source": [
    "やはり、べき乗のほうが速い。\n",
    "また、for文だと処理時間のばらつきが大きい。"
   ]
  },
  {
   "cell_type": "markdown",
   "metadata": {},
   "source": [
    "### 【問題5】リストへの保存"
   ]
  },
  {
   "cell_type": "code",
   "execution_count": 2,
   "metadata": {},
   "outputs": [
    {
     "data": {
      "text/plain": [
       "44"
      ]
     },
     "execution_count": 2,
     "metadata": {},
     "output_type": "execute_result"
    }
   ],
   "source": [
    "list_folded_thickness = []\n",
    "THICKNESS = 0.00008\n",
    "\n",
    "list_folded_thickness.append(THICKNESS)\n",
    "\n",
    "# for文\n",
    "for i in range(43):\n",
    "    folded_thickness = list_folded_thickness[i] * 2\n",
    "    list_folded_thickness.append(folded_thickness)\n",
    "\n",
    "len(list_folded_thickness)"
   ]
  },
  {
   "cell_type": "markdown",
   "metadata": {},
   "source": [
    "### 【問題6】折れ線グラフの表示"
   ]
  },
  {
   "cell_type": "code",
   "execution_count": 5,
   "metadata": {},
   "outputs": [
    {
     "data": {
      "image/png": "[encoded data removed]",
      "text/plain": [
       "<Figure size 432x288 with 1 Axes>"
      ]
     },
     "metadata": {
      "needs_background": "light"
     },
     "output_type": "display_data"
    }
   ],
   "source": [
    "import matplotlib.pyplot as plt\n",
    "%matplotlib inline\n",
    "plt.title(\"thickness of folded paper\")\n",
    "plt.xlabel(\"number of folds\")\n",
    "plt.ylabel(\"thickness[m]\")\n",
    "plt.plot(list_folded_thickness)\n",
    "plt.show()"
   ]
  },
  {
   "cell_type": "markdown",
   "metadata": {},
   "source": [
    "### 【問題7】グラフのカスタマイズ"
   ]
  },
  {
   "cell_type": "markdown",
   "metadata": {},
   "source": [
    "#### カスタマイズ1 (線の色が黄色)"
   ]
  },
  {
   "cell_type": "code",
   "execution_count": 10,
   "metadata": {},
   "outputs": [
    {
     "data": {
      "image/png": "[encoded data removed]",
      "text/plain": [
       "<Figure size 432x288 with 1 Axes>"
      ]
     },
     "metadata": {
      "needs_background": "light"
     },
     "output_type": "display_data"
    }
   ],
   "source": [
    "plt.title(\"thickness of folded paper\")\n",
    "plt.xlabel(\"number of folds\")\n",
    "plt.ylabel(\"thickness[m]\")\n",
    "plt.plot(list_folded_thickness, color='yellow')\n",
    "plt.show()"
   ]
  },
  {
   "cell_type": "markdown",
   "metadata": {},
   "source": [
    "#### カスタマイズ2 (y軸がlogスケール & グリッド表示)"
   ]
  },
  {
   "cell_type": "code",
   "execution_count": 16,
   "metadata": {},
   "outputs": [
    {
     "data": {
      "image/png": "[encoded data removed]",
      "text/plain": [
       "<Figure size 432x288 with 1 Axes>"
      ]
     },
     "metadata": {
      "needs_background": "light"
     },
     "output_type": "display_data"
    }
   ],
   "source": [
    "plt.title(\"thickness of folded paper\")\n",
    "plt.xlabel(\"number of folds\")\n",
    "plt.ylabel(\"thickness[m]\")\n",
    "plt.yscale('log')\n",
    "plt.grid(which='major',color='black',linestyle='-.')\n",
    "plt.plot(list_folded_thickness, color='red')\n",
    "plt.show()"
   ]
  },
  {
   "cell_type": "markdown",
   "metadata": {},
   "source": [
    "#### カスタマイズ3 (処理時間と合わせて表示)\n",
    "\n",
    "※処理時間を表示する意味は特にない。\n",
    "\n",
    "**オブジェクト指向の記述を用いている。**\n",
    "\n",
    "表示用に処理時間を格納するリストを追加する。"
   ]
  },
  {
   "cell_type": "code",
   "execution_count": 135,
   "metadata": {},
   "outputs": [
    {
     "data": {
      "text/plain": [
       "<matplotlib.legend.Legend at 0x7f44e64427d0>"
      ]
     },
     "execution_count": 135,
     "metadata": {},
     "output_type": "execute_result"
    },
    {
     "data": {
      "image/png": "[encoded data removed]",
      "text/plain": [
       "<Figure size 432x288 with 2 Axes>"
      ]
     },
     "metadata": {
      "needs_background": "light"
     },
     "output_type": "display_data"
    }
   ],
   "source": [
    "import time\n",
    "from matplotlib import ticker\n",
    "import matplotlib.pyplot as plt\n",
    "\n",
    "list_folded_thickness = []\n",
    "list_time = []\n",
    "THICKNESS = 0.00008\n",
    "\n",
    "list_time.append(time.time())\n",
    "list_folded_thickness.append(THICKNESS)\n",
    "\n",
    "# for文\n",
    "for i in range(43):\n",
    "    folded_thickness = list_folded_thickness[i] * 2\n",
    "    list_time.append(time.time())\n",
    "    list_folded_thickness.append(folded_thickness)\n",
    "\n",
    "    \n",
    "'''\n",
    "グラフ作成\n",
    "'''\n",
    "# オブジェクトの作成\n",
    "fig, ax1 = plt.subplots()\n",
    "ax2 = ax1.twinx()\n",
    "\n",
    "ax1.grid(True)\n",
    "ax1.set_axisbelow(True)\n",
    "\n",
    "# 色の設定\n",
    "color1 = \"red\"\n",
    "color2 = \"blue\"\n",
    "\n",
    "# グラフ表示\n",
    "ax1.plot(list_folded_thickness, color=color1, label=\"folded_thickness\")\n",
    "ax2.plot(list_time, color=color2, label=\"time\")\n",
    "\n",
    "# y軸のメモリ表示の最大個数を設定\n",
    "ax1.yaxis.set_major_locator(ticker.MaxNLocator(7))\n",
    "ax2.yaxis.set_major_locator(ticker.MaxNLocator(7))\n",
    "\n",
    "# y軸の色を変更\n",
    "# 図を重ねて表示しているらしく、ax2のみを変更する\n",
    "ax2.spines['left'].set_color(color1)\n",
    "ax2.spines['right'].set_color(color2)\n",
    "\n",
    "# y軸のメモリの数値の色を変更\n",
    "# こっちは重ねて表示されるものではないらしい。謎。\n",
    "ax1.tick_params(axis='y', colors=color1)\n",
    "ax2.tick_params(axis='y', colors=color2)\n",
    "\n",
    "# 凡例\n",
    "handler1, label1 = ax1.get_legend_handles_labels()\n",
    "handler2, label2 = ax2.get_legend_handles_labels()\n",
    "\n",
    "# まとめて出力することもできるし、個別で出力することもできる。\n",
    "# 何か理由がない限りはまとめたほうが良さそう。(locとborderaxespadによる位置調整で汚く見える)\n",
    "ax1.legend(handler1 + handler2, label1 + label2, loc=3, borderaxespad=4.)\n",
    "#ax1.legend(handler1, label1, loc=3, borderaxespad=5.)\n",
    "#ax2.legend(handler2, label2, loc=3, borderaxespad=3.)\n"
   ]
  },
  {
   "cell_type": "markdown",
   "metadata": {},
   "source": []
  }
 ],
 "metadata": {
  "kernelspec": {
   "display_name": "Python 3",
   "language": "python",
   "name": "python3"
  },
  "language_info": {
   "codemirror_mode": {
    "name": "ipython",
    "version": 3
   },
   "file_extension": ".py",
   "mimetype": "text/x-python",
   "name": "python",
   "nbconvert_exporter": "python",
   "pygments_lexer": "ipython3",
   "version": "3.7.8"
  }
 },
 "nbformat": 4,
 "nbformat_minor": 4
}
