{
 "cells": [
  {
   "cell_type": "markdown",
   "metadata": {},
   "source": [
    "【問題】栗まんじゅうが太陽系を覆う日\n",
    "1個の栗まんじゅうにバイバインを振りかけた場合、太陽系が栗まんじゅうで覆われるのは何分後でしょうか。これを計算するプログラムを作成してください。\n",
    "\n",
    "\n",
    "栗まんじゅうや太陽系の体積を調査した上で仮定して計算してください。栗まんじゅうの隙間や重力などは考えず、問題を単純化して構いません。\n",
    "\n",
    "\n",
    "ボールにバイバインを振りかけた時、東京ドームが一杯になる時間など他の状況にも適用できるような汎用的なプログラムを作成してください。また、グラフを表示するなど分かりやすいノートブックを作成してください。"
   ]
  },
  {
   "cell_type": "code",
   "execution_count": 1,
   "metadata": {},
   "outputs": [],
   "source": [
    "import math\n",
    "\n",
    "VOLUME_MANJU = 0.04**3\n",
    "VOLUME_SOLAR_SYSTEM = 4/3 * math.pi * (28000 * 9.461 * 10**15)**3"
   ]
  },
  {
   "cell_type": "code",
   "execution_count": 5,
   "metadata": {},
   "outputs": [],
   "source": [
    "def compute_minute(Volume1, Volume2):\n",
    "    \"\"\"\n",
    "    Volume1:バイバインかけられる物体の体積\n",
    "    Volume2:おおいつくされる空間の体積\n",
    "    \"\"\"\n",
    "    \n",
    "    num_division = 0\n",
    "    total_volume = Volume1\n",
    "    \n",
    "    while True:\n",
    "        if total_volume > Volume2:\n",
    "            break\n",
    "\n",
    "        num_division += 1\n",
    "        total_volume *= 2\n",
    "    \n",
    "    return (num_division * 5, total_volume)\n"
   ]
  },
  {
   "cell_type": "code",
   "execution_count": 7,
   "metadata": {},
   "outputs": [
    {
     "name": "stdout",
     "output_type": "stream",
     "text": [
      "1100分後\n",
      "体積：1.0783978666860258e+62\n"
     ]
    }
   ],
   "source": [
    "# 栗まんじゅうで太陽系を覆い尽くす時間\n",
    "time, total_volume = compute_minute(VOLUME_MANJU, VOLUME_SOLAR_SYSTEM)\n",
    "print(\"{}分後\".format(time))\n",
    "print(\"体積：{}\".format(total_volume))\n"
   ]
  },
  {
   "cell_type": "code",
   "execution_count": 9,
   "metadata": {},
   "outputs": [
    {
     "name": "stdout",
     "output_type": "stream",
     "text": [
      "3.893532777336231e+61\n"
     ]
    }
   ],
   "source": [
    "print(VOLUME_SOLAR_SYSTEM/2)"
   ]
  },
  {
   "cell_type": "markdown",
   "metadata": {},
   "source": []
  }
 ],
 "metadata": {
  "kernelspec": {
   "display_name": "Python 3",
   "language": "python",
   "name": "python3"
  },
  "language_info": {
   "codemirror_mode": {
    "name": "ipython",
    "version": 3
   },
   "file_extension": ".py",
   "mimetype": "text/x-python",
   "name": "python",
   "nbconvert_exporter": "python",
   "pygments_lexer": "ipython3",
   "version": "3.7.8"
  }
 },
 "nbformat": 4,
 "nbformat_minor": 4
}
