{
 "cells": [
  {
   "cell_type": "markdown",
   "metadata": {},
   "source": [
    "【問題2】任意の厚さに対応した関数を作成  \n",
    "距離を入力すると、何回折った時に超えるかを出力する関数を作成してください。  \n",
    "引数として、折る前の厚さ $t_{0}$ も設定できるようにしましょう。  \n",
    "この関数を利用して、「最も近い太陽以外の恒星」に到達するには紙を何回折る必要があるか計算してください。  \n",
    "「最も近い太陽以外の恒星」の距離は調査してください。"
   ]
  },
  {
   "cell_type": "code",
   "execution_count": 4,
   "metadata": {},
   "outputs": [
    {
     "name": "stdout",
     "output_type": "stream",
     "text": [
      "69\n"
     ]
    }
   ],
   "source": [
    "THICNESS = 0.00008\n",
    "\n",
    "def fold(thicness, distance):\n",
    "\n",
    "    folded_thicness = THICNESS\n",
    "    num_fold = 0\n",
    "    while True:\n",
    "        if folded_thicness > distance:\n",
    "            break\n",
    "\n",
    "        num_fold += 1\n",
    "        folded_thicness *= 2\n",
    "\n",
    "    return num_fold\n",
    "\n",
    "print(fold(THICNESS, 4.243*9.461*(10**15)))"
   ]
  },
  {
   "cell_type": "code",
   "execution_count": 10,
   "metadata": {},
   "outputs": [
    {
     "name": "stdout",
     "output_type": "stream",
     "text": [
      "4.7223664828696456e+16\n"
     ]
    }
   ],
   "source": [
    "print(0.00008*(2**69))"
   ]
  },
  {
   "cell_type": "code",
   "execution_count": 8,
   "metadata": {},
   "outputs": [
    {
     "name": "stdout",
     "output_type": "stream",
     "text": [
      "4.014302300000001e+16\n"
     ]
    }
   ],
   "source": [
    "print(4.243*9.461*(10**15))"
   ]
  },
  {
   "cell_type": "code",
   "execution_count": null,
   "metadata": {},
   "outputs": [],
   "source": []
  }
 ],
 "metadata": {
  "kernelspec": {
   "display_name": "Python 3",
   "language": "python",
   "name": "python3"
  },
  "language_info": {
   "codemirror_mode": {
    "name": "ipython",
    "version": 3
   },
   "file_extension": ".py",
   "mimetype": "text/x-python",
   "name": "python",
   "nbconvert_exporter": "python",
   "pygments_lexer": "ipython3",
   "version": "3.7.8"
  }
 },
 "nbformat": 4,
 "nbformat_minor": 2
}
