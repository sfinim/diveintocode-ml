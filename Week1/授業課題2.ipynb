{
 "cells": [
  {
   "cell_type": "markdown",
   "metadata": {},
   "source": [
    "### 【問題1】富士山を超える最小の折る回数\n",
    "厚さが「富士山(3776m)」を超えるのは何回紙を折った時か計算するプログラムを作成してください。"
   ]
  },
  {
   "cell_type": "code",
   "execution_count": 3,
   "metadata": {},
   "outputs": [],
   "source": [
    "THICNESS = 0.00008\n",
    "\n",
    "folded_thicness = THICNESS\n",
    "\n",
    "num_fold = 0"
   ]
  },
  {
   "cell_type": "code",
   "execution_count": 4,
   "metadata": {},
   "outputs": [
    {
     "name": "stdout",
     "output_type": "stream",
     "text": [
      "26\n"
     ]
    }
   ],
   "source": [
    "while True:\n",
    "    if folded_thicness > 3776:\n",
    "        break\n",
    "    \n",
    "    num_fold += 1\n",
    "    folded_thicness *= 2\n",
    "\n",
    "print(num_fold)"
   ]
  },
  {
   "cell_type": "code",
   "execution_count": 5,
   "metadata": {},
   "outputs": [
    {
     "name": "stdout",
     "output_type": "stream",
     "text": [
      "5368.70912\n"
     ]
    }
   ],
   "source": [
    "print(2**26*(THICNESS))"
   ]
  },
  {
   "cell_type": "markdown",
   "metadata": {},
   "source": [
    "### 【問題2】任意の厚さに対応した関数を作成\n",
    "距離を入力すると、何回折った時に超えるかを出力する関数を作成してください。引数として、折る前の厚さ \n",
    "t\n",
    "0\n",
    " も設定できるようにしましょう。\n",
    "\n",
    "\n",
    "この関数を利用して、「最も近い太陽以外の恒星」に到達するには紙を何回折る必要があるか計算してください。「最も近い太陽以外の恒星」の距離は調査してください。"
   ]
  },
  {
   "cell_type": "code",
   "execution_count": 6,
   "metadata": {},
   "outputs": [],
   "source": [
    "def compute_num_fold(thickness, distance):\n",
    "    num_fold = 0\n",
    "    folded_thicness = thickness\n",
    "    \n",
    "    while True:\n",
    "        if folded_thicness > distance:\n",
    "            break\n",
    "\n",
    "        num_fold += 1\n",
    "        folded_thicness *= 2\n",
    "    \n",
    "    return num_fold\n"
   ]
  },
  {
   "cell_type": "code",
   "execution_count": 7,
   "metadata": {},
   "outputs": [
    {
     "data": {
      "text/plain": [
       "69"
      ]
     },
     "execution_count": 7,
     "metadata": {},
     "output_type": "execute_result"
    }
   ],
   "source": [
    "compute_num_fold(THICNESS, 4.243*9.461*(10**15))"
   ]
  },
  {
   "cell_type": "markdown",
   "metadata": {},
   "source": [
    "### 【問題3】必要な紙の長さ\n",
    "実際のところ身近にある紙は43回はおろか10回も折れません。しかし、大きな紙ほどたくさん折ることができ、トイレットペーパーのような長い紙を一方向に折ることを考えた時の折れる回数を求める公式が存在します。\n",
    "\n",
    "\n",
    "厚さ$t_0$の紙をn回折るために必要な紙の長さLは以下の公式で求まります。\n",
    "\n",
    "$$L = \\frac{πt_0}{6}(2^n + 4)(2^n - 1)$$\n",
    "\n",
    "この公式を利用して、実際に紙を折り任意の厚さに到達するために必要な紙の長さを求める関数を作成してください。\n",
    "\n",
    "\n",
    "そしてこれを使って「月」「富士山」「最も近い太陽以外の恒星」に届くために必要な紙の長さを求めてください。"
   ]
  },
  {
   "cell_type": "code",
   "execution_count": 8,
   "metadata": {},
   "outputs": [],
   "source": [
    "import math\n",
    "math.pi\n",
    "\n",
    "def compute_length(thickness, distance):\n",
    "    \n",
    "    num_fold = compute_num_fold(thickness, distance)\n",
    "    \n",
    "    length = (math.pi*thickness/6)*(2**num_fold + 4)*(2**num_fold - 1)\n",
    "    \n",
    "    return length\n"
   ]
  },
  {
   "cell_type": "code",
   "execution_count": 11,
   "metadata": {},
   "outputs": [
    {
     "name": "stdout",
     "output_type": "stream",
     "text": [
      "月：3.090782e+15 m\n",
      "富士山：1.886463e+11 m\n",
      "プロキシマ：1.459580e+37 m\n"
     ]
    }
   ],
   "source": [
    "THICNESS = 0.00008\n",
    "\n",
    "# 月\n",
    "DISTANCE_MOON = 384400\n",
    "length_for_moon = compute_length(THICNESS, DISTANCE_MOON)\n",
    "print(\"月：{:e} m\".format(length_for_moon))\n",
    "\n",
    "# 富士山\n",
    "DISTANCE_FUJISAN = 3776\n",
    "length_for_fuji = compute_length(THICNESS, DISTANCE_FUJISAN)\n",
    "print(\"富士山：{:e} m\".format(length_for_fuji))\n",
    "\n",
    "# 最も近い太陽以外の恒星\n",
    "DISTANCE_PROXIMA = 4.243*9.461*(10**15)\n",
    "length_for_proxima = compute_length(THICNESS, DISTANCE_PROXIMA)\n",
    "print(\"プロキシマ：{:e} m\".format(length_for_proxima))\n"
   ]
  },
  {
   "cell_type": "code",
   "execution_count": null,
   "metadata": {},
   "outputs": [],
   "source": []
  }
 ],
 "metadata": {
  "kernelspec": {
   "display_name": "Python 3",
   "language": "python",
   "name": "python3"
  },
  "language_info": {
   "codemirror_mode": {
    "name": "ipython",
    "version": 3
   },
   "file_extension": ".py",
   "mimetype": "text/x-python",
   "name": "python",
   "nbconvert_exporter": "python",
   "pygments_lexer": "ipython3",
   "version": "3.7.8"
  }
 },
 "nbformat": 4,
 "nbformat_minor": 4
}
