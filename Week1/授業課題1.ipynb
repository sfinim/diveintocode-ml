{
 "cells": [
  {
   "cell_type": "markdown",
   "metadata": {},
   "source": [
    "### 【問題1】100日目の米粒の数\n",
    "100日目には合計で米粒をいくつもらっているのかを計算するコードを作成し、答えを出力してください。また、1日目から100日目までの「その日にもらう米の数」と「その日までに累計で貰う米の数」の推移を折れ線グラフで表現してください。（縦軸が米の数、横軸が日数）"
   ]
  },
  {
   "cell_type": "code",
   "execution_count": 2,
   "metadata": {},
   "outputs": [],
   "source": [
    "# もらった米粒の累計\n",
    "sum_rice = 0\n",
    "\n",
    "# その日にもらう米の数\n",
    "rice_day = 1\n",
    "\n",
    "# コメをもらう日数\n",
    "num_day = 100\n",
    "\n",
    "# リスト\n",
    "list_rice_day = []\n",
    "list_rice_sum = []"
   ]
  },
  {
   "cell_type": "code",
   "execution_count": 3,
   "metadata": {},
   "outputs": [
    {
     "name": "stdout",
     "output_type": "stream",
     "text": [
      "[1, 2, 4, 8, 16, 32, 64, 128, 256, 512, 1024, 2048, 4096, 8192, 16384, 32768, 65536, 131072, 262144, 524288, 1048576, 2097152, 4194304, 8388608, 16777216, 33554432, 67108864, 134217728, 268435456, 536870912, 1073741824, 2147483648, 4294967296, 8589934592, 17179869184, 34359738368, 68719476736, 137438953472, 274877906944, 549755813888, 1099511627776, 2199023255552, 4398046511104, 8796093022208, 17592186044416, 35184372088832, 70368744177664, 140737488355328, 281474976710656, 562949953421312, 1125899906842624, 2251799813685248, 4503599627370496, 9007199254740992, 18014398509481984, 36028797018963968, 72057594037927936, 144115188075855872, 288230376151711744, 576460752303423488, 1152921504606846976, 2305843009213693952, 4611686018427387904, 9223372036854775808, 18446744073709551616, 36893488147419103232, 73786976294838206464, 147573952589676412928, 295147905179352825856, 590295810358705651712, 1180591620717411303424, 2361183241434822606848, 4722366482869645213696, 9444732965739290427392, 18889465931478580854784, 37778931862957161709568, 75557863725914323419136, 151115727451828646838272, 302231454903657293676544, 604462909807314587353088, 1208925819614629174706176, 2417851639229258349412352, 4835703278458516698824704, 9671406556917033397649408, 19342813113834066795298816, 38685626227668133590597632, 77371252455336267181195264, 154742504910672534362390528, 309485009821345068724781056, 618970019642690137449562112, 1237940039285380274899124224, 2475880078570760549798248448, 4951760157141521099596496896, 9903520314283042199192993792, 19807040628566084398385987584, 39614081257132168796771975168, 79228162514264337593543950336, 158456325028528675187087900672, 316912650057057350374175801344, 633825300114114700748351602688]\n",
      "[1, 3, 7, 15, 31, 63, 127, 255, 511, 1023, 2047, 4095, 8191, 16383, 32767, 65535, 131071, 262143, 524287, 1048575, 2097151, 4194303, 8388607, 16777215, 33554431, 67108863, 134217727, 268435455, 536870911, 1073741823, 2147483647, 4294967295, 8589934591, 17179869183, 34359738367, 68719476735, 137438953471, 274877906943, 549755813887, 1099511627775, 2199023255551, 4398046511103, 8796093022207, 17592186044415, 35184372088831, 70368744177663, 140737488355327, 281474976710655, 562949953421311, 1125899906842623, 2251799813685247, 4503599627370495, 9007199254740991, 18014398509481983, 36028797018963967, 72057594037927935, 144115188075855871, 288230376151711743, 576460752303423487, 1152921504606846975, 2305843009213693951, 4611686018427387903, 9223372036854775807, 18446744073709551615, 36893488147419103231, 73786976294838206463, 147573952589676412927, 295147905179352825855, 590295810358705651711, 1180591620717411303423, 2361183241434822606847, 4722366482869645213695, 9444732965739290427391, 18889465931478580854783, 37778931862957161709567, 75557863725914323419135, 151115727451828646838271, 302231454903657293676543, 604462909807314587353087, 1208925819614629174706175, 2417851639229258349412351, 4835703278458516698824703, 9671406556917033397649407, 19342813113834066795298815, 38685626227668133590597631, 77371252455336267181195263, 154742504910672534362390527, 309485009821345068724781055, 618970019642690137449562111, 1237940039285380274899124223, 2475880078570760549798248447, 4951760157141521099596496895, 9903520314283042199192993791, 19807040628566084398385987583, 39614081257132168796771975167, 79228162514264337593543950335, 158456325028528675187087900671, 316912650057057350374175801343, 633825300114114700748351602687, 1267650600228229401496703205375]\n"
     ]
    }
   ],
   "source": [
    "rice_day = 1\n",
    "list_rice_day.append(rice_day)\n",
    "list_rice_sum.append(rice_day)\n",
    "\n",
    "for i in range(num_day - 1):\n",
    "    rice_day *= 2\n",
    "    list_rice_day.append(rice_day)\n",
    "    list_rice_sum.append(sum(list_rice_day))\n",
    "\n",
    "print(list_rice_day)\n",
    "print(list_rice_sum)"
   ]
  },
  {
   "cell_type": "code",
   "execution_count": 4,
   "metadata": {},
   "outputs": [
    {
     "name": "stdout",
     "output_type": "stream",
     "text": [
      "100\n",
      "100\n"
     ]
    }
   ],
   "source": [
    "print(len(list_rice_day))\n",
    "print(len(list_rice_sum))"
   ]
  },
  {
   "cell_type": "code",
   "execution_count": 5,
   "metadata": {},
   "outputs": [
    {
     "data": {
      "image/png": "[encoded data removed]",
      "text/plain": [
       "<Figure size 432x288 with 1 Axes>"
      ]
     },
     "metadata": {
      "needs_background": "light"
     },
     "output_type": "display_data"
    }
   ],
   "source": [
    "import matplotlib.pyplot as plt\n",
    "%matplotlib inline\n",
    "\n",
    "plt.title(\"Sororishinzaemon\")\n",
    "plt.xlabel(\"day\")\n",
    "plt.ylabel(\"num_rice\")\n",
    "plt.plot(list_rice_day, color='red')\n",
    "plt.plot(list_rice_sum, color='blue')\n",
    "plt.show()"
   ]
  },
  {
   "cell_type": "markdown",
   "metadata": {},
   "source": [
    "### 【問題2】100日目以外の米粒の数\n",
    "この逸話は30日だったり81日だったりと日数が曖昧です。どの話にも対応できるように日数を引数とした 関数 を作成しましょう。関数を作成した上で、コースを受講する日数の間でいくつ米粒をもらえるかを答えてください。前の問題同様に折れ線グラフも出力してください。\n",
    "\n",
    "\n",
    "以下の雛形には関数としての枠組みだけではなく、引数や返り値についてのコメントも記載してあります。参考にして、自分なりにも分かりやすくコメントを書き換えてください。"
   ]
  },
  {
   "cell_type": "code",
   "execution_count": 6,
   "metadata": {},
   "outputs": [],
   "source": [
    "def compute_sorori_shinzaemon(day=100):\n",
    "    \"\"\"\n",
    "    曽呂利新左衛門の米の逸話を検証する関数。日にちごとの米の粒の数を計算する。\n",
    "    Parameteres\n",
    "    --------------\n",
    "    day: int\n",
    "        米を貰う日数 (default : 100)\n",
    "    Returns\n",
    "    --------------\n",
    "    list_n_grains : list\n",
    "        ある日に貰う米の数のリスト（リストの長さはdayに等しくなる）\n",
    "    list_total_grains : list\n",
    "        ある日までに累計で貰う米の数のリスト（リストの長さはdayに等しくなる）\n",
    "    \"\"\"\n",
    "    sum_rice = 0\n",
    "    rice_day = 1\n",
    "    list_rice_day = []\n",
    "    list_rice_sum = []\n",
    "    \n",
    "    rice_day = 1\n",
    "    list_rice_day.append(rice_day)\n",
    "    list_rice_sum.append(rice_day)\n",
    "    for i in range(day -1):\n",
    "        rice_day *= 2\n",
    "        list_rice_day.append(rice_day)\n",
    "        list_rice_sum.append(sum(list_rice_day))\n",
    "    return list_rice_day, list_rice_sum\n"
   ]
  },
  {
   "cell_type": "code",
   "execution_count": 7,
   "metadata": {},
   "outputs": [
    {
     "name": "stdout",
     "output_type": "stream",
     "text": [
      "[1, 2, 4, 8, 16, 32, 64, 128, 256, 512] [1, 3, 7, 15, 31, 63, 127, 255, 511, 1023]\n"
     ]
    }
   ],
   "source": [
    "list_rice_day, list_rice_sum = compute_sorori_shinzaemon(day=10)\n",
    "print(list_rice_day, list_rice_sum)"
   ]
  },
  {
   "cell_type": "markdown",
   "metadata": {},
   "source": [
    "### 【問題3】何人が何日生活できる米か\n",
    "この米があれば何人が何日生活できるか計算する関数を作成してください。コースを受講する期間に貰える米粒で、このクラスにいる人数であれば、何日間生活できるかを出力してみましょう。\n",
    "\n",
    "\n",
    "関数の最低限の入力は 米粒の数(int) と 人数(int) 、出力は 生活できる日数(int) です。関数名やコメントなどは分かりやすく考えて作成してください。\n",
    "\n",
    "\n",
    "ここでは1日に必要な米粒の数は提示しません。自分なりに調べて、計算式に落とし込んでください。どう調べ、何を根拠にしたかもコメントを残しておいてください。"
   ]
  },
  {
   "cell_type": "markdown",
   "metadata": {},
   "source": [
    "- 一日に必要な米粒の数について\n",
    "１人１日に消費する米の量を「１合」と仮定する。\\\n",
    "「１合」に含まれる米粒の数をgoogleで検索。\n",
    "\n",
    "> 検索ワード「米粒 １合」\n",
    "\n",
    "- 検索した結果(https://www.tiger.jp/feature/ricecooker/curiosity/case/vol05.html#:~:text=%E3%81%8A%E7%B1%B31%E5%90%88%E3%81%AF%E4%BD%95%E7%B2%92%E3%81%8F%E3%82%89%E3%81%84%EF%BC%9F,%E3%81%A8%E3%81%84%E3%81%86%E3%81%93%E3%81%A8%E3%81%AB%E3%81%AA%E3%82%8A%E3%81%BE%E3%81%99%E3%80%82)\n",
    "\n",
    "> お米1合は何粒くらい？ 「ムシヤフナ＝64827」という言葉を聞いたことはありますか？ これは、江戸時代より伝わるとされる、一升（10合）分の米粒の数を示す語呂合わせです。 つまり1合の米粒はその1/10の、約6500粒ということになります。\n",
    "\n",
    "検索結果から、「6500」として計算する。"
   ]
  },
  {
   "cell_type": "code",
   "execution_count": 8,
   "metadata": {},
   "outputs": [],
   "source": [
    "KOME = 6500\n",
    "def suvival_day(kome,ninzu):\n",
    "    \"\"\"\n",
    "    \n",
    "    Parameteres\n",
    "    --------------\n",
    "     米粒の数 kome(int) \n",
    "     人数 ninzu(int)\n",
    "     \n",
    "    Returns\n",
    "    --------------\n",
    "    出力は 生活できる日数(int) \n",
    "    \"\"\"\n",
    "    total1 = KOME * ninzu\n",
    "    total2 = kome / total1\n",
    "    \n",
    "    return int(total2)"
   ]
  },
  {
   "cell_type": "code",
   "execution_count": 10,
   "metadata": {},
   "outputs": [
    {
     "name": "stdout",
     "output_type": "stream",
     "text": [
      "14606901052581492645803614797824日(4.001891e+28年)\n"
     ]
    }
   ],
   "source": [
    "_, list_rice_sum = compute_sorori_shinzaemon(day=120)\n",
    "day = suvival_day(list_rice_sum[-1], 14)\n",
    "print(\"{}日({:e}年)\".format(day, day/365))"
   ]
  },
  {
   "cell_type": "code",
   "execution_count": null,
   "metadata": {},
   "outputs": [],
   "source": []
  }
 ],
 "metadata": {
  "kernelspec": {
   "display_name": "Python 3",
   "language": "python",
   "name": "python3"
  },
  "language_info": {
   "codemirror_mode": {
    "name": "ipython",
    "version": 3
   },
   "file_extension": ".py",
   "mimetype": "text/x-python",
   "name": "python",
   "nbconvert_exporter": "python",
   "pygments_lexer": "ipython3",
   "version": "3.7.8"
  }
 },
 "nbformat": 4,
 "nbformat_minor": 4
}
