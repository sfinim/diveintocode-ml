{
 "cells": [
  {
   "cell_type": "markdown",
   "metadata": {},
   "source": [
    "以下のコンペについて、調査した内容を整理する。\n",
    "# [Real or Not? NLP with Disaster Tweets](https://www.kaggle.com/c/nlp-getting-started)\n",
    "\n",
    "## コンペについて\n",
    "Twitterを緊急時の重要なコミュニケーションツールとして、人々が災害を発信しているかどうか監視することに関心を持つ機関（災害救援機関や報道機関など）が増えている、という背景で開催されている。下記画像のように、「ABLAZE(燃え上がることを指す形容詞)」という言葉は比喩的表現である。人間にはその意味がすぐに理解できる(視覚的補助があればより明確になる)が、機械にとっては判別が難しい。\\\n",
    "自然言語処理(Natural Language Proccessing)のデータ分析入門者のためのコンペ。多くのNLP入門者がこのコンペを訪れる。\n",
    "<img src=\"https://storage.googleapis.com/kaggle-media/competitions/tweet_screenshot.png\" width=\"300\">\n",
    "\n",
    "#### なぜこのコンペを選択したか\n",
    "NLPに興味があるから。\n",
    "\n",
    "## データについて\n",
    "- 説明変数\n",
    "  - id:各ツイートの一意の識別子\n",
    "  - text:ツイートのテキスト\n",
    "  - location:ツイートの送信元の場所（空白の場合があります）\n",
    "  - keyword:ツイートの特定のキーワード（空白の場合があります）(※\"accident\"や\"aftershock\"など、ツイート中に含まれる災害かどうかを判断できそうな単語)\n",
    "- 目的変数\n",
    "  - terget:本当に災害かどうかの識別子。1が災害。0が災害ではない。\n",
    "  \n",
    "用意されているデータは全て英語。  \n",
    "  \n",
    "## 評価について\n",
    "予測値とラベルとの$F_1$値で判定する。\n",
    "\n",
    "データの提出形式は以下の通り。\n",
    "```\n",
    "id,target\n",
    "0,0\n",
    "2,0\n",
    "3,1\n",
    "9,0\n",
    "11,0\n",
    "```"
   ]
  },
  {
   "cell_type": "markdown",
   "metadata": {},
   "source": [
    "## 参照したノートブック\n",
    "### [NLP Getting Started Tutorial](https://www.kaggle.com/philculliton/nlp-getting-started-tutorial)\n",
    "\n",
    "#### なぜこのノートブックを選択したか\n",
    "NLPにおける機械学習は、近年はニューラルネットワーク(NN)を使用することが殆どである。\\\n",
    "カリキュラムでNNを扱わないうちにNNを用いないNLPの知見を高めたく、このノートブックはNNを用いずにモデルを作成・評価しているため。また、このノートブックの最終的な指標値が高く(コメントでそのように書いている人が多かった)、何かの参考になるかと思ったため。\n",
    "\n",
    "以下、コード部分はほぼノートブックのコピペ。"
   ]
  },
  {
   "cell_type": "code",
   "execution_count": 1,
   "metadata": {},
   "outputs": [],
   "source": [
    "import numpy as np # linear algebra\n",
    "import pandas as pd # data processing, CSV file I/O (e.g. pd.read_csv)\n",
    "from sklearn import feature_extraction, linear_model, model_selection, preprocessing"
   ]
  },
  {
   "cell_type": "code",
   "execution_count": 2,
   "metadata": {},
   "outputs": [],
   "source": [
    "train_df = pd.read_csv(\"train.csv\")\n",
    "test_df = pd.read_csv(\"test.csv\")"
   ]
  },
  {
   "cell_type": "markdown",
   "metadata": {},
   "source": [
    "内容を一部確認"
   ]
  },
  {
   "cell_type": "code",
   "execution_count": 13,
   "metadata": {},
   "outputs": [
    {
     "name": "stdout",
     "output_type": "stream",
     "text": [
      "[\"What's up man?\",\n",
      " 'I love fruits',\n",
      " 'Summer is lovely',\n",
      " 'My car is so fast',\n",
      " 'What a goooooooaaaaaal!!!!!!',\n",
      " 'this is ridiculous....',\n",
      " 'London is cool ;)',\n",
      " 'Love skiing',\n",
      " 'What a wonderful day!',\n",
      " 'LOOOOOOL']\n"
     ]
    }
   ],
   "source": [
    "import pprint\n",
    "\n",
    "pprint.pprint(list(train_df[train_df[\"target\"] == 0][\"text\"].values[0:10]))"
   ]
  },
  {
   "cell_type": "code",
   "execution_count": 14,
   "metadata": {},
   "outputs": [
    {
     "name": "stdout",
     "output_type": "stream",
     "text": [
      "['Our Deeds are the Reason of this #earthquake May ALLAH Forgive us all',\n",
      " 'Forest fire near La Ronge Sask. Canada',\n",
      " \"All residents asked to 'shelter in place' are being notified by officers. No \"\n",
      " 'other evacuation or shelter in place orders are expected',\n",
      " '13,000 people receive #wildfires evacuation orders in California ',\n",
      " 'Just got sent this photo from Ruby #Alaska as smoke from #wildfires pours '\n",
      " 'into a school ',\n",
      " '#RockyFire Update => California Hwy. 20 closed in both directions due to '\n",
      " 'Lake County fire - #CAfire #wildfires',\n",
      " '#flood #disaster Heavy rain causes flash flooding of streets in Manitou, '\n",
      " 'Colorado Springs areas',\n",
      " \"I'm on top of the hill and I can see a fire in the woods...\",\n",
      " \"There's an emergency evacuation happening now in the building across the \"\n",
      " 'street',\n",
      " \"I'm afraid that the tornado is coming to our area...\"]\n"
     ]
    }
   ],
   "source": [
    "pprint.pprint(list(train_df[train_df[\"target\"] == 1][\"text\"].values[0:10]))"
   ]
  },
  {
   "cell_type": "markdown",
   "metadata": {},
   "source": [
    "ノートブックで作成するモデルの理論としては、ツイート中に含まれる単語が実際の災害に関するものかを示すかどうかを指標とする。\\\n",
    "完全に正しいものではないが、開始の第一歩としては良いと述べている。\n",
    "\n",
    "scikit-learnのCountVectorizerを使用して、各ツイートの単語をカウントして機械学習モデルが処理できるデータ(ベクトル)に変換する。\\\n",
    "変換されたベクトルは\"Bag of Words\"と呼ばれる。"
   ]
  },
  {
   "cell_type": "code",
   "execution_count": 15,
   "metadata": {},
   "outputs": [
    {
     "name": "stdout",
     "output_type": "stream",
     "text": [
      "(1, 54)\n",
      "[[0 0 0 1 1 1 0 0 0 0 0 0 1 1 0 0 0 0 1 0 0 0 0 0 0 1 0 0 0 1 0 0 0 0 1 0\n",
      "  0 0 0 1 0 0 0 0 0 0 0 0 0 1 1 0 1 0]]\n"
     ]
    }
   ],
   "source": [
    "count_vectorizer = feature_extraction.text.CountVectorizer()\n",
    "\n",
    "## let's get counts for the first 5 tweets in the data\n",
    "example_train_vectors = count_vectorizer.fit_transform(train_df[\"text\"][0:5])\n",
    "\n",
    "## we use .todense() here because these vectors are \"sparse\" (only non-zero elements are kept to save space)\n",
    "print(example_train_vectors[0].todense().shape)\n",
    "print(example_train_vectors[0].todense())"
   ]
  },
  {
   "cell_type": "markdown",
   "metadata": {},
   "source": [
    "最初の5つのツイートには54のユニークな単語（または「トークン」）があることを示している。\n",
    "最初のツイートには、これらの一意のトークンの一部のみが含まれている。ゼロの部分はすべて、最初以外のツイートに存在するトークンである。\n",
    "\n",
    "全てのツイートについて変換する。"
   ]
  },
  {
   "cell_type": "code",
   "execution_count": 31,
   "metadata": {},
   "outputs": [
    {
     "name": "stdout",
     "output_type": "stream",
     "text": [
      "(1, 21637)\n",
      "(1, 21637)\n"
     ]
    }
   ],
   "source": [
    "train_vectors = count_vectorizer.fit_transform(train_df[\"text\"])\n",
    "\n",
    "## note that we're NOT using .fit_transform() here. Using just .transform() makes sure\n",
    "# that the tokens in the train vectors are the only ones mapped to the test vectors - \n",
    "# i.e. that the train and test vectors use the same set of tokens.\n",
    "test_vectors = count_vectorizer.transform(test_df[\"text\"])\n",
    "print(train_vectors[0].todense().shape)\n",
    "print(test_vectors[0].todense().shape)"
   ]
  },
  {
   "cell_type": "markdown",
   "metadata": {},
   "source": [
    "ツイート内の特定の単語（または単語のセット）の存在は、そのツイートが本当に災害であるかどうかに直接リンクする場合がある。\\\n",
    "これを線形接続と仮定し、線形モデルを作成してみる。\\\n",
    "使用するモデルは以下。\n",
    "\n",
    "[sklearn.linear_model.RidgeClassifier](https://scikit-learn.org/stable/modules/generated/sklearn.linear_model.RidgeClassifier.html)"
   ]
  },
  {
   "cell_type": "code",
   "execution_count": 18,
   "metadata": {},
   "outputs": [],
   "source": [
    "## Our vectors are really big, so we want to push our model's weights\n",
    "## toward 0 without completely discounting different words - ridge regression \n",
    "## is a good way to do this.\n",
    "clf = linear_model.RidgeClassifier()"
   ]
  },
  {
   "cell_type": "markdown",
   "metadata": {},
   "source": [
    "クロスバリデーション(CV)を用いてテストをする。ノートブックでは3回のCVを実施している。"
   ]
  },
  {
   "cell_type": "code",
   "execution_count": 22,
   "metadata": {},
   "outputs": [
    {
     "data": {
      "text/plain": [
       "array([0.59421842, 0.56455572, 0.64149093])"
      ]
     },
     "execution_count": 22,
     "metadata": {},
     "output_type": "execute_result"
    }
   ],
   "source": [
    "scores = model_selection.cross_val_score(clf, train_vectors, train_df[\"target\"], cv=3, scoring=\"f1\")\n",
    "scores"
   ]
  },
  {
   "cell_type": "markdown",
   "metadata": {},
   "source": [
    "0.65はノートブックによると悪くない値らしい。\\\n",
    "改善方法としてはTFIDF、LSA、LSTM / RNNなどが挙げられると書いてある。\n",
    "\n",
    "各単語について調べる。\n",
    "- TFIDF:\"Term Frequency / Inverse Document Frequency\"の略で、副詞など、文中に当たり前に出てくる語の頻度の偏りによる分析のずれを解消するための、Bag of Wordsの改良版。\n",
    "- LSA:\"Latent Semantic Analysis\"の略で、潜在的意味解析の意。単語ごとに意味的な分類分けをすることで次元削減ができる。\n",
    "- LSTM / RNN:Long Short Term Memory / Reccurent Neural Networkの略。深層学習の話です（雑）。"
   ]
  },
  {
   "cell_type": "markdown",
   "metadata": {},
   "source": [
    "以下はノートブックのモデルを真似した。"
   ]
  },
  {
   "cell_type": "code",
   "execution_count": 34,
   "metadata": {},
   "outputs": [],
   "source": [
    "clf_2 = linear_model.RidgeClassifier(alpha=1.0, class_weight=None, copy_X=True, fit_intercept=True,\n",
    "                                     max_iter=None, normalize=False, random_state=None,\n",
    "                                     solver='auto', tol=0.001)"
   ]
  },
  {
   "cell_type": "code",
   "execution_count": 28,
   "metadata": {},
   "outputs": [
    {
     "data": {
      "text/plain": [
       "array([0.59421842, 0.56455572, 0.64149093])"
      ]
     },
     "execution_count": 28,
     "metadata": {},
     "output_type": "execute_result"
    }
   ],
   "source": [
    "scores = model_selection.cross_val_score(clf_2, train_vectors, train_df[\"target\"], cv=3, scoring=\"f1\")\n",
    "scores"
   ]
  },
  {
   "cell_type": "code",
   "execution_count": 29,
   "metadata": {
    "scrolled": true
   },
   "outputs": [
    {
     "data": {
      "text/plain": [
       "RidgeClassifier()"
      ]
     },
     "execution_count": 29,
     "metadata": {},
     "output_type": "execute_result"
    }
   ],
   "source": [
    "clf_2.fit(train_vectors, train_df[\"target\"])"
   ]
  },
  {
   "cell_type": "code",
   "execution_count": 30,
   "metadata": {},
   "outputs": [],
   "source": [
    "sample_submission = pd.read_csv(\"sample_submission.csv\")\n",
    "sample_submission[\"target\"] = clf_2.predict(test_vectors)\n",
    "sample_submission.head()\n",
    "sample_submission.to_csv(\"submission.csv\", index=False)"
   ]
  },
  {
   "cell_type": "markdown",
   "metadata": {},
   "source": [
    "ノートブックは結果をcsv化して提出して終わりとなる。\\\n",
    "試しにTFIDFで学習させてCVしてみる。\\\n",
    "変換器はsklearnに用意されている。\n",
    "\n",
    "[sklearn.feature_extraction.text.TfidfVectorizer](https://scikit-learn.org/stable/modules/generated/sklearn.feature_extraction.text.TfidfVectorizer.html)"
   ]
  },
  {
   "cell_type": "code",
   "execution_count": 32,
   "metadata": {},
   "outputs": [
    {
     "name": "stdout",
     "output_type": "stream",
     "text": [
      "(1, 21637)\n",
      "(1, 21637)\n"
     ]
    }
   ],
   "source": [
    "tfidf_vectorizer = feature_extraction.text.TfidfVectorizer()\n",
    "\n",
    "train_vectors_tfidf = tfidf_vectorizer.fit_transform(train_df[\"text\"])\n",
    "test_vectors_tfidf = tfidf_vectorizer.transform(test_df[\"text\"])\n",
    "\n",
    "print(train_vectors_tfidf[0].todense().shape)\n",
    "print(test_vectors_tfidf[0].todense().shape)"
   ]
  },
  {
   "cell_type": "code",
   "execution_count": 56,
   "metadata": {},
   "outputs": [
    {
     "data": {
      "text/plain": [
       "array([0.63366337, 0.6122449 , 0.68442211])"
      ]
     },
     "execution_count": 56,
     "metadata": {},
     "output_type": "execute_result"
    }
   ],
   "source": [
    "scores = model_selection.cross_val_score(clf_2, train_vectors_tfidf, train_df[\"target\"], cv=3, scoring=\"f1\")\n",
    "scores"
   ]
  },
  {
   "cell_type": "markdown",
   "metadata": {},
   "source": [
    "スコアが4ポイントほど上がった。モデルの仕組みを分かってないので考察が出来ない。\\\n",
    "とりあえず、LSAも試してみる。削減後の次元数も何パターンか試してみる。"
   ]
  },
  {
   "cell_type": "code",
   "execution_count": 53,
   "metadata": {},
   "outputs": [
    {
     "data": {
      "text/plain": [
       "(7613, 21637)"
      ]
     },
     "execution_count": 53,
     "metadata": {},
     "output_type": "execute_result"
    }
   ],
   "source": [
    "# 元データの次元数を確認\n",
    "train_vectors.shape"
   ]
  },
  {
   "cell_type": "code",
   "execution_count": 58,
   "metadata": {
    "scrolled": true
   },
   "outputs": [
    {
     "name": "stdout",
     "output_type": "stream",
     "text": [
      "dimension:2 score(MAX):0.46949891067538124\n",
      "dimension:5 score(MAX):0.5109170305676856\n",
      "dimension:10 score(MAX):0.5643410852713179\n",
      "dimension:30 score(MAX):0.6314285714285715\n",
      "dimension:50 score(MAX):0.6154598825831703\n",
      "dimension:100 score(MAX):0.6531850353892821\n",
      "dimension:150 score(MAX):0.6546577457539886\n",
      "dimension:200 score(MAX):0.6352201257861635\n",
      "dimension:300 score(MAX):0.6965725806451613\n",
      "dimension:400 score(MAX):0.6745796241345203\n",
      "dimension:500 score(MAX):0.6242587601078168\n",
      "dimension:1000 score(MAX):0.6525708793849111\n",
      "dimension:1500 score(MAX):0.6132075471698114\n",
      "dimension:2000 score(MAX):0.6279707495429616\n",
      "dimension:3000 score(MAX):0.5794481446241675\n",
      "dimension:5000 score(MAX):0.6078998073217726\n",
      "dimension:10000 score(MAX):0.6408243375858684\n"
     ]
    }
   ],
   "source": [
    "from sklearn.decomposition import TruncatedSVD\n",
    "\n",
    "# 区切りはテキトーです\n",
    "list_dimension = [2, 5, 10, 30, 50, 100, 150, 200, 300, 400, 500, 1000, 1500, 2000, 3000, 5000, 10000]\n",
    "\n",
    "list_score = []\n",
    "for dimension in list_dimension:\n",
    "\n",
    "    # n_componentsに削減後の次元数を指定\n",
    "    svd = TruncatedSVD(n_components=dimension, random_state=42)\n",
    "    svd.fit(train_vectors)\n",
    "\n",
    "    decomposed_features = svd.transform(train_vectors)\n",
    "\n",
    "    scores = model_selection.cross_val_score(clf_2, decomposed_features, train_df[\"target\"], cv=3, scoring=\"f1\")\n",
    "    list_score.append(scores.max())\n",
    "    \n",
    "    # CVの結果は最大値のみ表示\n",
    "    print(\"dimension:{} score(MAX):{}\".format(dimension, scores.max()))"
   ]
  },
  {
   "cell_type": "code",
   "execution_count": 69,
   "metadata": {},
   "outputs": [
    {
     "data": {
      "image/png": "[encoded data removed]",
      "text/plain": [
       "<Figure size 576x288 with 1 Axes>"
      ]
     },
     "metadata": {
      "needs_background": "light"
     },
     "output_type": "display_data"
    }
   ],
   "source": [
    "import matplotlib.pyplot as plt\n",
    "%matplotlib inline\n",
    "\n",
    "plt.figure(figsize=(8, 4))\n",
    "plt.xlabel(\"number:list_dimension\")\n",
    "plt.ylabel(\"score\")\n",
    "x = range(len(list_score))\n",
    "plt.plot(x, list_score)\n",
    "\n",
    "plt.show()"
   ]
  },
  {
   "cell_type": "markdown",
   "metadata": {},
   "source": [
    "設定するのにちょうどよい次元数があるかもしれない。\\\n",
    "1000あたりから処理時間が長くなってくる。"
   ]
  },
  {
   "cell_type": "code",
   "execution_count": 70,
   "metadata": {},
   "outputs": [
    {
     "name": "stdout",
     "output_type": "stream",
     "text": [
      "dimension:100 score(MAX):0.6531850353892821\n",
      "dimension:150 score(MAX):0.6546577457539886\n",
      "dimension:200 score(MAX):0.6352201257861635\n",
      "dimension:250 score(MAX):0.6442105263157895\n",
      "dimension:300 score(MAX):0.6965725806451613\n",
      "dimension:350 score(MAX):0.6929870129870129\n",
      "dimension:400 score(MAX):0.6745796241345203\n",
      "dimension:450 score(MAX):0.6650222002960039\n"
     ]
    }
   ],
   "source": [
    "# 100から500の間でもう一度\n",
    "list_dimension_2 = range(100, 500, 50)\n",
    "\n",
    "list_score_2 = []\n",
    "for dimension in list_dimension_2:\n",
    "\n",
    "    # n_componentsに削減後の次元数を指定\n",
    "    svd = TruncatedSVD(n_components=dimension, random_state=42)\n",
    "\n",
    "    decomposed_features = svd.fit_transform(train_vectors)\n",
    "\n",
    "    scores = model_selection.cross_val_score(clf_2, decomposed_features, train_df[\"target\"], cv=3, scoring=\"f1\")\n",
    "    list_score_2.append(scores.max())\n",
    "    \n",
    "    # CVの結果は最大値のみ表示\n",
    "    print(\"dimension:{} score(MAX):{}\".format(dimension, scores.max()))"
   ]
  },
  {
   "cell_type": "code",
   "execution_count": 71,
   "metadata": {},
   "outputs": [
    {
     "data": {
      "image/png": "[encoded data removed]",
      "text/plain": [
       "<Figure size 576x288 with 1 Axes>"
      ]
     },
     "metadata": {
      "needs_background": "light"
     },
     "output_type": "display_data"
    }
   ],
   "source": [
    "plt.figure(figsize=(8, 4))\n",
    "plt.xlabel(\"number:list_dimension\")\n",
    "plt.ylabel(\"score\")\n",
    "x = range(len(list_score_2))\n",
    "plt.plot(x, list_score_2)\n",
    "\n",
    "plt.show()"
   ]
  },
  {
   "cell_type": "code",
   "execution_count": 72,
   "metadata": {},
   "outputs": [
    {
     "name": "stdout",
     "output_type": "stream",
     "text": [
      "dimension:250 score(MAX):0.6442105263157895\n",
      "dimension:260 score(MAX):0.6635367762128325\n",
      "dimension:270 score(MAX):0.6928972917731221\n",
      "dimension:280 score(MAX):0.6937119675456389\n",
      "dimension:290 score(MAX):0.6774025974025975\n",
      "dimension:300 score(MAX):0.6965725806451613\n",
      "dimension:310 score(MAX):0.6932515337423312\n",
      "dimension:320 score(MAX):0.6939807789580172\n",
      "dimension:330 score(MAX):0.6926582278481014\n",
      "dimension:340 score(MAX):0.6473684210526315\n"
     ]
    }
   ],
   "source": [
    "# 250から350の間でもう一度\n",
    "list_dimension_3 = range(250, 350, 10)\n",
    "\n",
    "list_score_3 = []\n",
    "for dimension in list_dimension_3:\n",
    "\n",
    "    # n_componentsに削減後の次元数を指定\n",
    "    svd = TruncatedSVD(n_components=dimension, random_state=42)\n",
    "\n",
    "    decomposed_features = svd.fit_transform(train_vectors)\n",
    "\n",
    "    scores = model_selection.cross_val_score(clf_2, decomposed_features, train_df[\"target\"], cv=3, scoring=\"f1\")\n",
    "    list_score_3.append(scores.max())\n",
    "    \n",
    "    # CVの結果は最大値のみ表示\n",
    "    print(\"dimension:{} score(MAX):{}\".format(dimension, scores.max()))"
   ]
  },
  {
   "cell_type": "code",
   "execution_count": 73,
   "metadata": {},
   "outputs": [
    {
     "data": {
      "image/png": "[encoded data removed]",
      "text/plain": [
       "<Figure size 576x288 with 1 Axes>"
      ]
     },
     "metadata": {
      "needs_background": "light"
     },
     "output_type": "display_data"
    }
   ],
   "source": [
    "plt.figure(figsize=(8, 4))\n",
    "plt.xlabel(\"number:list_dimension\")\n",
    "plt.ylabel(\"score\")\n",
    "x = range(len(list_score_3))\n",
    "plt.plot(x, list_score_3)\n",
    "\n",
    "plt.show()"
   ]
  },
  {
   "cell_type": "markdown",
   "metadata": {},
   "source": [
    "次元数の削減は大体で良さそうかもしれない。データによるのかもしれないが、頭打ちになる。\\\n",
    "今回、最も性能が良かった次元数300でテストデータを変換し、Kaggleに提出して終わる。"
   ]
  },
  {
   "cell_type": "code",
   "execution_count": 78,
   "metadata": {},
   "outputs": [],
   "source": [
    "svd = TruncatedSVD(n_components=300, random_state=42)\n",
    "decomposed_features_train = svd.fit_transform(train_vectors)\n",
    "decomposed_features_test = svd.transform(test_vectors)\n",
    "\n",
    "clf_2.fit(decomposed_features_train, train_df[\"target\"])\n",
    "\n",
    "sample_submission = pd.read_csv(\"sample_submission.csv\")\n",
    "sample_submission[\"target\"] = clf_2.predict(decomposed_features_test)\n",
    "sample_submission.head()\n",
    "sample_submission.to_csv(\"submission_2.csv\", index=False)"
   ]
  },
  {
   "cell_type": "markdown",
   "metadata": {},
   "source": [
    "##### 結果\n",
    "- score:0.77781\n",
    "- 順位:1218/1559\n",
    "\n",
    "上位70人ほどのスコアは1.0。完全に分類できる問題らしい。"
   ]
  },
  {
   "cell_type": "markdown",
   "metadata": {},
   "source": [
    "##### 考察\n",
    "- 今回は説明変数として\"text\"のみを使用した。他の説明変数と合わせて学習・検証するためには、やはりNNでモデル構築をしなければならないのかと考えている(次元削減しても次元数が多すぎるため、他の特徴量がむしろノイズにならないかを懸念)。\n",
    "- NNを使用しないならば、ルールベースでtextから単語を抽出してラベリングすれば新しい特徴量が生成できると思うので、それをもとに学習・検証しても良さそう。(NNを優先して試したいので、今は実施する予定は無い)\n",
    "- 文章を特徴量とするデータについて、機械学習の結果としてラベル付を行ったものを新たな特徴量として機械学習を行う場合、ラベル付を行うモデルの制度としてはどのくらいの性能が求められるのだろうか。"
   ]
  },
  {
   "cell_type": "markdown",
   "metadata": {},
   "source": [
    "#### 今回使用したRidgeClassifierについて\n",
    "参考記事→[リッジ回帰とラッソ回帰の理論と実装を初めから丁寧に](https://qiita.com/Takayoshi_Makabe/items/8f6dcb25124b9dcb1ae8)\n",
    "\n",
    "重回帰分析では損失関数に最小二乗法を用いているが、損失関数に正則化項として回帰係数(重み)の$L_2$ノルムの二乗にハイパーパラメータをかけたものを加えたものをリッジ回帰と呼ぶ。$L_1$ノルムだとラッソ回帰と呼ばれる。\n",
    "\n",
    "損失関数が他のモデルと異なるだけのことであれば、今回の場合だと他の線形モデルで色々試してみても良いかもしれない。"
   ]
  }
 ],
 "metadata": {
  "kernelspec": {
   "display_name": "Python 3",
   "language": "python",
   "name": "python3"
  },
  "language_info": {
   "codemirror_mode": {
    "name": "ipython",
    "version": 3
   },
   "file_extension": ".py",
   "mimetype": "text/x-python",
   "name": "python",
   "nbconvert_exporter": "python",
   "pygments_lexer": "ipython3",
   "version": "3.7.8"
  }
 },
 "nbformat": 4,
 "nbformat_minor": 4
}
