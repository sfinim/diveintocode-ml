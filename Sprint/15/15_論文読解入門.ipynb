{
 "cells": [
  {
   "cell_type": "markdown",
   "metadata": {},
   "source": [
    "## 論文読解\n",
    "\n",
    "以下の論文を読み問題に答えてください。CNNを使った物体検出（Object Detection）の代表的な研究です。\n",
    "\n",
    "\\[8\\]Ren, S., He, K., Girshick, R., Sun, J.: Faster r-cnn: Towards real-time object detection with region proposal networks. In: Advances in neural information processing systems. (2015) 91–99\n",
    "\n",
    "[https://arxiv.org/pdf/1506.01497.pdf](https://arxiv.org/pdf/1506.01497.pdf)\n",
    "\n",
    "### 問題\n",
    "それぞれについてJupyter Notebookにマークダウン形式で記述してください。\n",
    "\n",
    "(1) 物体検出の分野にはどういった手法が存在したか。\n",
    "\n",
    "(2) Fasterとあるが、どういった仕組みで高速化したのか。\n",
    "\n",
    "(3) One-Stageの手法とTwo-Stageの手法はどう違うのか。\n",
    "\n",
    "(4) RPNとは何か。\n",
    "\n",
    "(5) RoIプーリングとは何か。\n",
    "\n",
    "(6) Anchorのサイズはどうするのが適切か。\n",
    "\n",
    "(7) 何というデータセットを使い、先行研究に比べどういった指標値が得られているか。\n",
    "\n",
    "(8) （アドバンス課題）Faster R-CNNよりも新しい物体検出の論文では、Faster R-CNNがどう引用されているか。\n",
    "\n",
    "### 条件\n",
    "- 答える際は論文のどの部分からそれが分かるかを書く。\n",
    "- 必要に応じて先行研究（引用されている論文）も探しにいく。最低2つは他の論文を利用して回答すること。\n",
    "- 論文の紹介記事を見ても良い。ただし、答えは論文内に根拠を探すこと。"
   ]
  },
  {
   "cell_type": "markdown",
   "metadata": {},
   "source": [
    "### (1) 物体検出の分野にはどういった手法が存在したか。\n",
    "#### 「1. INTRODUCTION」より\n",
    "- 領域ベースのCNN（RCNN）\n",
    "- SPPnet\n",
    "- Fast R-CNN"
   ]
  },
  {
   "cell_type": "markdown",
   "metadata": {},
   "source": [
    "### (2) Fasterとあるが、どういった仕組みで高速化したのか。\n",
    "#### 「3. FASTER R-CNN」より\n",
    "Faster R-CNNは２つのモジュールから構成される。\n",
    "1. 物体候補を挙げる全層畳み込みネットワーク\n",
    "2. 候補として挙げられた物体を使用するFast R-CNN 検出器\n",
    "\n",
    "RPNのスライド窓で挙げられる候補のかたまりを「アンカー」と呼ぶ。\n",
    "\n",
    "アンカーと、アンカーに関連して検出候補を計算する関数のTranslation-Invariant特性でモデルサイズを削減したことにより、高速化した。\n",
    "\n",
    "少ないデータセットでは過学習が起こる可能性があることを懸念しなければならない。"
   ]
  },
  {
   "cell_type": "markdown",
   "metadata": {},
   "source": [
    "### (3)One-Stageの手法とTwo-Stageの手法はどう違うのか。\n",
    "#### 「10ページ One-Stage Detection vs. Two-Stage Proposal + Detectionより」\n",
    "- One-Stage：クラス固有の検出パイプライン\n",
    "  - OverFeat[(参考文献[9])](https://arxiv.org/pdf/1312.6229.pdf)：領域ごとの特徴はスケールピラミッド上の1つのアスペクト比のスライディングウィンドウから取得される。これらの特徴はオブジェクトの場所とカテゴリを同時に決定するために使用される。\n",
    "  - RPN：特徴は正方形（3x3）のスライディングウィンドウからのものであり、異なるスケールとアスペクト比のアンカーに関連する候補を予測する。\n",
    "\n",
    "\n",
    "- Two-Stage：クラスにとらわれない候補抽出とクラス固有の検出を流れで行う。\n",
    "  1. 領域の候補抽出を行う。\n",
    "  2. 領域の特徴をより忠実にカバーする候補ボックスから領域ごとの特徴が適応的にプールされる。\n"
   ]
  },
  {
   "cell_type": "markdown",
   "metadata": {},
   "source": [
    "### (4) RPNとは何か。\n",
    "#### 「3.1 Region Proposal Networks」より\n",
    "任意のサイズの画像を入力として受け取り、それぞれが物体の存在確率を持つ長方形の物体検出を出力するネットワーク。畳み込みネットワークによって構成される。"
   ]
  },
  {
   "cell_type": "markdown",
   "metadata": {},
   "source": [
    "### (5) RoIプーリングとは何か。\n",
    "#### 「3.1.2 Loss Functionより」\n",
    "RoI：Region of Interest(関心領域)\n",
    "\n",
    "#### 「[参考文献[2](R. Girshick, “Fast R-CNN,” in IEEE International Conference on Computer Vision (ICCV), 2015.)](https://arxiv.org/pdf/1504.08083.pdf) より」\n",
    "最大プーリングを使用して、有効な関心領域内の特徴をH×Wの固定空間範囲（たとえば、7×7）の小さな特徴マップに変換する。"
   ]
  },
  {
   "cell_type": "markdown",
   "metadata": {},
   "source": [
    "### (6) Anchorのサイズはどうするのが適切か。\n",
    "#### 「9ページ Sensitivities to Hyper-parameters. より」\n",
    "複数スケールのアンカーを使用すると良い結果になる。柔軟性を持たせるために、アスペクト比を複数にしても良い。"
   ]
  },
  {
   "cell_type": "markdown",
   "metadata": {},
   "source": [
    "### (7) 何というデータセットを使い、先行研究に比べどういった指標値が得られているか。\n",
    "#### 「4.2 Experiments on MS COCOより」\n",
    "データセット：Microsoft COCO\n",
    "\n",
    "先行研究であるFast R-CNNよりも、COCOの標準指標で2.2%、PASCAL VOCの指標で2.8%高い指標が得られた。\n"
   ]
  },
  {
   "cell_type": "markdown",
   "metadata": {},
   "source": [
    "### (8) （アドバンス課題）Faster R-CNNよりも新しい物体検出の論文では、Faster R-CNNがどう引用されているか。\n",
    "\n",
    "#### 回答なし"
   ]
  }
 ],
 "metadata": {
  "kernelspec": {
   "display_name": "Python 3",
   "language": "python",
   "name": "python3"
  },
  "language_info": {
   "codemirror_mode": {
    "name": "ipython",
    "version": 3
   },
   "file_extension": ".py",
   "mimetype": "text/x-python",
   "name": "python",
   "nbconvert_exporter": "python",
   "pygments_lexer": "ipython3",
   "version": "3.7.8"
  }
 },
 "nbformat": 4,
 "nbformat_minor": 4
}
