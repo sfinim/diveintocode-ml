{
 "cells": [
  {
   "cell_type": "markdown",
   "metadata": {},
   "source": [
    "## 決定木学習とは\n",
    "決定木学習は 決定木 と呼ばれる 木構造のグラフ を作る機械学習手法です。機械学習の分野では学習手法も単に「決定木」と呼ばれます。\n",
    "\n",
    "分類にも回帰にも使え、分類の場合3クラス以上の多値分類が可能です。ここでは基本となる分類のみを扱います。\n",
    "\n",
    "#### 決定木とは\n",
    "決定木は、属性 と 値 の組｛属性1：値1，属性2：値2, 属性3：値3,…，属性n：値n｝によって表現されたデータを、条件分岐を繰り返すことであるクラスに割り当てることができる木構造のグラフです。\n",
    "\n",
    "以下の例は会場の気温という属性の値によって、開催と中止のクラスに割り当てるグラフです。「会場の気温という属性の値は35以上かどうか」という条件分岐1回による決定木による分類が行えます。例えば36度がこの決定木にインプットされれば、中止というアウトプット（判断）ができます。\n",
    "\n",
    "<img src=\"https://t.gyazo.com/teams/diveintocode/ca1760b9db2eff08bc82102db1bf7eea.png\" width=\"400\">\n",
    "\n",
    "なお、「属性と値」は機械学習の分野では「特徴量の名前と特徴量の値」のことです。これ以降は単に特徴量という呼びます。\n",
    "\n",
    "#### 各種用語\n",
    "もう少し複雑な例で決定木で重要な用語を確認します。特徴量が「雨量」「屋内かどうか」「風の強さ」の3種類で、イベントの開催か中止かを分類する場合で考えてみます。訓練データを学習することで、以下のような決定木が作れます。\n",
    "\n",
    "<img src=\"https://t.gyazo.com/teams/diveintocode/c927a798dc2292cc05663301dde78632.png\" width=\"400\">\n",
    "\n",
    "丸で囲われたひとつひとつを ノード と呼びます。ノードには親子関係を考えることができ、例えば(0)のノードは(1)(2)(3)のノードの 親ノード と呼びます。逆に、(1)(2)(3)のノードは(0)のノードの 子ノード と呼びます。\n",
    "\n",
    "一番上の(0)は 根ノード 、 末端の(1)(4)(5)(7)(8)(9)のような分類結果を表すノードは 葉ノード と呼びます。\n",
    "\n",
    "条件分岐の矢印は エッジ と呼びます。あるノードから根ノードまでのエッジの数が 深さ です。(3)の深さは1、(6)の深さは2、(9)の深さは3という風になります。この決定木の最大の深さは3です。\n",
    "\n",
    "これは(0)に対して(1)(2)(3)の3つのノードが分かれている多岐分岐の決定木ですが、機械学習では2つにしか分かれないものが一般的です。学習時の複雑さを減らすためです。\n",
    "\n",
    "#### どう決定木を作るか\n",
    "決定木の学習には様々なやり方が存在しますが、その中のある方法についてスクラッチを行いながら見ていきます。\n",
    "\n",
    "学習方法やハイパーパラメータ、訓練データ次第で作られる決定木は異なってきます。\n",
    "\n",
    "#### 推定を考える\n",
    "以下の場合、イベントは開催されるでしょうか。決定木を使って判断してください。\n",
    "\n",
    "|雨量[mm]|屋内かどうか|風の強さ[m/s]|\n",
    "|---|---|---|\n",
    "|2.5|1（屋内）|5|\n",
    "\n",
    "答えは「開催」です。以下の赤線の順でたどっていきます。\n",
    "\n",
    "<img src=\"https://t.gyazo.com/teams/diveintocode/3abf4302fd28b9c58e9c4f86e5878661.png\" width=\"400\">\n",
    "\n",
    "これが決定木による推定の操作になります。\n",
    "\n",
    "#### 扱える特徴量\n",
    "決定木は理論上は量的変数だけでなく、カテゴリ変数も扱えます。しかし、scikit-learnの実装では量的変数のみに対応していますので、スクラッチ実装もそのように作成します。上記の例ですと「会場の種類」で「屋内と屋外」ですとカテゴリ変数ですが、「屋内かどうか」で「0と1」と量的変数にすることで扱えるようにしています。\n",
    "\n",
    "## 決定木スクラッチ\n",
    "分類のための決定木のクラスをスクラッチで作成していきます。NumPyなど最低限のライブラリのみを使いアルゴリズムを実装していきます。\n",
    "\n",
    "決定木の学習には何回まで条件分岐を繰り返すかを表す （最大の）深さ というハイパーパラメータが登場しますが、深さ1の実装を必須課題とします。深さが2以上のものはアドバンス課題とします。\n",
    "\n",
    "学習の仕方には様々な方法がありますが、ここではscikit-learnでも使用されている CART法 をベースとした実装を行います。この方法では学習の複雑さを減らすために、 分岐は2つに分かれるのみ になります。\n",
    "\n",
    "以下に雛形を用意してあります。このScratchDecesionTreeClassifierDepth1クラスにコードを書き加えていってください。\n",
    "\n",
    "《雛形》\n",
    "```\n",
    "class ScratchDecesionTreeClassifierDepth1():\n",
    "    \"\"\"\n",
    "    深さ1の決定木分類器のスクラッチ実装\n",
    "\n",
    "    Parameters\n",
    "    ----------\n",
    "    verbose : bool\n",
    "      学習過程を出力する場合はTrue\n",
    "    \"\"\"\n",
    "    def __init__(self, verbose=False):\n",
    "        # ハイパーパラメータを属性として記録\n",
    "        self.verbose = verbose\n",
    "    def fit(self, X, y):\n",
    "        \"\"\"\n",
    "        決定木分類器を学習する\n",
    "        Parameters\n",
    "        ----------\n",
    "        X : 次の形のndarray, shape (n_samples, n_features)\n",
    "            訓練データの特徴量\n",
    "        y : 次の形のndarray, shape (n_samples, )\n",
    "            訓練データの正解値\n",
    "        \"\"\"\n",
    "        if self.verbose:\n",
    "            #verboseをTrueにした際は学習過程を出力\n",
    "            print()\n",
    "        pass\n",
    "    def predict(self, X):\n",
    "        \"\"\"\n",
    "        決定木分類器を使いラベルを推定する\n",
    "        \"\"\"\n",
    "        pass\n",
    "        return\n",
    "```"
   ]
  },
  {
   "cell_type": "markdown",
   "metadata": {},
   "source": [
    "#### 分割の条件を学習で求める\n",
    "学習によって、ノードをどういった条件で分割すると、うまく分けられるかということを求めます。\n",
    "\n",
    "うまく分けられていることを判定するためにノードに対してジニ不純度と情報利得という値を計算します。"
   ]
  },
  {
   "cell_type": "code",
   "execution_count": 1,
   "metadata": {},
   "outputs": [],
   "source": [
    "import numpy as np"
   ]
  },
  {
   "cell_type": "code",
   "execution_count": 2,
   "metadata": {},
   "outputs": [],
   "source": [
    "class ScratchDecesionTreeClassifierDepth1():\n",
    "    \"\"\"\n",
    "    深さ1の決定木分類器のスクラッチ実装\n",
    "\n",
    "    Parameters\n",
    "    ----------\n",
    "    verbose : bool\n",
    "      学習過程を出力する場合はTrue\n",
    "    threshold_ : list(len(2))\n",
    "      ノードの閾値(0:特徴量のインデックス, 1:大きさ)\n",
    "    labels_ : 分類ラベル\n",
    "    \"\"\"\n",
    "    def __init__(self, verbose=False):\n",
    "        # ハイパーパラメータを属性として記録\n",
    "        self.verbose = verbose\n",
    "        \n",
    "    def fit(self, X, y):\n",
    "        \"\"\"\n",
    "        決定木分類器を学習する\n",
    "        Parameters\n",
    "        ----------\n",
    "        X : 次の形のndarray, shape (n_samples, n_features)\n",
    "            訓練データの特徴量\n",
    "        y : 次の形のndarray, shape (n_samples, )\n",
    "            訓練データの正解値\n",
    "        \"\"\"\n",
    "        list_info_gain = []\n",
    "        list_node = []\n",
    "        list_threshold = []\n",
    "\n",
    "        labels = np.unique(y)\n",
    "        self.label_ = labels\n",
    "        # 特徴量分繰り返す\n",
    "        for i in range(X.shape[1]):\n",
    "            samples = np.unique(X[:, i])\n",
    "\n",
    "            # サンプル数分繰り返す\n",
    "            for threshold in samples:\n",
    "                dict_class_sample_left = {}\n",
    "                dict_class_sample_right = {}\n",
    "\n",
    "                # 閾値とした特徴量で分割する\n",
    "                sample_left = X[X[:, i] > threshold]\n",
    "                label_left = y[X[:, i] > threshold]\n",
    "                sample_right = X[X[:, i] <= threshold]\n",
    "                label_right = y[X[:, i] <= threshold]\n",
    "\n",
    "                # 境界になる特徴量のインデックスと閾値を保持しておく\n",
    "                list_threshold.append([i, threshold])\n",
    "\n",
    "                # 左ノードの情報を作成\n",
    "                tmp = np.where(label_left == labels[0], True, False)\n",
    "                dict_class_sample_left[labels[0]] = len(sample_left[tmp])\n",
    "                tmp = np.where(label_left == labels[1], True, False)        \n",
    "                dict_class_sample_left[labels[1]] = len(sample_left[tmp])\n",
    "                # 右ノードの情報を作成\n",
    "                tmp = np.where(label_right == labels[0], True, False)\n",
    "                dict_class_sample_right[labels[0]] = len(sample_right[tmp])\n",
    "                tmp = np.where(label_right == labels[1], True, False)        \n",
    "                dict_class_sample_right[labels[1]] = len(sample_right[tmp])\n",
    "\n",
    "                # 各リストに追加\n",
    "                list_node.append([dict_class_sample_left, dict_class_sample_right])\n",
    "                list_info_gain.append(self._information_gain(dict_class_sample_left, dict_class_sample_right))\n",
    "\n",
    "        # IGが最も大きい分割の組み合わせを選択\n",
    "        # (IGが同値ならばインデックスが小さいものを優先)\n",
    "        list_info_gain = np.array(list_info_gain)\n",
    "        max_ig = list_info_gain.max()\n",
    "        index_selected_threshold = np.where(list_info_gain == max_ig)[0].min()\n",
    "        self.threshold_ = list_threshold[index_selected_threshold]\n",
    "\n",
    "# 気が散るのでコメントアウトしておく…\n",
    "#         if self.verbose:\n",
    "#             #verboseをTrueにした際は学習過程を出力\n",
    "#             print()\n",
    "#         pass\n",
    "    \n",
    "    def predict(self, X):\n",
    "        \"\"\"\n",
    "        決定木分類器を使いラベルを推定する\n",
    "        X : 次の形のndarray, shape (n_samples, n_features)\n",
    "            データの特徴量\n",
    "        \"\"\"\n",
    "        index_bool = np.where(X[:, self.threshold_[0]] > self.threshold_[1], True, False)\n",
    "        \n",
    "        return np.where(index_bool, self.label_[1], self.label_[0])\n",
    "    \n",
    "    def _ginis_diversity_index(self, dict_class_sample):\n",
    "        \"\"\"\n",
    "        ジニ係数を計算する\n",
    "\n",
    "        Parameters\n",
    "        ----------\n",
    "        dict_class_sample : クラスとサンプル数を紐付けた辞書型\n",
    "        keyがクラス、valueが各クラスのサンプル数\n",
    "        \"\"\"\n",
    "        N = sum(dict_class_sample.values())\n",
    "\n",
    "        tmp_sum = 0\n",
    "        for i in dict_class_sample.keys():\n",
    "            tmp_sum += (dict_class_sample[i]/N)**2\n",
    "        I_t = 1 - tmp_sum\n",
    "        \n",
    "        return I_t\n",
    "    \n",
    "    def _information_gain(self, dict_class_sample_left, dict_class_sample_right):\n",
    "        \"\"\"\n",
    "        情報利得を計算する\n",
    "\n",
    "        Parameters\n",
    "        ----------\n",
    "        dict_class_sample_left : クラスとサンプル数を紐付けた辞書型(左ノード)\n",
    "        dict_class_sample_right : クラスとサンプル数を紐付けた辞書型(右ノード)\n",
    "        keyがクラス、valueが各クラスのサンプル数\n",
    "        \"\"\"\n",
    "        p_samples = np.array(list(dict_class_sample_left.values())) + np.array(list(dict_class_sample_right.values()))\n",
    "        dict_class_sample_p = dict(zip(list(dict_class_sample_left.keys()), p_samples)) \n",
    "\n",
    "        N_p_all = sum(list(dict_class_sample_p.values()))\n",
    "        N_left_all = sum(list(dict_class_sample_left.values()))\n",
    "        N_right_all = sum(list(dict_class_sample_right.values()))\n",
    "\n",
    "        rate_left = N_left_all/N_p_all\n",
    "        rate_right = N_right_all/N_p_all\n",
    "\n",
    "        if rate_left != 0:\n",
    "            gini_left = self._ginis_diversity_index(dict_class_sample_left)\n",
    "        else:\n",
    "            gini_left = 0\n",
    "\n",
    "        if rate_right != 0:\n",
    "            gini_right = self._ginis_diversity_index(dict_class_sample_right)\n",
    "        else:\n",
    "            gini_right = 0\n",
    "\n",
    "        IG = self._ginis_diversity_index(dict_class_sample_p) - rate_left*gini_left - rate_right*gini_right\n",
    "\n",
    "        return IG\n"
   ]
  },
  {
   "cell_type": "markdown",
   "metadata": {},
   "source": [
    "### 【問題1】不純度を求める関数\n",
    "ノード の ジニ不純度 を計算する関数を作成してください。ノード $t$ に対するジニ不純度 $I(t)$ は以下の数式で求まります。クラスが混じり合っているほどジニ不純度は高くなります。\n",
    "\n",
    "$$\n",
    "I(t)=1-\\sum_{i=1}^KP^2(C_i|t)=1-\\sum_{i=1}^K(\\frac{N_{t,i}}{N_{t,all}})^2\n",
    "$$\n",
    "\n",
    "$t$ : ノードのインデックス\n",
    "\n",
    "$i$ : クラスのインデックス\n",
    "\n",
    "$K$ : クラスの数\n",
    "\n",
    "$C_i$ : i番目のクラス\n",
    "\n",
    "$P(C_i|t)$ :　t番目のノードにおける$C_i$の割合\n",
    "\n",
    "$N_{t,i}$ : t番目のノードのi番目のクラスに属するサンプル数\n",
    "\n",
    "$N_{t,all}$ : t番目のノードのサンプルの総数\n",
    "\n",
    "まずは簡単な例を作り、手計算と関数の結果を比較してください。\n",
    "\n",
    "《例》\n",
    "\n",
    "クラス1:サンプル数15, クラス2:サンプル数15 → ジニ不純度0.500\n",
    "\n",
    "クラス1:サンプル数15, クラス2:サンプル数15, クラス3:サンプル数15 → ジニ不純度0.667\n",
    "\n",
    "クラス1:サンプル数18, クラス2:サンプル数12 → ジニ不純度0.480\n",
    "\n",
    "クラス1:サンプル数30, クラス2:サンプル数0 → ジニ不純度0.000"
   ]
  },
  {
   "cell_type": "markdown",
   "metadata": {},
   "source": [
    "- 引数の決定\n",
    "  - クラスとサンプル数を紐付けた辞書型(dict_class_sample)"
   ]
  },
  {
   "cell_type": "code",
   "execution_count": 3,
   "metadata": {},
   "outputs": [
    {
     "data": {
      "text/plain": [
       "0.5"
      ]
     },
     "execution_count": 3,
     "metadata": {},
     "output_type": "execute_result"
    }
   ],
   "source": [
    "# 検算1\n",
    "dict_class_sample = {1: 15, 2: 15}\n",
    "\n",
    "N = sum(dict_class_sample.values())\n",
    "\n",
    "tmp_sum = 0\n",
    "for i in dict_class_sample.keys():\n",
    "    tmp_sum += (dict_class_sample[i]/N)**2\n",
    "I_t = 1 - tmp_sum\n",
    "I_t"
   ]
  },
  {
   "cell_type": "code",
   "execution_count": 4,
   "metadata": {},
   "outputs": [
    {
     "data": {
      "text/plain": [
       "0.6666666666666667"
      ]
     },
     "execution_count": 4,
     "metadata": {},
     "output_type": "execute_result"
    }
   ],
   "source": [
    "# 検算2\n",
    "dict_class_sample = {1: 15, 2: 15, 3: 15}\n",
    "\n",
    "N = sum(dict_class_sample.values())\n",
    "\n",
    "tmp_sum = 0\n",
    "for i in dict_class_sample.keys():\n",
    "    tmp_sum += (dict_class_sample[i]/N)**2\n",
    "I_t = 1 - tmp_sum\n",
    "I_t"
   ]
  },
  {
   "cell_type": "code",
   "execution_count": 5,
   "metadata": {},
   "outputs": [
    {
     "data": {
      "text/plain": [
       "0.48"
      ]
     },
     "execution_count": 5,
     "metadata": {},
     "output_type": "execute_result"
    }
   ],
   "source": [
    "# 検算3\n",
    "dict_class_sample = {1: 18, 2: 12}\n",
    "\n",
    "N = sum(dict_class_sample.values())\n",
    "\n",
    "tmp_sum = 0\n",
    "for i in dict_class_sample.keys():\n",
    "    tmp_sum += (dict_class_sample[i]/N)**2\n",
    "I_t = 1 - tmp_sum\n",
    "I_t"
   ]
  },
  {
   "cell_type": "code",
   "execution_count": 6,
   "metadata": {
    "scrolled": true
   },
   "outputs": [
    {
     "data": {
      "text/plain": [
       "0.0"
      ]
     },
     "execution_count": 6,
     "metadata": {},
     "output_type": "execute_result"
    }
   ],
   "source": [
    "# 検算4\n",
    "dict_class_sample = {1: 30, 2: 0}\n",
    "\n",
    "N = sum(dict_class_sample.values())\n",
    "\n",
    "tmp_sum = 0\n",
    "for i in dict_class_sample.keys():\n",
    "    tmp_sum += (dict_class_sample[i]/N)**2\n",
    "I_t = 1 - tmp_sum\n",
    "I_t"
   ]
  },
  {
   "cell_type": "markdown",
   "metadata": {},
   "source": [
    "- _ginis_diversity_indexを追加"
   ]
  },
  {
   "cell_type": "markdown",
   "metadata": {},
   "source": [
    "### 【問題2】情報利得を求める関数\n",
    "次に、ノード間の 情報利得 を計算する関数を作成してください。問題1で作成したジニ不純度 $I(t)$ を計算する関数を呼び出して使います。情報利得$IG$は以下の数式で求まります。うまく分けられている時ほど情報利得は大きくなります。\n",
    "\n",
    "ここで分岐は2つのみであるため、分岐先を「左側のノード・右側のノード」と呼びます。\n",
    "\n",
    "$$\n",
    "IG(p)=I(p)-\\frac{N_{left,all}}{N_{p,all}}I(left)-\\frac{N_{right,all}}{N_{p,all}}I(right)\n",
    "$$\n",
    "\n",
    "$p$ : 親ノードを示すインデックス\n",
    "\n",
    "$left$ : 左側のノードを示すインデックス\n",
    "\n",
    "$right$ : 右側のノードを示すインデックス\n",
    "\n",
    "まずは簡単な例を作り、手計算と関数の結果を比較してください。\n",
    "\n",
    "《例》\n",
    "\n",
    "左ノードクラス1:サンプル数10, 左ノードクラス2:サンプル数30, 右ノードクラス1:サンプル数20, 右ノードクラス2:サンプル数5 → 情報利得0.143"
   ]
  },
  {
   "cell_type": "markdown",
   "metadata": {},
   "source": [
    "- 引数の決定\n",
    "  - クラスとサンプル数を紐付けた辞書型(左ノード)(dict_class_sample_left)\n",
    "  - クラスとサンプル数を紐付けた辞書型(右ノード)(dict_class_sample_right)"
   ]
  },
  {
   "cell_type": "code",
   "execution_count": 7,
   "metadata": {},
   "outputs": [],
   "source": [
    "def _ginis_diversity_index(dict_class_sample):\n",
    "    \"\"\"\n",
    "    ジニ係数を計算する\n",
    "\n",
    "    Parameters\n",
    "    ----------\n",
    "    dict_class_sample : クラスとサンプルのインデックスを紐付けた辞書型\n",
    "    keyがクラス、valueが各クラスのサンプルのndarray\n",
    "    \"\"\"\n",
    "    N = sum(dict_class_sample.values())\n",
    "    tmp_sum = 0\n",
    "    for i in dict_class_sample.keys():\n",
    "        tmp_sum += (dict_class_sample[i]/N)**2\n",
    "    I_t = 1 - tmp_sum\n",
    "    \n",
    "    return I_t"
   ]
  },
  {
   "cell_type": "code",
   "execution_count": 8,
   "metadata": {},
   "outputs": [
    {
     "data": {
      "text/plain": [
       "0.14319526627218937"
      ]
     },
     "execution_count": 8,
     "metadata": {},
     "output_type": "execute_result"
    }
   ],
   "source": [
    "dict_class_sample_left = {1: 10, 2: 30}\n",
    "dict_class_sample_right = {1: 20, 2: 5}\n",
    "\n",
    "p_samples = np.array(list(dict_class_sample_left.values())) + np.array(list(dict_class_sample_right.values()))\n",
    "dict_class_sample_p = dict(zip(list(dict_class_sample_left.keys()), p_samples)) \n",
    "\n",
    "N_p_all = sum(list(dict_class_sample_p.values()))\n",
    "N_left_all = sum(list(dict_class_sample_left.values()))\n",
    "N_right_all = sum(list(dict_class_sample_right.values()))\n",
    "\n",
    "IG = _ginis_diversity_index(dict_class_sample_p) \\\n",
    "     - (N_left_all/N_p_all)*_ginis_diversity_index(dict_class_sample_left) \\\n",
    "     - (N_right_all/N_p_all)*_ginis_diversity_index(dict_class_sample_right)\n",
    "\n",
    "IG"
   ]
  },
  {
   "cell_type": "code",
   "execution_count": 9,
   "metadata": {},
   "outputs": [
    {
     "data": {
      "text/plain": [
       "40"
      ]
     },
     "execution_count": 9,
     "metadata": {},
     "output_type": "execute_result"
    }
   ],
   "source": [
    "sum(list(dict_class_sample_left.values()))"
   ]
  },
  {
   "cell_type": "markdown",
   "metadata": {},
   "source": [
    "- _information_gainを追加"
   ]
  },
  {
   "cell_type": "markdown",
   "metadata": {},
   "source": [
    "### 【問題3】学習\n",
    "空間の分割を行い、決定木のグラフを生成するコードを作成してください。今は深さ1の決定木なので、分割を1回だけ行います。ここでグラフを生成するとは、1回の分割の際の条件としてどの特徴量がいくつ以上の時とするかを求めるということです。\n",
    "\n",
    "訓練データに対して全ての組み合わせの分割を行い、その中でノード間の情報利得が最大となる分割をそのノードの分割基準として記録します。\n",
    "\n",
    "クラスが混ざらない不純度が0のノード、または指定された深さのノードが 葉ノード となります。葉ノードにはクラスを記録しておき、これを推定時に分類するクラスとします。クラスが混ざらない場合はそのままのクラスを記録し、混ざっている場合は多数決により決めます。\n",
    "\n",
    "《組み合わせの取り方》\n",
    "\n",
    "全ての組み合わせの取り方は、最も単純には各特徴量の値自体をしきい値にして分割を行う方法があります。片側の端は今回のスクラッチはこの方法で行なってください。\n",
    "\n",
    "他には中間の値をしきい値にする方法もあり、scikit-learnではこの方法が用いられています。\n",
    "\n",
    "《補足》\n",
    "\n",
    "問題2の情報利得を計算する関数はこの問題3で利用する上では、親ノードの不純度 $I(p)$ は固定されるため、左右のノードの不純度の合計を計算するだけでも同じ結果が得られることになります。しかし、ここでは親ノードを考慮した情報利得を計算する実装を行なってください。"
   ]
  },
  {
   "cell_type": "markdown",
   "metadata": {},
   "source": [
    "アルゴリズム\n",
    "- 以下を、サンプル数分繰り返す\n",
    "    - あるサンプルの特徴量をthresholdに設定する\n",
    "    - thresholdを基準にサンプルを2クラスに分割する\n",
    "    - IGを求め、list_IGに設定\n",
    "- max(list_IG)のthresholdを記録しておく"
   ]
  },
  {
   "cell_type": "code",
   "execution_count": 10,
   "metadata": {},
   "outputs": [],
   "source": [
    "def _information_gain(dict_class_sample_left, dict_class_sample_right):\n",
    "    \"\"\"\n",
    "    情報利得を計算する\n",
    "\n",
    "    Parameters\n",
    "    ----------\n",
    "    dict_class_sample_left : クラスとサンプル数を紐付けた辞書型(左ノード)\n",
    "    dict_class_sample_right : クラスとサンプル数を紐付けた辞書型(右ノード)\n",
    "    keyがクラス、valueが各クラスのサンプル数\n",
    "    \"\"\"\n",
    "    p_samples = np.array(list(dict_class_sample_left.values())) + np.array(list(dict_class_sample_right.values()))\n",
    "    dict_class_sample_p = dict(zip(list(dict_class_sample_left.keys()), p_samples)) \n",
    "\n",
    "    N_p_all = sum(list(dict_class_sample_p.values()))\n",
    "    N_left_all = sum(list(dict_class_sample_left.values()))\n",
    "    N_right_all = sum(list(dict_class_sample_right.values()))\n",
    "\n",
    "    rate_left = N_left_all/N_p_all\n",
    "    rate_right = N_right_all/N_p_all\n",
    "\n",
    "    if rate_left != 0:\n",
    "        gini_left = _ginis_diversity_index(dict_class_sample_left)\n",
    "    else:\n",
    "        gini_left = 0\n",
    "    \n",
    "    if rate_right != 0:\n",
    "        gini_right = _ginis_diversity_index(dict_class_sample_right)\n",
    "    else:\n",
    "        gini_right = 0\n",
    "\n",
    "    IG = _ginis_diversity_index(dict_class_sample_p) - rate_left*gini_left - rate_right*gini_right\n",
    "\n",
    "    return IG"
   ]
  },
  {
   "cell_type": "code",
   "execution_count": 11,
   "metadata": {},
   "outputs": [],
   "source": [
    "X = np.array([[1,4,6],[4,5,6],[10,12,13],[3,4,5],[12,14,15]])\n",
    "y = np.array([1,1,2,1,2])"
   ]
  },
  {
   "cell_type": "code",
   "execution_count": 12,
   "metadata": {},
   "outputs": [
    {
     "data": {
      "text/plain": [
       "array([ 1,  3,  4, 10, 12])"
      ]
     },
     "execution_count": 12,
     "metadata": {},
     "output_type": "execute_result"
    }
   ],
   "source": [
    "np.unique(X[:, 0])"
   ]
  },
  {
   "cell_type": "code",
   "execution_count": 13,
   "metadata": {
    "scrolled": false
   },
   "outputs": [
    {
     "name": "stdout",
     "output_type": "stream",
     "text": [
      "[[{1: 2, 2: 2}, {1: 1, 2: 0}],\n",
      " [{1: 1, 2: 2}, {1: 2, 2: 0}],\n",
      " [{1: 0, 2: 2}, {1: 3, 2: 0}],\n",
      " [{1: 0, 2: 1}, {1: 3, 2: 1}],\n",
      " [{1: 0, 2: 0}, {1: 3, 2: 2}],\n",
      " [{1: 1, 2: 2}, {1: 2, 2: 0}],\n",
      " [{1: 0, 2: 2}, {1: 3, 2: 0}],\n",
      " [{1: 0, 2: 1}, {1: 3, 2: 1}],\n",
      " [{1: 0, 2: 0}, {1: 3, 2: 2}],\n",
      " [{1: 2, 2: 2}, {1: 1, 2: 0}],\n",
      " [{1: 0, 2: 2}, {1: 3, 2: 0}],\n",
      " [{1: 0, 2: 1}, {1: 3, 2: 1}],\n",
      " [{1: 0, 2: 0}, {1: 3, 2: 2}]]\n",
      "array([0.08      , 0.21333333, 0.48      , 0.18      , 0.        ,\n",
      "       0.21333333, 0.48      , 0.18      , 0.        , 0.08      ,\n",
      "       0.48      , 0.18      , 0.        ])\n",
      "[[0, 1],\n",
      " [0, 3],\n",
      " [0, 4],\n",
      " [0, 10],\n",
      " [0, 12],\n",
      " [1, 4],\n",
      " [1, 5],\n",
      " [1, 12],\n",
      " [1, 14],\n",
      " [2, 5],\n",
      " [2, 6],\n",
      " [2, 13],\n",
      " [2, 15]]\n"
     ]
    }
   ],
   "source": [
    "import pprint\n",
    "\n",
    "# ★\n",
    "# 関数開始\n",
    "list_info_gain = []\n",
    "list_node = []\n",
    "list_threshold = []\n",
    "\n",
    "labels = np.unique(y)\n",
    "#self.label_ = labels\n",
    "# 特徴量分繰り返す\n",
    "for i in range(X.shape[1]):\n",
    "    samples = np.unique(X[:, i])\n",
    "\n",
    "    # サンプル数分繰り返す\n",
    "    for threshold in samples:\n",
    "        dict_class_sample_left = {}\n",
    "        dict_class_sample_right = {}\n",
    "        \n",
    "        # 閾値とした特徴量で分割する\n",
    "        sample_left = X[X[:, i] > threshold]\n",
    "        label_left = y[X[:, i] > threshold]\n",
    "        sample_right = X[X[:, i] <= threshold]\n",
    "        label_right = y[X[:, i] <= threshold]\n",
    "        \n",
    "        # 境界になる特徴量のインデックスと閾値を保持しておく\n",
    "        list_threshold.append([i, threshold])\n",
    "        \n",
    "        # 左ノードの情報を作成\n",
    "        tmp = np.where(label_left == labels[0], True, False)\n",
    "        dict_class_sample_left[labels[0]] = len(sample_left[tmp])\n",
    "        tmp = np.where(label_left == labels[1], True, False)        \n",
    "        dict_class_sample_left[labels[1]] = len(sample_left[tmp])\n",
    "        # 右ノードの情報を作成\n",
    "        tmp = np.where(label_right == labels[0], True, False)\n",
    "        dict_class_sample_right[labels[0]] = len(sample_right[tmp])\n",
    "        tmp = np.where(label_right == labels[1], True, False)        \n",
    "        dict_class_sample_right[labels[1]] = len(sample_right[tmp])\n",
    "        \n",
    "        # 各リストに追加\n",
    "        list_node.append([dict_class_sample_left, dict_class_sample_right])\n",
    "        list_info_gain.append(_information_gain(dict_class_sample_left, dict_class_sample_right))\n",
    "\n",
    "# IGが最も大きい分割の組み合わせを選択\n",
    "# (IGが同値ならばインデックスが小さいものを優先)\n",
    "list_info_gain = np.array(list_info_gain)\n",
    "max_ig = list_info_gain.max()\n",
    "index_selected_threshold = np.where(list_info_gain == max_ig)[0].min()\n",
    "selected_threshold = list_threshold[index_selected_threshold]\n",
    "\n",
    "# 関数終了\n",
    "\n",
    "pprint.pprint(list_node)\n",
    "pprint.pprint(list_info_gain)\n",
    "pprint.pprint(list_threshold)"
   ]
  },
  {
   "cell_type": "code",
   "execution_count": 14,
   "metadata": {
    "scrolled": true
   },
   "outputs": [
    {
     "data": {
      "text/plain": [
       "[0, 4]"
      ]
     },
     "execution_count": 14,
     "metadata": {},
     "output_type": "execute_result"
    }
   ],
   "source": [
    "selected_threshold"
   ]
  },
  {
   "cell_type": "markdown",
   "metadata": {},
   "source": [
    "- ★の内容をfitに追加"
   ]
  },
  {
   "cell_type": "markdown",
   "metadata": {},
   "source": [
    "### 【問題4】推定\n",
    "推定する仕組みを実装してください。ScratchDecesionTreeClassifierDepth1クラスの雛形に含まれるpredictメソッドに書き加えてください。\n",
    "\n",
    "入力されたデータの値を学習した条件で判定していき、どの葉ノードに到達するかを見ます。葉ノードにはクラスが記録されているので、これが推定値となります。"
   ]
  },
  {
   "cell_type": "code",
   "execution_count": 15,
   "metadata": {},
   "outputs": [],
   "source": [
    "X = np.array([[1,4,6],[4,5,6],[10,12,13],[3,4,5],[12,14,15]])\n",
    "y = np.array([1,1,2,1,2])\n",
    "threshold = [2, 12]"
   ]
  },
  {
   "cell_type": "code",
   "execution_count": 16,
   "metadata": {},
   "outputs": [
    {
     "data": {
      "text/plain": [
       "array([1, 1, 2, 1, 2])"
      ]
     },
     "execution_count": 16,
     "metadata": {},
     "output_type": "execute_result"
    }
   ],
   "source": [
    "index_bool = np.where(X[:, threshold[0]] > threshold[1], True, False)\n",
    "label = np.unique(y)\n",
    "np.where(index_bool, label[1], label[0])"
   ]
  },
  {
   "cell_type": "markdown",
   "metadata": {},
   "source": [
    "- predictメソッドに処理追加"
   ]
  },
  {
   "cell_type": "markdown",
   "metadata": {},
   "source": [
    "### 【問題5】学習と推定\n",
    "機械学習スクラッチ入門のSprintで用意したシンプルデータセット2の2値分類に対してスクラッチ実装の学習と推定を行なってください。\n",
    "\n",
    "scikit-learnによる実装と比べ、正しく動いているかを確認してください。\n",
    "\n",
    "AccuracyやPrecision、Recallなどの指標値はscikit-learnを使用してください。"
   ]
  },
  {
   "cell_type": "code",
   "execution_count": 17,
   "metadata": {
    "scrolled": false
   },
   "outputs": [
    {
     "data": {
      "text/plain": [
       "<function matplotlib.pyplot.show(*args, **kw)>"
      ]
     },
     "execution_count": 17,
     "metadata": {},
     "output_type": "execute_result"
    },
    {
     "data": {
      "image/png": "[encoded data removed]",
      "text/plain": [
       "<Figure size 576x576 with 1 Axes>"
      ]
     },
     "metadata": {
      "needs_background": "light"
     },
     "output_type": "display_data"
    }
   ],
   "source": [
    "import matplotlib.pyplot as plt\n",
    "from sklearn.model_selection import train_test_split\n",
    "\n",
    "# シンプルデータセット2\n",
    "X = np.array([[-0.44699 , -2.8073  ],[-1.4621  , -2.4586  ],\n",
    "       [ 0.10645 ,  1.9242  ],[-3.5944  , -4.0112  ],\n",
    "       [-0.9888  ,  4.5718  ],[-3.1625  , -3.9606  ],\n",
    "       [ 0.56421 ,  0.72888 ],[-0.60216 ,  8.4636  ],\n",
    "       [-0.61251 , -0.75345 ],[-0.73535 , -2.2718  ],\n",
    "       [-0.80647 , -2.2135  ],[ 0.86291 ,  2.3946  ],\n",
    "       [-3.1108  ,  0.15394 ],[-2.9362  ,  2.5462  ],\n",
    "       [-0.57242 , -2.9915  ],[ 1.4771  ,  3.4896  ],\n",
    "       [ 0.58619 ,  0.37158 ],[ 0.6017  ,  4.3439  ],\n",
    "       [-2.1086  ,  8.3428  ],[-4.1013  , -4.353   ],\n",
    "       [-1.9948  , -1.3927  ],[ 0.35084 , -0.031994],\n",
    "       [ 0.96765 ,  7.8929  ],[-1.281   , 15.6824  ],\n",
    "       [ 0.96765 , 10.083   ],[ 1.3763  ,  1.3347  ],\n",
    "       [-2.234   , -2.5323  ],[-2.9452  , -1.8219  ],\n",
    "       [ 0.14654 , -0.28733 ],[ 0.5461  ,  5.8245  ],\n",
    "       [-0.65259 ,  9.3444  ],[ 0.59912 ,  5.3524  ],\n",
    "       [ 0.50214 , -0.31818 ],[-3.0603  , -3.6461  ],\n",
    "       [-6.6797  ,  0.67661 ],[-2.353   , -0.72261 ],\n",
    "       [ 1.1319  ,  2.4023  ],[-0.12243 ,  9.0162  ],\n",
    "       [-2.5677  , 13.1779  ],[ 0.057313,  5.4681  ]])\n",
    "y = np.array([0, 0, 0, 0, 0, 0, 0, 0, 0, 0, 0, 0, 0, 0, 0, 0, 0, 0, 0, 0, 1, 1,\n",
    "       1, 1, 1, 1, 1, 1, 1, 1, 1, 1, 1, 1, 1, 1, 1, 1, 1, 1])\n",
    "\n",
    "X_train, X_test, y_train, y_test = train_test_split(X, y, train_size=0.75)\n",
    "\n",
    "plt.figure(figsize=(8, 8))\n",
    "plt.scatter(X[:20, 0], X[:20, 1], \n",
    "            marker=\"x\", alpha=0.7, c=\"r\")\n",
    "plt.scatter(X[20:, 0], X[20:, 1], \n",
    "            marker=\"x\", alpha=0.7, c=\"b\")\n",
    "\n",
    "plt.show"
   ]
  },
  {
   "cell_type": "code",
   "execution_count": 18,
   "metadata": {},
   "outputs": [],
   "source": [
    "from sklearn.tree import DecisionTreeClassifier\n",
    "from sklearn.metrics import accuracy_score, precision_score, recall_score, f1_score, confusion_matrix"
   ]
  },
  {
   "cell_type": "code",
   "execution_count": 19,
   "metadata": {},
   "outputs": [
    {
     "name": "stdout",
     "output_type": "stream",
     "text": [
      "[1, 8.4636]\n",
      "正解率:0.8\n",
      "適合率:0.8888888888888888\n",
      "再現率:0.6666666666666666\n",
      "F値:0.6875\n",
      "混合行列\n",
      "[[7 0]\n",
      " [2 1]]\n"
     ]
    }
   ],
   "source": [
    "dt = ScratchDecesionTreeClassifierDepth1()\n",
    "dt.fit(X_train, y_train)\n",
    "print(dt.threshold_)\n",
    "y_pred = dt.predict(X_test)\n",
    "print(\"正解率:{}\".format(accuracy_score(y_test ,y_pred)))\n",
    "print(\"適合率:{}\".format(precision_score(y_test ,y_pred, average='macro')))\n",
    "print(\"再現率:{}\".format(recall_score(y_test ,y_pred, average='macro')))\n",
    "print(\"F値:{}\".format(f1_score(y_test ,y_pred, average='macro')))\n",
    "print(\"混合行列\")\n",
    "print(confusion_matrix(y_test ,y_pred))"
   ]
  },
  {
   "cell_type": "code",
   "execution_count": 20,
   "metadata": {},
   "outputs": [
    {
     "name": "stdout",
     "output_type": "stream",
     "text": [
      "正解率:0.8\n",
      "適合率:0.8888888888888888\n",
      "再現率:0.6666666666666666\n",
      "F値:0.6875\n",
      "混合行列\n",
      "[[7 0]\n",
      " [2 1]]\n"
     ]
    }
   ],
   "source": [
    "dt_sklearn = DecisionTreeClassifier(max_depth=1)\n",
    "dt_sklearn.fit(X_train, y_train)\n",
    "y_pred_sklearn = dt_sklearn.predict(X_test)\n",
    "print(\"正解率:{}\".format(accuracy_score(y_test ,y_pred_sklearn)))\n",
    "print(\"適合率:{}\".format(precision_score(y_test ,y_pred_sklearn, average='macro')))\n",
    "print(\"再現率:{}\".format(recall_score(y_test ,y_pred_sklearn, average='macro')))\n",
    "print(\"F値:{}\".format(f1_score(y_test ,y_pred_sklearn, average='macro')))\n",
    "print(\"混合行列\")\n",
    "print(confusion_matrix(y_test ,y_pred_sklearn))"
   ]
  },
  {
   "cell_type": "markdown",
   "metadata": {},
   "source": [
    "### 【問題6】決定領域の可視化\n",
    "決定領域を可視化してください。"
   ]
  },
  {
   "cell_type": "code",
   "execution_count": 21,
   "metadata": {},
   "outputs": [],
   "source": [
    "from matplotlib.colors import ListedColormap\n",
    "import matplotlib.patches as mpatches\n",
    "\n",
    "def decision_region(X, y, model, step=0.01, title='decision region', xlabel='xlabel', ylabel='ylabel', target_names=['0', '1']):\n",
    "    \"\"\"\n",
    "    2値分類を2次元の特徴量で学習したモデルの決定領域を描く。\n",
    "    背景の色が学習したモデルによる推定値から描画される。\n",
    "    散布図の点は訓練データまたは検証データである。\n",
    "\n",
    "    Parameters\n",
    "    ----------------\n",
    "    X : ndarray, shape(n_samples, 2)\n",
    "        特徴量\n",
    "    y : ndarray, shape(n_samples,)\n",
    "        ラベル\n",
    "    model : object\n",
    "        学習したモデルのインスンタスを入れる\n",
    "    step : float, (default : 0.1)\n",
    "        推定値を計算する間隔を設定する\n",
    "    title : str\n",
    "        グラフのタイトルの文章を与える\n",
    "    xlabel, ylabel : str\n",
    "        軸ラベルの文章を与える\n",
    "    target_names= : list of str\n",
    "        凡例の一覧を与える\n",
    "    \"\"\"\n",
    "    # setting\n",
    "    scatter_color = ['red', 'blue']\n",
    "    contourf_color = ['pink', 'skyblue']\n",
    "    n_class = 2\n",
    "    # pred\n",
    "    mesh_f0, mesh_f1  = np.meshgrid(np.arange(np.min(X[:,0])-0.5, np.max(X[:,0])+0.5, step), np.arange(np.min(X[:,1])-0.5, np.max(X[:,1])+0.5, step))\n",
    "    mesh = np.c_[np.ravel(mesh_f0),np.ravel(mesh_f1)]\n",
    "    y_pred = model.predict(mesh).reshape(mesh_f0.shape)\n",
    "    # plot\n",
    "    plt.title(title)\n",
    "    plt.xlabel(xlabel)\n",
    "    plt.ylabel(ylabel)\n",
    "    plt.contourf(mesh_f0, mesh_f1, y_pred, n_class-1, cmap=ListedColormap(contourf_color))\n",
    "    plt.contour(mesh_f0, mesh_f1, y_pred, n_class-1, colors='y', linewidths=3, alpha=0.5)\n",
    "    for i, target in enumerate(set(y)):\n",
    "        plt.scatter(X[y==target][:, 0], X[y==target][:, 1], s=80, color=scatter_color[i], label=target_names[i], marker='o')\n",
    "    patches = [mpatches.Patch(color=scatter_color[i], label=target_names[i]) for i in range(n_class)]\n",
    "    plt.legend(handles=patches)\n",
    "    plt.legend()\n",
    "    plt.show()"
   ]
  },
  {
   "cell_type": "code",
   "execution_count": 22,
   "metadata": {
    "scrolled": true
   },
   "outputs": [
    {
     "data": {
      "image/png": "[encoded data removed]",
      "text/plain": [
       "<Figure size 432x288 with 1 Axes>"
      ]
     },
     "metadata": {
      "needs_background": "light"
     },
     "output_type": "display_data"
    }
   ],
   "source": [
    "decision_region(X_train, y_train, dt)"
   ]
  },
  {
   "cell_type": "code",
   "execution_count": 23,
   "metadata": {},
   "outputs": [
    {
     "data": {
      "image/png": "[encoded data removed]",
      "text/plain": [
       "<Figure size 432x288 with 1 Axes>"
      ]
     },
     "metadata": {
      "needs_background": "light"
     },
     "output_type": "display_data"
    }
   ],
   "source": [
    "decision_region(X_train, y_train, dt_sklearn)"
   ]
  },
  {
   "cell_type": "markdown",
   "metadata": {},
   "source": [
    "深さ1だとうまく動作しているかが判断しにくいが、sklearnとおおよそ同じ挙動なので良しとする。"
   ]
  },
  {
   "cell_type": "markdown",
   "metadata": {},
   "source": [
    "### 【問題7】（アドバンス課題）深さ2の決定木分類器クラスの作成\n",
    "深さが2の決定木分類器のクラスScratchDecesionTreeClassifierDepth2を作成してください。\n",
    "\n",
    "深さ2とは空間の分割を2回行うことを指します。\n",
    "\n",
    "《ヒント》\n",
    "\n",
    "各ノードをインスタンスとして扱うと、任意の深さへの拡張が行いやすくなります。"
   ]
  },
  {
   "cell_type": "markdown",
   "metadata": {},
   "source": [
    "ScratchDecesionTreeClassifierDepth1をリファクタリングした部分もあるので、一部変数名などは変更されている。\n",
    "というか、大部分を変更した。"
   ]
  },
  {
   "cell_type": "code",
   "execution_count": 24,
   "metadata": {},
   "outputs": [],
   "source": [
    "class ScratchDecesionTreeClassifierDepth2():\n",
    "    \"\"\"\n",
    "    深さ2の決定木分類器のスクラッチ実装\n",
    "\n",
    "    Parameters\n",
    "    ----------\n",
    "    verbose : bool\n",
    "      学習過程を出力する場合はTrue\n",
    "    max_depth : int\n",
    "      決定木の深さ\n",
    "    \"\"\"\n",
    "    def __init__(self, max_depth=2, verbose=False):\n",
    "        # ハイパーパラメータを属性として記録\n",
    "        self.verbose = verbose\n",
    "        self.list_node = []\n",
    "        self.max_depth = max_depth\n",
    "        \n",
    "    def fit(self, X, y):\n",
    "        \"\"\"\n",
    "        決定木分類器を学習する\n",
    "        Parameters\n",
    "        ----------\n",
    "        X : 次の形のndarray, shape (n_samples, n_features)\n",
    "            訓練データの特徴量\n",
    "        y : 次の形のndarray, shape (n_samples, )\n",
    "            訓練データの正解値\n",
    "        \"\"\"\n",
    "        self.labels = np.unique(y)\n",
    "        depth = 0\n",
    "        \n",
    "        # ルートノードの情報を作成\n",
    "        dict_class_sample = self._create_dict_class_sample(X, y)\n",
    "        self._add_node(0, dict_class_sample)\n",
    "        \n",
    "        # 決定木作成\n",
    "        self._add_left_right_node(X, y, 0, depth)\n",
    "        \n",
    "# 気が散るのでコメントアウトしておく…\n",
    "#         if self.verbose:\n",
    "#             #verboseをTrueにした際は学習過程を出力\n",
    "#             print()\n",
    "#         pass\n",
    "    \n",
    "    def predict(self, X):\n",
    "        \"\"\"\n",
    "        決定木分類器を使いラベルを推定する\n",
    "        X : 次の形のndarray, shape (n_samples, n_features)\n",
    "            データの特徴量\n",
    "        \"\"\"        \n",
    "        y_pred = []\n",
    "        for data in X:\n",
    "            # ルートノードから探索スタート\n",
    "            self._predict_data(data, 0)\n",
    "            y_pred.append(self.predicted_)\n",
    "            \n",
    "        return np.array(y_pred)\n",
    "        \n",
    "    def _ginis_diversity_index(self, dict_class_sample):\n",
    "        \"\"\"\n",
    "        ジニ係数を計算する\n",
    "\n",
    "        Parameters\n",
    "        ----------\n",
    "        dict_class_sample : クラスとサンプル数を紐付けた辞書型\n",
    "        keyがクラス、valueが各クラスのサンプル数\n",
    "        \"\"\"\n",
    "        N = sum(dict_class_sample.values())\n",
    "\n",
    "        tmp_sum = 0\n",
    "        for i in dict_class_sample.keys():\n",
    "            tmp_sum += (dict_class_sample[i]/N)**2\n",
    "        I_t = 1 - tmp_sum\n",
    "        \n",
    "        return I_t\n",
    "    \n",
    "    def _information_gain(dict_class_sample_left, dict_class_sample_right):\n",
    "        \"\"\"\n",
    "        情報利得を計算する\n",
    "\n",
    "        Parameters\n",
    "        ----------\n",
    "        dict_class_sample_left : クラスとサンプル数を紐付けた辞書型(左ノード)\n",
    "        dict_class_sample_right : クラスとサンプル数を紐付けた辞書型(右ノード)\n",
    "        keyがクラス、valueが各クラスのサンプル数\n",
    "        \"\"\"\n",
    "        p_samples = np.array(list(dict_class_sample_left.values())) + np.array(list(dict_class_sample_right.values()))\n",
    "        dict_class_sample_p = dict(zip(list(dict_class_sample_left.keys()), p_samples)) \n",
    "\n",
    "        N_p_all = sum(list(dict_class_sample_p.values()))\n",
    "        N_left_all = sum(list(dict_class_sample_left.values()))\n",
    "        N_right_all = sum(list(dict_class_sample_right.values()))\n",
    "\n",
    "        rate_left = N_left_all/N_p_all\n",
    "        rate_right = N_right_all/N_p_all\n",
    "\n",
    "        if rate_left != 0:\n",
    "            gini_left = _ginis_diversity_index(dict_class_sample_left)\n",
    "        else:\n",
    "            gini_left = 0\n",
    "\n",
    "        if rate_right != 0:\n",
    "            gini_right = _ginis_diversity_index(dict_class_sample_right)\n",
    "        else:\n",
    "            gini_right = 0\n",
    "\n",
    "        IG = _ginis_diversity_index(dict_class_sample_p) - rate_left*gini_left - rate_right*gini_right\n",
    "\n",
    "        return IG\n",
    "    \n",
    "    def _create_dict_class_sample(self, X, y):\n",
    "        \"\"\"\n",
    "        クラスとサンプル数を紐付けた辞書型を作成\n",
    "\n",
    "        Parameters\n",
    "        ----------\n",
    "        X : 次の形のndarray, shape (n_samples, n_features)\n",
    "            特徴量データ\n",
    "        y : 次の形のndarray, shape (n_samples, 1)\n",
    "            ラベルデータ\n",
    "        \"\"\"\n",
    "        \n",
    "        dict_class_sample = {}\n",
    "        tmp = np.where(y == self.labels[0], True, False)\n",
    "        dict_class_sample[self.labels[0]] = len(X[tmp])\n",
    "        tmp = np.where(y == self.labels[1], True, False)        \n",
    "        dict_class_sample[self.labels[1]] = len(X[tmp])\n",
    "\n",
    "        return dict_class_sample\n",
    "    \n",
    "    def _add_node(self, node_id, dict_class_sample, p_node_id=-1):\n",
    "        \"\"\"\n",
    "        決定木にノードを追加する\n",
    "\n",
    "        Parameters\n",
    "        ----------\n",
    "        node_id : int\n",
    "          ノードの識別子\n",
    "        dict_class_sample : クラスとサンプル数を紐付けた辞書型\n",
    "        p_node_id: int\n",
    "          親ノードの識別子\n",
    "        \"\"\"\n",
    "        tmp_gini = self._ginis_diversity_index(dict_class_sample)\n",
    "        node = ScratchDecesionTreeNode(node_id, tmp_gini)\n",
    "        node.p_node_id = p_node_id\n",
    "\n",
    "        tmp_bool = np.array(list(dict_class_sample.values())) == max(dict_class_sample.values())\n",
    "        # 要素数が同じ場合はラベル値が小さいものを優先\n",
    "        node.class_ = int(min(np.array(list(dict_class_sample.keys()))[tmp_bool]))\n",
    "\n",
    "        self.list_node.append(node)\n",
    "\n",
    "    def _add_left_right_node(self, X, y, p_node_id, depth):\n",
    "        \"\"\"\n",
    "        指定したノードに左・右ノードを追加する\n",
    "\n",
    "        Parameters\n",
    "        ----------\n",
    "        X : 次の形のndarray, shape (n_samples, n_features)\n",
    "            特徴量データ\n",
    "        y : 次の形のndarray, shape (n_samples, 1)\n",
    "            ラベルデータ\n",
    "        p_node_id : int\n",
    "          親となるノードの識別子\n",
    "        depth: int\n",
    "          現在処理している決定木の深さ\n",
    "        \"\"\"\n",
    "        # 再帰の終了条件\n",
    "        if depth == self.max_depth:\n",
    "            return\n",
    "        \n",
    "        # 各種リストを用意\n",
    "        list_info_gain = []\n",
    "        list_dict_class_sample = []\n",
    "        list_threshold = [] \n",
    "        \n",
    "        # 特徴量分繰り返す\n",
    "        for i in range(X.shape[1]):\n",
    "            samples = np.unique(X[:, i])\n",
    "            #samples = (samples[:-1] + samples[1:]) / 2.0  # 中央の値で区切る際の処理\n",
    "\n",
    "            # サンプル数分繰り返す\n",
    "            for threshold in samples:\n",
    "\n",
    "                # 閾値とした特徴量で分割する\n",
    "                sample_left = X[X[:, i] > threshold]\n",
    "                label_left = y[X[:, i] > threshold]\n",
    "                sample_right = X[X[:, i] <= threshold]\n",
    "                label_right = y[X[:, i] <= threshold]\n",
    "\n",
    "                # 境界になる特徴量のインデックスと閾値を保持しておく\n",
    "                list_threshold.append([i, threshold])\n",
    "\n",
    "                # 左ノードの情報を作成\n",
    "                dict_class_sample_left = self._create_dict_class_sample(sample_left, label_left)                \n",
    "                # 右ノードの情報を作成\n",
    "                dict_class_sample_right = self._create_dict_class_sample(sample_right, label_right)\n",
    "\n",
    "                # 各リストに追加\n",
    "                list_dict_class_sample.append([dict_class_sample_left, dict_class_sample_right])\n",
    "                list_info_gain.append(_information_gain(dict_class_sample_left, dict_class_sample_right))\n",
    "\n",
    "        # IGが最も大きい分割の組み合わせを選択\n",
    "        # (IGが同値ならばインデックスが小さいものを優先)\n",
    "        list_info_gain = np.array(list_info_gain)\n",
    "        max_ig = list_info_gain.max()\n",
    "        index_selected_threshold = np.where(list_info_gain == max_ig)[0].min()\n",
    "        self.list_node[p_node_id].threshold = list_threshold[index_selected_threshold]\n",
    "        \n",
    "        num_left = sum(list_dict_class_sample[index_selected_threshold][0].values())\n",
    "        num_right = sum(list_dict_class_sample[index_selected_threshold][1].values())\n",
    "        \n",
    "        left_node_id = len(self.list_node)\n",
    "        right_node_id = left_node_id + 1\n",
    "        \n",
    "        # 左ノード追加\n",
    "        if num_left != 0:        \n",
    "            self._add_node(left_node_id, list_dict_class_sample[index_selected_threshold][0], p_node_id)\n",
    "            self.list_node[p_node_id].left_node_id = left_node_id\n",
    "        # 右ノード追加\n",
    "        if num_right != 0:        \n",
    "            self._add_node(right_node_id, list_dict_class_sample[index_selected_threshold][1], p_node_id)\n",
    "            self.list_node[p_node_id].right_node_id = right_node_id\n",
    "        \n",
    "        # 左ノードにさらにノードを追加\n",
    "        if sum(list_dict_class_sample[index_selected_threshold][0].values()) != 0:\n",
    "            sample_left = X[X[:, self.list_node[p_node_id].threshold[0]] > self.list_node[p_node_id].threshold[1]]\n",
    "            label_left = y[X[:, self.list_node[p_node_id].threshold[0]] > self.list_node[p_node_id].threshold[1]]\n",
    "            self._add_left_right_node(sample_left, label_left, left_node_id, depth+1)\n",
    "        # 右ノードにさらにノードを追加\n",
    "        if sum(list_dict_class_sample[index_selected_threshold][1].values()) != 0:\n",
    "            sample_right = X[X[:, self.list_node[p_node_id].threshold[0]] <= self.list_node[p_node_id].threshold[1]]\n",
    "            label_right = y[X[:, self.list_node[p_node_id].threshold[0]] <= self.list_node[p_node_id].threshold[1]]\n",
    "            self._add_left_right_node(sample_right, label_right, right_node_id, depth+1)\n",
    "        \n",
    "    def _predict_data(self, data, node_id):\n",
    "        \"\"\"\n",
    "        指定したノードに左・右ノードを追加する\n",
    "\n",
    "        Parameters\n",
    "        ----------\n",
    "        data : 次の形のndarray, shape (1, n_features)\n",
    "            1サンプル分の特徴量データ\n",
    "        node_id : int\n",
    "          現在処理しているノードの識別子\n",
    "        \"\"\"\n",
    "        node = self.list_node[node_id]\n",
    "        \n",
    "        # 再帰の終了条件\n",
    "        if node.threshold == [-1, -1]:\n",
    "            self.predicted_ = node.class_\n",
    "            return\n",
    "        \n",
    "        index_feature = node.threshold[0]\n",
    "        threshold = node.threshold[1]\n",
    "        if data[index_feature] > threshold:\n",
    "            self._predict_data(data, node.left_node_id)\n",
    "        else:\n",
    "            self._predict_data(data, node.right_node_id)\n",
    "            \n",
    "        \n",
    "class ScratchDecesionTreeNode():\n",
    "    \"\"\"\n",
    "    ScratchDecesionTreeClassifierDepth1で使用するノード情報\n",
    "    \n",
    "    Parameters\n",
    "    ----------\n",
    "    node_id : int\n",
    "      ノードID\n",
    "      \n",
    "    Attributes\n",
    "    ----------\n",
    "    self.p_node_id : int\n",
    "      親ノードID(-1の場合は自分がルートノードであることを意味する)\n",
    "    self.right_node_id : int\n",
    "      右ノードID(-1の場合は無しを意味する)\n",
    "    self.left_node_id : int\n",
    "      左ノードID(-1の場合は無しを意味する)\n",
    "    self.class_ : int\n",
    "      ノードに記録されるクラス\n",
    "    self.gini : float\n",
    "      ジニ係数\n",
    "    self.threshold : 要素数2のリスト\n",
    "      [特徴量のインデックス, 特徴量の実値](-1の場合は葉ノードであることを意味する)\n",
    "    \"\"\"\n",
    "    def __init__(self, node_id, gini):\n",
    "        if node_id < 0:\n",
    "            print(\"エラー\")\n",
    "            return\n",
    "        self.node_id = node_id\n",
    "        self.p_node_id = -1\n",
    "        self.right_node_id = -1\n",
    "        self.left_node_id = -1\n",
    "        self.class_ = -1\n",
    "        self.gini = gini\n",
    "        self.threshold = [-1, -1]\n",
    "        "
   ]
  },
  {
   "cell_type": "code",
   "execution_count": 25,
   "metadata": {
    "scrolled": false
   },
   "outputs": [
    {
     "name": "stdout",
     "output_type": "stream",
     "text": [
      "[0 1 0 0 0 0 0 0 0 0]\n",
      "正解率:0.2\n",
      "適合率:0.23809523809523808\n",
      "再現率:0.23809523809523808\n",
      "F値:0.2\n",
      "混合行列\n",
      "[[1 6]\n",
      " [2 1]]\n"
     ]
    }
   ],
   "source": [
    "dt_2 = ScratchDecesionTreeClassifierDepth2(max_depth=2)\n",
    "dt_2.fit(X_train, y_train)\n",
    "y_pred_2 = dt_2.predict(X_test)\n",
    "print(y_pred)\n",
    "print(\"正解率:{}\".format(accuracy_score(y_test ,y_pred_2)))\n",
    "print(\"適合率:{}\".format(precision_score(y_test ,y_pred_2, average='macro')))\n",
    "print(\"再現率:{}\".format(recall_score(y_test ,y_pred_2, average='macro')))\n",
    "print(\"F値:{}\".format(f1_score(y_test ,y_pred_2, average='macro')))\n",
    "print(\"混合行列\")\n",
    "print(confusion_matrix(y_test ,y_pred_2))"
   ]
  },
  {
   "cell_type": "code",
   "execution_count": 26,
   "metadata": {},
   "outputs": [
    {
     "name": "stdout",
     "output_type": "stream",
     "text": [
      "[0 1 1 1 1 1 1 0 1 0]\n",
      "正解率:0.2\n",
      "適合率:0.23809523809523808\n",
      "再現率:0.23809523809523808\n",
      "F値:0.2\n",
      "混合行列\n",
      "[[1 6]\n",
      " [2 1]]\n"
     ]
    }
   ],
   "source": [
    "dt_sklearn_2 = DecisionTreeClassifier(max_depth=2)\n",
    "dt_sklearn_2.fit(X_train, y_train)\n",
    "y_pred_sklearn_2 = dt_sklearn_2.predict(X_test)\n",
    "print(y_pred_sklearn_2)\n",
    "print(\"正解率:{}\".format(accuracy_score(y_test ,y_pred_sklearn_2)))\n",
    "print(\"適合率:{}\".format(precision_score(y_test ,y_pred_sklearn_2, average='macro')))\n",
    "print(\"再現率:{}\".format(recall_score(y_test ,y_pred_sklearn_2, average='macro')))\n",
    "print(\"F値:{}\".format(f1_score(y_test ,y_pred_sklearn_2, average='macro')))\n",
    "print(\"混合行列\")\n",
    "print(confusion_matrix(y_test ,y_pred_sklearn_2))"
   ]
  },
  {
   "cell_type": "code",
   "execution_count": 27,
   "metadata": {
    "scrolled": true
   },
   "outputs": [
    {
     "data": {
      "image/png": "[encoded data removed]",
      "text/plain": [
       "<Figure size 432x288 with 1 Axes>"
      ]
     },
     "metadata": {
      "needs_background": "light"
     },
     "output_type": "display_data"
    }
   ],
   "source": [
    "decision_region(X_train, y_train, dt_2)"
   ]
  },
  {
   "cell_type": "code",
   "execution_count": 28,
   "metadata": {
    "scrolled": true
   },
   "outputs": [
    {
     "data": {
      "image/png": "[encoded data removed]",
      "text/plain": [
       "<Figure size 432x288 with 1 Axes>"
      ]
     },
     "metadata": {
      "needs_background": "light"
     },
     "output_type": "display_data"
    }
   ],
   "source": [
    "decision_region(X_train, y_train, dt_sklearn_2)"
   ]
  },
  {
   "cell_type": "markdown",
   "metadata": {},
   "source": [
    "シンプルデータセット2は正直分かりにくいので、irisデータセットで試してみる。"
   ]
  },
  {
   "cell_type": "code",
   "execution_count": 29,
   "metadata": {},
   "outputs": [
    {
     "data": {
      "text/plain": [
       "<function matplotlib.pyplot.show(*args, **kw)>"
      ]
     },
     "execution_count": 29,
     "metadata": {},
     "output_type": "execute_result"
    },
    {
     "data": {
      "image/png": "[encoded data removed]",
      "text/plain": [
       "<Figure size 576x576 with 1 Axes>"
      ]
     },
     "metadata": {
      "needs_background": "light"
     },
     "output_type": "display_data"
    }
   ],
   "source": [
    "from sklearn.datasets import load_iris\n",
    "import pandas as pd\n",
    "\n",
    "# irisデータセット\n",
    "data = load_iris()\n",
    "\n",
    "X = pd.DataFrame(data=data.data, columns=['sepal_length', 'sepal_width', 'petal_length', 'petal_width'])\n",
    "y = pd.DataFrame(data=data.target, columns=['Species'])\n",
    "\n",
    "df = pd.concat([X, y], axis=1)\n",
    "df = df.query('Species==[0, 2]')\n",
    "\n",
    "X = np.array(df[['sepal_length', 'sepal_width']])\n",
    "y = np.array(df[['Species']]).reshape(-1,)\n",
    "\n",
    "plt.figure(figsize=(8, 8))\n",
    "plt.scatter(X[:, 0], X[:, 1], \n",
    "            marker=\"x\", alpha=0.7, c=\"r\")\n",
    "\n",
    "plt.show"
   ]
  },
  {
   "cell_type": "code",
   "execution_count": 30,
   "metadata": {},
   "outputs": [],
   "source": [
    "X_train, X_test, y_train, y_test = train_test_split(X, y,\n",
    "                                                    test_size=0.25,\n",
    "                                                    random_state=32)"
   ]
  },
  {
   "cell_type": "code",
   "execution_count": 31,
   "metadata": {
    "scrolled": true
   },
   "outputs": [
    {
     "name": "stdout",
     "output_type": "stream",
     "text": [
      "[0 0 2 2 2 0 2 0 0 2 0 0 2 0 0 2 0 2 2 0 0 0 0 0 2]\n",
      "正解率:1.0\n",
      "適合率:1.0\n",
      "再現率:1.0\n",
      "F値:1.0\n",
      "混合行列\n",
      "[[15  0]\n",
      " [ 0 10]]\n"
     ]
    }
   ],
   "source": [
    "dt_3 = ScratchDecesionTreeClassifierDepth2(max_depth=2)\n",
    "dt_3.fit(X_train, y_train)\n",
    "y_pred_3 = dt_3.predict(X_test)\n",
    "print(y_pred_3)\n",
    "print(\"正解率:{}\".format(accuracy_score(y_test ,y_pred_3)))\n",
    "print(\"適合率:{}\".format(precision_score(y_test ,y_pred_3, average='macro')))\n",
    "print(\"再現率:{}\".format(recall_score(y_test ,y_pred_3, average='macro')))\n",
    "print(\"F値:{}\".format(f1_score(y_test ,y_pred_3, average='macro')))\n",
    "print(\"混合行列\")\n",
    "print(confusion_matrix(y_test ,y_pred_3))"
   ]
  },
  {
   "cell_type": "code",
   "execution_count": 32,
   "metadata": {},
   "outputs": [
    {
     "name": "stdout",
     "output_type": "stream",
     "text": [
      "[0 0 2 2 2 0 2 0 0 2 0 0 2 0 0 2 0 2 2 0 0 0 0 0 2]\n",
      "正解率:1.0\n",
      "適合率:1.0\n",
      "再現率:1.0\n",
      "F値:1.0\n",
      "混合行列\n",
      "[[15  0]\n",
      " [ 0 10]]\n"
     ]
    }
   ],
   "source": [
    "dt_sklearn_3 = DecisionTreeClassifier(max_depth=2)\n",
    "dt_sklearn_3.fit(X_train, y_train)\n",
    "y_pred_sklearn_3 = dt_sklearn_3.predict(X_test)\n",
    "print(y_pred_sklearn_3)\n",
    "print(\"正解率:{}\".format(accuracy_score(y_test ,y_pred_sklearn_3)))\n",
    "print(\"適合率:{}\".format(precision_score(y_test ,y_pred_sklearn_3, average='macro')))\n",
    "print(\"再現率:{}\".format(recall_score(y_test ,y_pred_sklearn_3, average='macro')))\n",
    "print(\"F値:{}\".format(f1_score(y_test ,y_pred_sklearn_3, average='macro')))\n",
    "print(\"混合行列\")\n",
    "print(confusion_matrix(y_test ,y_pred_sklearn_3))"
   ]
  },
  {
   "cell_type": "code",
   "execution_count": 33,
   "metadata": {
    "scrolled": false
   },
   "outputs": [
    {
     "data": {
      "image/png": "[encoded data removed]",
      "text/plain": [
       "<Figure size 432x288 with 1 Axes>"
      ]
     },
     "metadata": {
      "needs_background": "light"
     },
     "output_type": "display_data"
    }
   ],
   "source": [
    "decision_region(X_train, y_train, dt_3)"
   ]
  },
  {
   "cell_type": "code",
   "execution_count": 34,
   "metadata": {},
   "outputs": [
    {
     "data": {
      "image/png": "[encoded data removed]",
      "text/plain": [
       "<Figure size 432x288 with 1 Axes>"
      ]
     },
     "metadata": {
      "needs_background": "light"
     },
     "output_type": "display_data"
    }
   ],
   "source": [
    "decision_region(X_train, y_train, dt_sklearn_3)"
   ]
  },
  {
   "cell_type": "markdown",
   "metadata": {},
   "source": [
    "うまく実装できた！"
   ]
  },
  {
   "cell_type": "markdown",
   "metadata": {},
   "source": [
    "### 【問題8】（アドバンス課題）深さに制限のない決定木分類器クラスの作成\n",
    "深さに制限のない決定木分類器のクラスScratchDecesionTreeClassifierDepthInfを作成してください。\n",
    "\n",
    "任意の深さを指定できるようにするとともに、指定しない場合は全ての葉ノードがジニ不純度0となるまで続けられるようにもしてください。"
   ]
  },
  {
   "cell_type": "markdown",
   "metadata": {},
   "source": [
    "- 深さは問題7で指定できるようにしたため、指定なしの場合の実装を考える。\n",
    "- 一部リファクタリング（処理内容は変えてない）"
   ]
  },
  {
   "cell_type": "code",
   "execution_count": 35,
   "metadata": {},
   "outputs": [],
   "source": [
    "class ScratchDecesionTreeClassifierDepthInf():\n",
    "    \"\"\"\n",
    "    深さ2の決定木分類器のスクラッチ実装\n",
    "\n",
    "    Parameters\n",
    "    ----------\n",
    "    verbose : bool\n",
    "      学習過程を出力する場合はTrue\n",
    "    max_depth : int\n",
    "      決定木の深さ\n",
    "    \"\"\"\n",
    "    def __init__(self, max_depth=-1, verbose=False):\n",
    "        # ハイパーパラメータを属性として記録\n",
    "        self.verbose = verbose\n",
    "        self.list_node = []\n",
    "        self.max_depth = max_depth\n",
    "        \n",
    "    def fit(self, X, y):\n",
    "        \"\"\"\n",
    "        決定木分類器を学習する\n",
    "        Parameters\n",
    "        ----------\n",
    "        X : 次の形のndarray, shape (n_samples, n_features)\n",
    "            訓練データの特徴量\n",
    "        y : 次の形のndarray, shape (n_samples, )\n",
    "            訓練データの正解値\n",
    "        \"\"\"\n",
    "        self.labels = np.unique(y)\n",
    "        depth = 0\n",
    "        \n",
    "        # ルートノードの情報を作成\n",
    "        dict_class_sample = self._create_dict_class_sample(X, y)\n",
    "        self._add_node(0, dict_class_sample)\n",
    "        \n",
    "        # 決定木作成\n",
    "        self._add_left_right_node(X, y, 0, depth)\n",
    "        \n",
    "# 気が散るのでコメントアウトしておく…\n",
    "#         if self.verbose:\n",
    "#             #verboseをTrueにした際は学習過程を出力\n",
    "#             print()\n",
    "#         pass\n",
    "    \n",
    "    def predict(self, X):\n",
    "        \"\"\"\n",
    "        決定木分類器を使いラベルを推定する\n",
    "        X : 次の形のndarray, shape (n_samples, n_features)\n",
    "            データの特徴量\n",
    "        \"\"\"        \n",
    "        y_pred = []\n",
    "        for data in X:\n",
    "            # ルートノードから探索スタート\n",
    "            self._predict_data(data, 0)\n",
    "            y_pred.append(self.predicted_)\n",
    "            \n",
    "        return np.array(y_pred)\n",
    "        \n",
    "    def _ginis_diversity_index(self, dict_class_sample):\n",
    "        \"\"\"\n",
    "        ジニ係数を計算する\n",
    "\n",
    "        Parameters\n",
    "        ----------\n",
    "        dict_class_sample : クラスとサンプル数を紐付けた辞書型\n",
    "        keyがクラス、valueが各クラスのサンプル数\n",
    "        \"\"\"\n",
    "        N = sum(dict_class_sample.values())\n",
    "\n",
    "        tmp_sum = 0\n",
    "        for i in dict_class_sample.keys():\n",
    "            tmp_sum += (dict_class_sample[i]/N)**2\n",
    "        I_t = 1 - tmp_sum\n",
    "        \n",
    "        return I_t\n",
    "    \n",
    "    def _information_gain(dict_class_sample_left, dict_class_sample_right):\n",
    "        \"\"\"\n",
    "        情報利得を計算する\n",
    "\n",
    "        Parameters\n",
    "        ----------\n",
    "        dict_class_sample_left : クラスとサンプル数を紐付けた辞書型(左ノード)\n",
    "        dict_class_sample_right : クラスとサンプル数を紐付けた辞書型(右ノード)\n",
    "        keyがクラス、valueが各クラスのサンプル数\n",
    "        \"\"\"\n",
    "        p_samples = np.array(list(dict_class_sample_left.values())) + np.array(list(dict_class_sample_right.values()))\n",
    "        dict_class_sample_p = dict(zip(list(dict_class_sample_left.keys()), p_samples)) \n",
    "\n",
    "        N_p_all = sum(list(dict_class_sample_p.values()))\n",
    "        N_left_all = sum(list(dict_class_sample_left.values()))\n",
    "        N_right_all = sum(list(dict_class_sample_right.values()))\n",
    "\n",
    "        rate_left = N_left_all/N_p_all\n",
    "        rate_right = N_right_all/N_p_all\n",
    "\n",
    "        if rate_left != 0:\n",
    "            gini_left = _ginis_diversity_index(dict_class_sample_left)\n",
    "        else:\n",
    "            gini_left = 0\n",
    "\n",
    "        if rate_right != 0:\n",
    "            gini_right = _ginis_diversity_index(dict_class_sample_right)\n",
    "        else:\n",
    "            gini_right = 0\n",
    "\n",
    "        IG = _ginis_diversity_index(dict_class_sample_p) - rate_left*gini_left - rate_right*gini_right\n",
    "\n",
    "        return IG\n",
    "    \n",
    "    def _create_dict_class_sample(self, X, y):\n",
    "        \"\"\"\n",
    "        クラスとサンプル数を紐付けた辞書型を作成\n",
    "\n",
    "        Parameters\n",
    "        ----------\n",
    "        X : 次の形のndarray, shape (n_samples, n_features)\n",
    "            特徴量データ\n",
    "        y : 次の形のndarray, shape (n_samples, 1)\n",
    "            ラベルデータ\n",
    "        \"\"\"\n",
    "        \n",
    "        dict_class_sample = {}\n",
    "        tmp = np.where(y == self.labels[0], True, False)\n",
    "        dict_class_sample[self.labels[0]] = len(X[tmp])\n",
    "        tmp = np.where(y == self.labels[1], True, False)        \n",
    "        dict_class_sample[self.labels[1]] = len(X[tmp])\n",
    "\n",
    "        return dict_class_sample\n",
    "    \n",
    "    def _add_node(self, node_id, dict_class_sample, p_node_id=-1):\n",
    "        \"\"\"\n",
    "        決定木にノードを追加する\n",
    "\n",
    "        Parameters\n",
    "        ----------\n",
    "        node_id : int\n",
    "          ノードの識別子\n",
    "        dict_class_sample : クラスとサンプル数を紐付けた辞書型\n",
    "        p_node_id: int\n",
    "          親ノードの識別子\n",
    "        \"\"\"\n",
    "        tmp_gini = self._ginis_diversity_index(dict_class_sample)\n",
    "        node = ScratchDecesionTreeNode(node_id, tmp_gini)\n",
    "        node.p_node_id = p_node_id\n",
    "\n",
    "        tmp_bool = np.array(list(dict_class_sample.values())) == max(dict_class_sample.values())\n",
    "        # 要素数が同じ場合はラベル値が小さいものを優先\n",
    "        node.class_ = int(min(np.array(list(dict_class_sample.keys()))[tmp_bool]))\n",
    "\n",
    "        self.list_node.append(node)\n",
    "\n",
    "    def _add_left_right_node(self, X, y, p_node_id, depth):\n",
    "        \"\"\"\n",
    "        指定したノードに左・右ノードを追加する\n",
    "\n",
    "        Parameters\n",
    "        ----------\n",
    "        X : 次の形のndarray, shape (n_samples, n_features)\n",
    "            特徴量データ\n",
    "        y : 次の形のndarray, shape (n_samples, 1)\n",
    "            ラベルデータ\n",
    "        p_node_id : int\n",
    "          親となるノードの識別子\n",
    "        depth: int\n",
    "          現在処理している決定木の深さ\n",
    "        \"\"\"\n",
    "        # 再帰の終了条件\n",
    "        if depth == self.max_depth:\n",
    "            return\n",
    "        \n",
    "        # 各種リストを用意\n",
    "        list_info_gain = []\n",
    "        list_dict_class_sample = []\n",
    "        list_threshold = [] \n",
    "        \n",
    "        # 特徴量分繰り返す\n",
    "        for i in range(X.shape[1]):\n",
    "            samples = np.unique(X[:, i])\n",
    "            #samples = (samples[:-1] + samples[1:]) / 2.0  # 中央の値で区切る際の処理\n",
    "\n",
    "            # サンプル数分繰り返す\n",
    "            for threshold in samples:\n",
    "\n",
    "                # 閾値とした特徴量で分割する\n",
    "                sample_left = X[X[:, i] > threshold]\n",
    "                label_left = y[X[:, i] > threshold]\n",
    "                sample_right = X[X[:, i] <= threshold]\n",
    "                label_right = y[X[:, i] <= threshold]\n",
    "\n",
    "                # 境界になる特徴量のインデックスと閾値を保持しておく\n",
    "                list_threshold.append([i, threshold])\n",
    "\n",
    "                # 左ノードの情報を作成\n",
    "                dict_class_sample_left = self._create_dict_class_sample(sample_left, label_left)                \n",
    "                # 右ノードの情報を作成\n",
    "                dict_class_sample_right = self._create_dict_class_sample(sample_right, label_right)\n",
    "\n",
    "                # 各リストに追加\n",
    "                list_dict_class_sample.append([dict_class_sample_left, dict_class_sample_right])\n",
    "                list_info_gain.append(_information_gain(dict_class_sample_left, dict_class_sample_right))\n",
    "\n",
    "        # IGが最も大きい分割の組み合わせを選択\n",
    "        # (IGが同値ならばインデックスが小さいものを優先)\n",
    "        list_info_gain = np.array(list_info_gain)\n",
    "        max_ig = list_info_gain.max()\n",
    "        index_selected_threshold = np.where(list_info_gain == max_ig)[0].min()\n",
    "        self.list_node[p_node_id].threshold = list_threshold[index_selected_threshold]\n",
    "        \n",
    "        num_left = sum(list_dict_class_sample[index_selected_threshold][0].values())\n",
    "        num_right = sum(list_dict_class_sample[index_selected_threshold][1].values())\n",
    "        \n",
    "        left_node_id = len(self.list_node)\n",
    "        right_node_id = left_node_id + 1\n",
    "        \n",
    "        index_feature = self.list_node[p_node_id].threshold[0]\n",
    "        threshold = self.list_node[p_node_id].threshold[1]\n",
    "        \n",
    "        # 左ノード追加\n",
    "        if num_left != 0:        \n",
    "            self._add_node(left_node_id, list_dict_class_sample[index_selected_threshold][0], p_node_id)\n",
    "            self.list_node[p_node_id].left_node_id = left_node_id\n",
    "        # 右ノード追加\n",
    "        if num_right != 0:        \n",
    "            self._add_node(right_node_id, list_dict_class_sample[index_selected_threshold][1], p_node_id)\n",
    "            self.list_node[p_node_id].right_node_id = right_node_id\n",
    "\n",
    "        # ジニ不純度が0のため終了\n",
    "        if not(num_left == 0 or num_right == 0):\n",
    "            if self._ginis_diversity_index(list_dict_class_sample[index_selected_threshold][0]) == 0 and \\\n",
    "               self._ginis_diversity_index(list_dict_class_sample[index_selected_threshold][1]) == 0:\n",
    "                return\n",
    "        \n",
    "        # 左ノードにさらにノードを追加\n",
    "        if num_left != 0:\n",
    "            sample_left = X[X[:, index_feature] > threshold]\n",
    "            label_left = y[X[:, index_feature] > threshold]\n",
    "            self._add_left_right_node(sample_left, label_left, left_node_id, depth+1)\n",
    "        # 右ノードにさらにノードを追加\n",
    "        if num_right != 0:\n",
    "            sample_right = X[X[:, index_feature] <= threshold]\n",
    "            label_right = y[X[:, index_feature] <= threshold]\n",
    "            self._add_left_right_node(sample_right, label_right, right_node_id, depth+1)\n",
    "        \n",
    "    def _predict_data(self, data, node_id):\n",
    "        \"\"\"\n",
    "        指定したノードに左・右ノードを追加する\n",
    "\n",
    "        Parameters\n",
    "        ----------\n",
    "        data : 次の形のndarray, shape (1, n_features)\n",
    "            1サンプル分の特徴量データ\n",
    "        node_id : int\n",
    "          現在処理しているノードの識別子\n",
    "        \"\"\"\n",
    "        node = self.list_node[node_id]\n",
    "        \n",
    "        # 再帰の終了条件\n",
    "        if node.threshold == [-1, -1]:\n",
    "            self.predicted_ = node.class_\n",
    "            return\n",
    "        \n",
    "        index_feature = node.threshold[0]\n",
    "        threshold = node.threshold[1]\n",
    "        if data[index_feature] > threshold:\n",
    "            self._predict_data(data, node.left_node_id)\n",
    "        else:\n",
    "            self._predict_data(data, node.right_node_id)\n",
    "            \n",
    "        \n",
    "class ScratchDecesionTreeNode():\n",
    "    \"\"\"\n",
    "    ScratchDecesionTreeClassifierDepth1で使用するノード情報\n",
    "    \n",
    "    Parameters\n",
    "    ----------\n",
    "    node_id : int\n",
    "      ノードID\n",
    "      \n",
    "    Attributes\n",
    "    ----------\n",
    "    self.p_node_id : int\n",
    "      親ノードID(-1の場合は自分がルートノードであることを意味する)\n",
    "    self.right_node_id : int\n",
    "      右ノードID(-1の場合は無しを意味する)\n",
    "    self.left_node_id : int\n",
    "      左ノードID(-1の場合は無しを意味する)\n",
    "    self.class_ : int\n",
    "      ノードに記録されるクラス\n",
    "    self.gini : float\n",
    "      ジニ係数\n",
    "    self.threshold : 要素数2のリスト\n",
    "      [特徴量のインデックス, 特徴量の実値](-1の場合は葉ノードであることを意味する)\n",
    "    \"\"\"\n",
    "    def __init__(self, node_id, gini):\n",
    "        if node_id < 0:\n",
    "            print(\"エラー\")\n",
    "            return\n",
    "        self.node_id = node_id\n",
    "        self.p_node_id = -1\n",
    "        self.right_node_id = -1\n",
    "        self.left_node_id = -1\n",
    "        self.class_ = -1\n",
    "        self.gini = gini\n",
    "        self.threshold = [-1, -1]\n",
    "        "
   ]
  },
  {
   "cell_type": "code",
   "execution_count": 36,
   "metadata": {},
   "outputs": [
    {
     "name": "stdout",
     "output_type": "stream",
     "text": [
      "[0 0 2 2 2 0 2 0 0 2 0 0 2 0 0 2 0 2 2 0 0 0 0 0 2]\n",
      "正解率:1.0\n",
      "適合率:1.0\n",
      "再現率:1.0\n",
      "F値:1.0\n",
      "混合行列\n",
      "[[15  0]\n",
      " [ 0 10]]\n"
     ]
    }
   ],
   "source": [
    "dt_4 = ScratchDecesionTreeClassifierDepthInf(max_depth=5)\n",
    "dt_4.fit(X_train, y_train)\n",
    "y_pred_4 = dt_4.predict(X_test)\n",
    "print(y_pred_4)\n",
    "print(\"正解率:{}\".format(accuracy_score(y_test ,y_pred_4)))\n",
    "print(\"適合率:{}\".format(precision_score(y_test ,y_pred_4, average='macro')))\n",
    "print(\"再現率:{}\".format(recall_score(y_test ,y_pred_4, average='macro')))\n",
    "print(\"F値:{}\".format(f1_score(y_test ,y_pred_4, average='macro')))\n",
    "print(\"混合行列\")\n",
    "print(confusion_matrix(y_test ,y_pred_4))"
   ]
  },
  {
   "cell_type": "code",
   "execution_count": 37,
   "metadata": {
    "scrolled": true
   },
   "outputs": [
    {
     "name": "stdout",
     "output_type": "stream",
     "text": [
      "[0 0 2 2 2 0 2 0 0 2 0 0 2 0 0 2 0 2 2 0 0 0 0 0 2]\n",
      "正解率:1.0\n",
      "適合率:1.0\n",
      "再現率:1.0\n",
      "F値:1.0\n",
      "混合行列\n",
      "[[15  0]\n",
      " [ 0 10]]\n"
     ]
    }
   ],
   "source": [
    "dt_sklearn_4 = DecisionTreeClassifier()\n",
    "dt_sklearn_4.fit(X_train, y_train)\n",
    "y_pred_sklearn_4 = dt_sklearn_4.predict(X_test)\n",
    "print(y_pred_sklearn_4)\n",
    "print(\"正解率:{}\".format(accuracy_score(y_test ,y_pred_sklearn_4)))\n",
    "print(\"適合率:{}\".format(precision_score(y_test ,y_pred_sklearn_4, average='macro')))\n",
    "print(\"再現率:{}\".format(recall_score(y_test ,y_pred_sklearn_4, average='macro')))\n",
    "print(\"F値:{}\".format(f1_score(y_test ,y_pred_sklearn_4, average='macro')))\n",
    "print(\"混合行列\")\n",
    "print(confusion_matrix(y_test ,y_pred_sklearn_4))"
   ]
  },
  {
   "cell_type": "code",
   "execution_count": 38,
   "metadata": {},
   "outputs": [
    {
     "data": {
      "image/png": "[encoded data removed]",
      "text/plain": [
       "<Figure size 432x288 with 1 Axes>"
      ]
     },
     "metadata": {
      "needs_background": "light"
     },
     "output_type": "display_data"
    }
   ],
   "source": [
    "decision_region(X_train, y_train, dt_4)"
   ]
  },
  {
   "cell_type": "code",
   "execution_count": 39,
   "metadata": {},
   "outputs": [
    {
     "data": {
      "image/png": "[encoded data removed]",
      "text/plain": [
       "<Figure size 432x288 with 1 Axes>"
      ]
     },
     "metadata": {
      "needs_background": "light"
     },
     "output_type": "display_data"
    }
   ],
   "source": [
    "decision_region(X_train, y_train, dt_sklearn_4)"
   ]
  },
  {
   "cell_type": "code",
   "execution_count": 40,
   "metadata": {},
   "outputs": [
    {
     "name": "stdout",
     "output_type": "stream",
     "text": [
      "threshold, gini\n",
      "[0, 5.7] 0.49777777777777776\n",
      "[1, 3.8] 0.04996712689020377\n",
      "[1, 2.8] 0.1049382716049383\n",
      "[-1, -1] 0.0\n",
      "[-1, -1] 0.0\n",
      "[0, 4.4] 0.0\n",
      "[0, 4.5] 0.4444444444444444\n",
      "[-1, -1] 0.0\n",
      "[-1, -1] 0.0\n",
      "[-1, -1] 0.0\n",
      "[-1, -1] 0.0\n",
      "node_id, left_node_id, right_node_id\n",
      "0 1 2\n",
      "1 3 4\n",
      "2 5 6\n",
      "3 -1 -1\n",
      "4 -1 -1\n",
      "5 7 8\n",
      "6 9 10\n",
      "7 -1 -1\n",
      "8 -1 -1\n",
      "9 -1 -1\n",
      "10 -1 -1\n"
     ]
    }
   ],
   "source": [
    "print(\"threshold, gini\")\n",
    "for i in range(len(dt_4.list_node)):\n",
    "    print(dt_4.list_node[i].threshold, dt_4.list_node[i].gini)\n",
    "print(\"node_id, left_node_id, right_node_id\")\n",
    "for i in range(len(dt_4.list_node)):\n",
    "    print(dt_4.list_node[i].node_id, dt_4.list_node[i].left_node_id, dt_4.list_node[i].right_node_id)"
   ]
  },
  {
   "cell_type": "markdown",
   "metadata": {},
   "source": [
    "境界線が少し異なる…ジニ係数が0になることで処理が止まる実装はうまくいっていそう。シンプルデータセット2でもう一度試してみる。"
   ]
  },
  {
   "cell_type": "code",
   "execution_count": 41,
   "metadata": {},
   "outputs": [
    {
     "data": {
      "text/plain": [
       "<function matplotlib.pyplot.show(*args, **kw)>"
      ]
     },
     "execution_count": 41,
     "metadata": {},
     "output_type": "execute_result"
    },
    {
     "data": {
      "image/png": "[encoded data removed]",
      "text/plain": [
       "<Figure size 576x576 with 1 Axes>"
      ]
     },
     "metadata": {
      "needs_background": "light"
     },
     "output_type": "display_data"
    }
   ],
   "source": [
    "# シンプルデータセット2\n",
    "X = np.array([[-0.44699 , -2.8073  ],[-1.4621  , -2.4586  ],\n",
    "       [ 0.10645 ,  1.9242  ],[-3.5944  , -4.0112  ],\n",
    "       [-0.9888  ,  4.5718  ],[-3.1625  , -3.9606  ],\n",
    "       [ 0.56421 ,  0.72888 ],[-0.60216 ,  8.4636  ],\n",
    "       [-0.61251 , -0.75345 ],[-0.73535 , -2.2718  ],\n",
    "       [-0.80647 , -2.2135  ],[ 0.86291 ,  2.3946  ],\n",
    "       [-3.1108  ,  0.15394 ],[-2.9362  ,  2.5462  ],\n",
    "       [-0.57242 , -2.9915  ],[ 1.4771  ,  3.4896  ],\n",
    "       [ 0.58619 ,  0.37158 ],[ 0.6017  ,  4.3439  ],\n",
    "       [-2.1086  ,  8.3428  ],[-4.1013  , -4.353   ],\n",
    "       [-1.9948  , -1.3927  ],[ 0.35084 , -0.031994],\n",
    "       [ 0.96765 ,  7.8929  ],[-1.281   , 15.6824  ],\n",
    "       [ 0.96765 , 10.083   ],[ 1.3763  ,  1.3347  ],\n",
    "       [-2.234   , -2.5323  ],[-2.9452  , -1.8219  ],\n",
    "       [ 0.14654 , -0.28733 ],[ 0.5461  ,  5.8245  ],\n",
    "       [-0.65259 ,  9.3444  ],[ 0.59912 ,  5.3524  ],\n",
    "       [ 0.50214 , -0.31818 ],[-3.0603  , -3.6461  ],\n",
    "       [-6.6797  ,  0.67661 ],[-2.353   , -0.72261 ],\n",
    "       [ 1.1319  ,  2.4023  ],[-0.12243 ,  9.0162  ],\n",
    "       [-2.5677  , 13.1779  ],[ 0.057313,  5.4681  ]])\n",
    "y = np.array([0, 0, 0, 0, 0, 0, 0, 0, 0, 0, 0, 0, 0, 0, 0, 0, 0, 0, 0, 0, 1, 1,\n",
    "       1, 1, 1, 1, 1, 1, 1, 1, 1, 1, 1, 1, 1, 1, 1, 1, 1, 1])\n",
    "\n",
    "X_train, X_test, y_train, y_test = train_test_split(X, y, train_size=0.75)\n",
    "\n",
    "plt.figure(figsize=(8, 8))\n",
    "plt.scatter(X[:20, 0], X[:20, 1], \n",
    "            marker=\"x\", alpha=0.7, c=\"r\")\n",
    "plt.scatter(X[20:, 0], X[20:, 1], \n",
    "            marker=\"x\", alpha=0.7, c=\"b\")\n",
    "\n",
    "plt.show"
   ]
  },
  {
   "cell_type": "code",
   "execution_count": 42,
   "metadata": {},
   "outputs": [
    {
     "name": "stdout",
     "output_type": "stream",
     "text": [
      "[1 1 1 1 1 0 1 1 1 0]\n",
      "正解率:0.5\n",
      "適合率:0.6875\n",
      "再現率:0.6428571428571428\n",
      "F値:0.4949494949494949\n",
      "混合行列\n",
      "[[2 5]\n",
      " [0 3]]\n"
     ]
    }
   ],
   "source": [
    "dt_5 = ScratchDecesionTreeClassifierDepthInf()\n",
    "dt_5.fit(X_train, y_train)\n",
    "y_pred_5 = dt_5.predict(X_test)\n",
    "print(y_pred_5)\n",
    "print(\"正解率:{}\".format(accuracy_score(y_test ,y_pred_5)))\n",
    "print(\"適合率:{}\".format(precision_score(y_test ,y_pred_5, average='macro')))\n",
    "print(\"再現率:{}\".format(recall_score(y_test ,y_pred_5, average='macro')))\n",
    "print(\"F値:{}\".format(f1_score(y_test ,y_pred_5, average='macro')))\n",
    "print(\"混合行列\")\n",
    "print(confusion_matrix(y_test ,y_pred_5))"
   ]
  },
  {
   "cell_type": "code",
   "execution_count": 43,
   "metadata": {},
   "outputs": [
    {
     "name": "stdout",
     "output_type": "stream",
     "text": [
      "[1 1 1 1 1 0 1 1 1 0]\n",
      "正解率:0.5\n",
      "適合率:0.6875\n",
      "再現率:0.6428571428571428\n",
      "F値:0.4949494949494949\n",
      "混合行列\n",
      "[[2 5]\n",
      " [0 3]]\n"
     ]
    }
   ],
   "source": [
    "dt_sklearn_5 = DecisionTreeClassifier()\n",
    "dt_sklearn_5.fit(X_train, y_train)\n",
    "y_pred_sklearn_5 = dt_sklearn_5.predict(X_test)\n",
    "print(y_pred_sklearn_5)\n",
    "print(\"正解率:{}\".format(accuracy_score(y_test ,y_pred_sklearn_5)))\n",
    "print(\"適合率:{}\".format(precision_score(y_test ,y_pred_sklearn_5, average='macro')))\n",
    "print(\"再現率:{}\".format(recall_score(y_test ,y_pred_sklearn_5, average='macro')))\n",
    "print(\"F値:{}\".format(f1_score(y_test ,y_pred_sklearn_5, average='macro')))\n",
    "print(\"混合行列\")\n",
    "print(confusion_matrix(y_test ,y_pred_sklearn_5))"
   ]
  },
  {
   "cell_type": "code",
   "execution_count": 44,
   "metadata": {},
   "outputs": [
    {
     "data": {
      "image/png": "[encoded data removed]",
      "text/plain": [
       "<Figure size 432x288 with 1 Axes>"
      ]
     },
     "metadata": {
      "needs_background": "light"
     },
     "output_type": "display_data"
    }
   ],
   "source": [
    "decision_region(X_train, y_train, dt_5)"
   ]
  },
  {
   "cell_type": "code",
   "execution_count": 45,
   "metadata": {},
   "outputs": [
    {
     "data": {
      "image/png": "[encoded data removed]",
      "text/plain": [
       "<Figure size 432x288 with 1 Axes>"
      ]
     },
     "metadata": {
      "needs_background": "light"
     },
     "output_type": "display_data"
    }
   ],
   "source": [
    "decision_region(X_train, y_train, dt_sklearn_5)"
   ]
  },
  {
   "cell_type": "code",
   "execution_count": 46,
   "metadata": {},
   "outputs": [
    {
     "name": "stdout",
     "output_type": "stream",
     "text": [
      "threshold, gini\n",
      "[1, -2.2135] 0.49111111111111116\n",
      "[1, 1.3347] 0.375\n",
      "[0, -2.234] 0.31999999999999984\n",
      "[1, 4.5718] 0.47337278106508873\n",
      "[0, -6.6797] 0.0\n",
      "[0, -2.1086] 0.21875\n",
      "[0, 0.86291] 0.31999999999999984\n",
      "[0, -1.281] 0.0\n",
      "[0, -2.5677] 0.5\n",
      "[-1, -1] 0.0\n",
      "[-1, -1] 0.0\n",
      "[-1, -1] 0.0\n",
      "[-1, -1] 0.0\n",
      "[0, 1.1319] 0.5\n",
      "[0, -2.9362] 0.0\n",
      "[-1, -1] 0.0\n",
      "[-1, -1] 0.0\n",
      "[-1, -1] 0.0\n",
      "[-1, -1] 0.0\n",
      "[-1, -1] 0.0\n",
      "[-1, -1] 0.0\n",
      "[0, -1.4621] 0.0\n",
      "[0, -3.1625] 0.48\n",
      "[-1, -1] 0.0\n",
      "[-1, -1] 0.0\n",
      "[-1, -1] 0.0\n",
      "[-1, -1] 0.0\n",
      "node_id, left_node_id, right_node_id\n",
      "0 1 2\n",
      "1 3 4\n",
      "2 21 22\n",
      "3 5 6\n",
      "4 19 20\n",
      "5 7 8\n",
      "6 13 14\n",
      "7 9 10\n",
      "8 11 12\n",
      "9 -1 -1\n",
      "10 -1 -1\n",
      "11 -1 -1\n",
      "12 -1 -1\n",
      "13 15 16\n",
      "14 17 18\n",
      "15 -1 -1\n",
      "16 -1 -1\n",
      "17 -1 -1\n",
      "18 -1 -1\n",
      "19 -1 -1\n",
      "20 -1 -1\n",
      "21 23 24\n",
      "22 25 26\n",
      "23 -1 -1\n",
      "24 -1 -1\n",
      "25 -1 -1\n",
      "26 -1 -1\n",
      "node_id, class_\n",
      "0 1\n",
      "1 1\n",
      "2 0\n",
      "3 1\n",
      "4 1\n",
      "5 1\n",
      "6 0\n",
      "7 1\n",
      "8 0\n",
      "9 1\n",
      "10 1\n",
      "11 0\n",
      "12 1\n",
      "13 0\n",
      "14 0\n",
      "15 0\n",
      "16 1\n",
      "17 0\n",
      "18 0\n",
      "19 1\n",
      "20 1\n",
      "21 0\n",
      "22 0\n",
      "23 0\n",
      "24 0\n",
      "25 1\n",
      "26 0\n"
     ]
    }
   ],
   "source": [
    "print(\"threshold, gini\")\n",
    "for i in range(len(dt_5.list_node)):\n",
    "    print(dt_5.list_node[i].threshold, dt_5.list_node[i].gini)\n",
    "print(\"node_id, left_node_id, right_node_id\")\n",
    "for i in range(len(dt_5.list_node)):\n",
    "    print(dt_5.list_node[i].node_id, dt_5.list_node[i].left_node_id, dt_5.list_node[i].right_node_id)\n",
    "print(\"node_id, class_\")\n",
    "for i in range(len(dt_5.list_node)):\n",
    "    print(dt_5.list_node[i].node_id, dt_5.list_node[i].class_)"
   ]
  },
  {
   "cell_type": "markdown",
   "metadata": {},
   "source": [
    "無駄なノードの作成は無さそう。正しく実装できていると思われる。"
   ]
  }
 ],
 "metadata": {
  "kernelspec": {
   "display_name": "Python 3",
   "language": "python",
   "name": "python3"
  },
  "language_info": {
   "codemirror_mode": {
    "name": "ipython",
    "version": 3
   },
   "file_extension": ".py",
   "mimetype": "text/x-python",
   "name": "python",
   "nbconvert_exporter": "python",
   "pygments_lexer": "ipython3",
   "version": "3.7.8"
  }
 },
 "nbformat": 4,
 "nbformat_minor": 4
}
