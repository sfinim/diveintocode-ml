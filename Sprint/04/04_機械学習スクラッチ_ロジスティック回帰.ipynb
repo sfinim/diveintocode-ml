{
 "cells": [
  {
   "cell_type": "markdown",
   "metadata": {},
   "source": [
    "## ロジスティック回帰スクラッチ\n",
    "ロジスティック回帰のクラスをスクラッチで作成していきます。NumPyなど最低限のライブラリのみを使いアルゴリズムを実装していきます。\n",
    "\n",
    "以下に雛形を用意してあります。このScratchLogisticRegressionクラスにコードを書き加えていってください。推定関係のメソッドは線形回帰と異なり、ラベルを出力するpredictメソッドと、確率を出力するpredict_probaメソッドの2種類を作成します。\n",
    "\n",
    "雛形\n",
    "\n",
    "```\n",
    "class ScratchLogisticRegression():\n",
    "    \"\"\"\n",
    "    ロジスティック回帰のスクラッチ実装\n",
    "\n",
    "    Parameters\n",
    "    ----------\n",
    "    num_iter : int\n",
    "      イテレーション数\n",
    "    lr : float\n",
    "      学習率\n",
    "    no_bias : bool\n",
    "      バイアス項を入れない場合はTrue\n",
    "    verbose : bool\n",
    "      学習過程を出力する場合はTrue\n",
    "\n",
    "    Attributes\n",
    "    ----------\n",
    "    self.coef_ : 次の形のndarray, shape (n_features,)\n",
    "      パラメータ\n",
    "    self.loss : 次の形のndarray, shape (self.iter,)\n",
    "      訓練データに対する損失の記録\n",
    "    self.val_loss : 次の形のndarray, shape (self.iter,)\n",
    "      検証データに対する損失の記録\n",
    "\n",
    "    \"\"\"\n",
    "    def __init__(self, num_iter, lr, bias, verbose):\n",
    "        # ハイパーパラメータを属性として記録\n",
    "        self.iter = num_iter\n",
    "        self.lr = lr\n",
    "        self.bias = bias\n",
    "        self.verbose = verbose\n",
    "        # 損失を記録する配列を用意\n",
    "        self.loss = np.zeros(self.iter)\n",
    "        self.val_loss = np.zeros(self.iter)\n",
    "    def fit(self, X, y, X_val=None, y_val=None):\n",
    "        \"\"\"\n",
    "        ロジスティック回帰を学習する。検証データが入力された場合はそれに対する損失と精度もイテレーションごとに計算する。\n",
    "\n",
    "        Parameters\n",
    "        ----------\n",
    "        X : 次の形のndarray, shape (n_samples, n_features)\n",
    "            訓練データの特徴量\n",
    "        y : 次の形のndarray, shape (n_samples, )\n",
    "            訓練データの正解値\n",
    "        X_val : 次の形のndarray, shape (n_samples, n_features)\n",
    "            検証データの特徴量\n",
    "        y_val : 次の形のndarray, shape (n_samples, )\n",
    "            検証データの正解値\n",
    "        \"\"\"\n",
    "        if self.verbose:\n",
    "            #verboseをTrueにした際は学習過程を出力\n",
    "            print()\n",
    "        pass\n",
    "\n",
    "    def predict(self, X):\n",
    "        \"\"\"\n",
    "        ロジスティック回帰を使いラベルを推定する。\n",
    "\n",
    "        Parameters\n",
    "        ----------\n",
    "        X : 次の形のndarray, shape (n_samples, n_features)\n",
    "            サンプル\n",
    "\n",
    "        Returns\n",
    "        -------\n",
    "            次の形のndarray, shape (n_samples, 1)\n",
    "            ロジスティック回帰による推定結果\n",
    "        \"\"\"\n",
    "        pass\n",
    "        return\n",
    "    def predict_proba(self, X):\n",
    "        \"\"\"\n",
    "        ロジスティック回帰を使い確率を推定する。\n",
    "\n",
    "        Parameters\n",
    "        ----------\n",
    "        X : 次の形のndarray, shape (n_samples, n_features)\n",
    "            サンプル\n",
    "\n",
    "        Returns\n",
    "        -------\n",
    "            次の形のndarray, shape (n_samples, 1)\n",
    "            ロジスティック回帰による推定結果\n",
    "        \"\"\"\n",
    "        pass\n",
    "        return\n",
    "```"
   ]
  },
  {
   "cell_type": "code",
   "execution_count": 1,
   "metadata": {},
   "outputs": [],
   "source": [
    "import numpy as np\n",
    "import logging\n",
    "\n",
    "formatter = '%(levelname)s : %(asctime)s : %(message)s'\n",
    "logging.basicConfig(filename='Logger.log', level=logging.ERROR, format=formatter)\n",
    "\n",
    "logging.critical('critical')\n",
    "logging.error('error')\n",
    "logging.warning('warning')\n",
    "logging.info('info')\n",
    "logging.debug('debug')"
   ]
  },
  {
   "cell_type": "code",
   "execution_count": 2,
   "metadata": {},
   "outputs": [],
   "source": [
    "class ScratchLogisticRegression():\n",
    "    \"\"\"\n",
    "    ロジスティック回帰のスクラッチ実装\n",
    "\n",
    "    Parameters\n",
    "    ----------\n",
    "    num_iter : int\n",
    "      イテレーション数\n",
    "    lr : float\n",
    "      学習率\n",
    "    no_bias : bool\n",
    "      バイアス項を入れない場合はTrue\n",
    "    verbose : bool\n",
    "      学習過程を出力する場合はTrue\n",
    "    C : float\n",
    "      正則化パラメータの逆数(0~1のfloat)\n",
    "\n",
    "    Attributes\n",
    "    ----------\n",
    "    self.coef_ : 次の形のndarray, shape (n_features,)\n",
    "      パラメータ\n",
    "    self.loss : 次の形のndarray, shape (self.iter,)\n",
    "      訓練データに対する損失の記録\n",
    "    self.val_loss : 次の形のndarray, shape (self.iter,)\n",
    "      検証データに対する損失の記録\n",
    "    self.label_ : 次の形のndarray, shape (n_features,)\n",
    "      出力ラベル\n",
    "    \"\"\"\n",
    "    def __init__(self, num_iter, lr, verbose, no_bias=False, C=1.0):\n",
    "        # ハイパーパラメータを属性として記録\n",
    "        self.iter = num_iter\n",
    "        self.lr = lr\n",
    "        self.no_bias = no_bias\n",
    "        self.verbose = verbose\n",
    "        if C == 0:\n",
    "            print(\"Cに0は指定できません\")\n",
    "            return\n",
    "        self.C = C\n",
    "        # 損失を記録する配列を用意\n",
    "        self.loss = np.zeros(self.iter)\n",
    "        self.val_loss = np.zeros(self.iter)\n",
    "        \n",
    "    def fit(self, X, y, X_val=None, y_val=None):\n",
    "        \"\"\"\n",
    "        ロジスティック回帰を学習する。検証データが入力された場合はそれに対する損失と精度もイテレーションごとに計算する。\n",
    "\n",
    "        Parameters\n",
    "        ----------\n",
    "        X : 次の形のndarray, shape (n_samples, n_features)\n",
    "            訓練データの特徴量\n",
    "        y : 次の形のndarray, shape (n_samples, )\n",
    "            訓練データの正解値\n",
    "        X_val : 次の形のndarray, shape (n_samples, n_features)\n",
    "            検証データの特徴量\n",
    "        y_val : 次の形のndarray, shape (n_samples, )\n",
    "            検証データの正解値\n",
    "        \"\"\"\n",
    "        logging.debug(\"[START]fit\")    \n",
    "        self.coef_ = np.random.normal(1, 0.5, (X.shape[1]))\n",
    "    \n",
    "        if (X_val is not None) and (y_val is not None):\n",
    "            flg = 1\n",
    "        else:\n",
    "            flg = 0\n",
    "\n",
    "        # 学習用にテストデータを0 or 1にする\n",
    "        self.label_ = np.array(list(set(y)))\n",
    "        dict_ = {self.label_[0]: 0, self.label_[1]: 1}\n",
    "        y_train = np.array([dict_[i] for i in y])\n",
    "        if flg == 1:\n",
    "            y_test = np.array([dict_[i] for i in y_val])\n",
    "            \n",
    "        for i in range(self.iter):\n",
    "            # 誤差を計算\n",
    "            error = self._calc_error(X, y_train)\n",
    "            # パラメータを計算\n",
    "            self.coef_ = self._gradient_descent(X, error)\n",
    "            # loss\n",
    "            self.loss[i] = self._objective(X, y_train)\n",
    "            if flg == 1:\n",
    "                self.val_loss[i] = self._objective(X_val, y_test)\n",
    "\n",
    "            if self.verbose:\n",
    "                #verboseをTrueにした際は学習過程を出力\n",
    "                print(\"iter:{} [train_loss:{:e}]\".format(i, self.loss[i]))\n",
    "                if flg == 1:\n",
    "                    print(\"iter:{} [val_loss:{:e}]\".format(i, self.val_loss[i]))\n",
    "\n",
    "        logging.debug(\"[END]fit\")    \n",
    "\n",
    "    def predict(self, X):\n",
    "        \"\"\"\n",
    "        ロジスティック回帰を使いラベルを推定する。\n",
    "\n",
    "        Parameters\n",
    "        ----------\n",
    "        X : 次の形のndarray, shape (n_samples, n_features)\n",
    "            サンプル\n",
    "\n",
    "        Returns\n",
    "        -------\n",
    "            次の形のndarray, shape (n_samples, 1)\n",
    "            ロジスティック回帰による推定結果\n",
    "        \"\"\"\n",
    "        logging.debug(\"[START]predict\")    \n",
    "\n",
    "        proba = self.predict_proba(X)\n",
    "        \n",
    "        logging.debug(\"[END]predict\")    \n",
    "\n",
    "        return np.array([self.label_[1] if i >= 0.5 else self.label_[0] for i in proba])\n",
    "    \n",
    "    def predict_proba(self, X):\n",
    "        \"\"\"\n",
    "        ロジスティック回帰を使い確率を推定する。\n",
    "\n",
    "        Parameters\n",
    "        ----------\n",
    "        X : 次の形のndarray, shape (n_samples, n_features)\n",
    "            サンプル\n",
    "\n",
    "        Returns\n",
    "        -------\n",
    "            次の形のndarray, shape (n_samples, 1)\n",
    "            ロジスティック回帰による推定結果\n",
    "        \"\"\"\n",
    "        logging.debug(\"[START_END]predict_proba\")\n",
    "        return self._hypothesis(X)\n",
    "    \n",
    "    def _sigmoid(self, X):\n",
    "        \"\"\"\n",
    "        シグモイド関数を計算する\n",
    "\n",
    "        Parameters\n",
    "        ----------\n",
    "        X : 次の形のndarray, shape (n_samples, n_features)\n",
    "            サンプル\n",
    "\n",
    "        Returns\n",
    "        -------\n",
    "            次の形のndarray, shape (n_samples, 1)\n",
    "            シグモイド関数の計算結果\n",
    "        \n",
    "        \"\"\"\n",
    "        logging.debug(\"[START_END]_sigmoid\")\n",
    "        return (1 / (1 + np.exp(-X) + 1e-7))\n",
    "    \n",
    "    def _hypothesis(self, X):\n",
    "        \"\"\"\n",
    "        仮定関数を計算する\n",
    "\n",
    "        Parameters\n",
    "        ----------\n",
    "        X : 次の形のndarray, shape (n_samples, n_features)\n",
    "            サンプル\n",
    "\n",
    "        Returns\n",
    "        -------\n",
    "            次の形のndarray, shape (n_samples, 1)\n",
    "            仮定関数の計算結果\n",
    "        \n",
    "        \"\"\"\n",
    "        logging.debug(\"[START]_hypothesis\")\n",
    "        logging.debug(\"[_hypothesis:X]%s\", X.shape)    \n",
    "        logging.debug(\"[_hypothesis:self.coef_]%s\", self.coef_.shape)    \n",
    "        \n",
    "        h_theta = np.dot(X, self.coef_)\n",
    "        \n",
    "        logging.debug(\"[END]_hypothesis\")\n",
    "        return self._sigmoid(h_theta)\n",
    "        \n",
    "    def _calc_error(self, X, y):\n",
    "        \"\"\"\n",
    "        仮定関数と目的変数の誤差を計算する\n",
    "\n",
    "        Parameters\n",
    "        ----------\n",
    "        X : 次の形のndarray, shape (n_samples, n_features)\n",
    "          訓練データ\n",
    "        y : 次の形のndarray, shape (n_samples, 1)\n",
    "          目的変数\n",
    "\n",
    "        Returns\n",
    "        -------\n",
    "          次の形のndarray, shape (1, n_features)\n",
    "          誤差\n",
    "        \"\"\"\n",
    "        logging.debug(\"[START]_calc_error\")\n",
    "        h_theta = self._hypothesis(X)\n",
    "        \n",
    "        logging.debug(\"[END]_calc_error\")\n",
    "        return (h_theta - y)    \n",
    "    \n",
    "    def _gradient_descent(self, X, error):\n",
    "        \"\"\"\n",
    "        サンプルと誤差により係数を計算する\n",
    "\n",
    "        Parameters\n",
    "        ----------\n",
    "        X : 次の形のndarray, shape (n_samples, n_features)\n",
    "          訓練データ\n",
    "        error : 次の形のndarray, shape (n_samples, 1)\n",
    "          _calc_errorで計算した誤差\n",
    "\n",
    "        Returns\n",
    "        -------\n",
    "          次の形のndarray, shape (1, n_features)\n",
    "          更新された線形関数のパラメータ\n",
    "        \"\"\"\n",
    "        logging.debug(\"[START]_gradient_descent\")\n",
    "        \n",
    "        tmp_coef = self.coef_.copy()\n",
    "        tmp_coef[0] = 0\n",
    "        \n",
    "        logging.debug(\"[_gradient_descent:tmp_coef]%s\", tmp_coef.shape)\n",
    "        \n",
    "        theta = self.coef_ - self.lr * (np.dot(error, X) + (1/self.C)*tmp_coef) / X.shape[0]  \n",
    "\n",
    "        logging.debug(\"[_gradient_descent:np.dot(error, X)]%s\", np.dot(error, X).shape)\n",
    "        \n",
    "        logging.debug(\"[END]_gradient_descent\")\n",
    "        return theta\n",
    "    \n",
    "    def _objective(self, X, y):\n",
    "        \"\"\"\n",
    "        ロジスティック回帰の損失関数\n",
    "\n",
    "        Parameters\n",
    "        ----------\n",
    "        X : 次の形のndarray, shape (n_samples, n_features)\n",
    "          サンプル\n",
    "        y : 次の形のndarray, shape (n_samples,)\n",
    "          正解値\n",
    "\n",
    "        Returns\n",
    "        ----------\n",
    "        loss : 次の形のndarray, shape (n_samples,)\n",
    "          損失\n",
    "        \"\"\"\n",
    "        logging.debug(\"[START]_objective\")\n",
    "        cross_entropy = (-y*np.log(self._hypothesis(X) + 1e-7) - (1-y)*np.log(1-self._hypothesis(X)) + 1e-7).sum(axis=0)/len(X)\n",
    "        regularization = (self.C/(2*len(X))) * sum(self.coef_**2)\n",
    "        \n",
    "        logging.debug(\"[END]_objective\")\n",
    "        return (cross_entropy + regularization)"
   ]
  },
  {
   "cell_type": "markdown",
   "metadata": {},
   "source": [
    "### 【問題1】仮定関数\n",
    "ロジスティック回帰の仮定関数のメソッドをScratchLogisticRegressionクラスに実装してください。\n",
    "\n",
    "ロジスティック回帰の仮定関数は、線形回帰の仮定関数を シグモイド関数 に通したものです。シグモイド関数は以下の式で表されます。\n",
    "\n",
    "$$\n",
    "g(z)=\\frac{1}{1+e^{-z}}\n",
    "$$\n",
    "\n",
    "線形回帰の仮定関数は次の式でした。\n",
    "\n",
    "$$\n",
    "h_\\theta(x)=\\theta^T・x\n",
    "$$\n",
    "\n",
    "まとめて書くと、ロジスティック回帰の仮定関数は次のようになります。\n",
    "\n",
    "$$\n",
    "h_\\theta(x)=\\frac{1}{1+e^{-\\theta^T・x}}\n",
    "$$\n",
    "\n",
    "$x$ : 特徴量ベクトル\n",
    "\n",
    "$\\theta$ : パラメータ（重み）ベクトル"
   ]
  },
  {
   "cell_type": "markdown",
   "metadata": {},
   "source": [
    "#### 回答\n",
    "- ScratchLogisticRegressionに_sigmoidメソッド・_hypothesisメソッドを追加"
   ]
  },
  {
   "cell_type": "markdown",
   "metadata": {},
   "source": [
    "### 【問題2】最急降下法\n",
    "最急降下法により学習させる実装を行なってください。以下の式で表されるパラメータの更新式のメソッド_gradient_descentを追加し、fit\n",
    "メソッドから呼び出すようにしてください。\n",
    "\n",
    "$$\n",
    "\\theta_j:=\\theta_j-\\alpha\\frac{\\partial J(\\theta)}{\\partial \\theta_j} \\\\\n",
    "\\frac{\\partial J(\\theta)}{\\partial \\theta_0}=\\frac{1}{m}\\sum_{i=1}^m(h_\\theta(x^{(i)})-y^{(i)})x^{(i)}_j,\\space j=0 \\\\\n",
    "\\frac{\\partial J(\\theta)}{\\partial \\theta_j}=(\\frac{1}{m}\\sum_{i=1}^m(h_\\theta(x^{(i)})-y^{(i)})x^{(i)}_j)+\\frac{\\lambda}{m}\\theta_j, \\space j \\geq1\n",
    "$$\n",
    "\n",
    "$\\alpha$ : 学習率\n",
    "\n",
    "$i$ : サンプルのインデックス\n",
    "\n",
    "$j$ : 特徴量のインデックス\n",
    "\n",
    "$m$ : 入力されるデータの数\n",
    "\n",
    "$h_\\theta()$ : 仮定関数\n",
    "\n",
    "$x$ : 特徴量ベクトル\n",
    "\n",
    "$\\theta$ : パラメータ（重み）ベクトル\n",
    "\n",
    "$x^{(i)}$ : i番目のサンプルの特徴量ベクトル\n",
    "\n",
    "$y^{(i)}$ : i番目のサンプルの正解ラベル\n",
    "\n",
    "$\\theta_j$ : j番目のパラメータ（重み）\n",
    "\n",
    "$λ$ : 正則化パラメータ"
   ]
  },
  {
   "cell_type": "markdown",
   "metadata": {},
   "source": [
    "#### 回答\n",
    "- コンストラクタにパラメータ\"C\"を追加。\n",
    "- ScratchLogisticRegressionに_calc_errorメソッド・_gradient_descentメソッドを追加。\n",
    "- fitメソッドに以下の処理を追加\n",
    "```\n",
    "        if self.no_bias == False:\n",
    "            self.coef_ = np.random.normal(1, 0.5, (X.shape[1]+1))\n",
    "        else:\n",
    "            self.coef_ = np.random.normal(1, 0.5, (X.shape[1]))\n",
    "\n",
    "        if (X_val is not None) and (y_val is not None):\n",
    "            flg = 1\n",
    "        else:\n",
    "            flg = 0\n",
    "        \n",
    "        for i in range(self.iter):\n",
    "            # 誤差を計算\n",
    "            error = self._calc_error(X, y)\n",
    "            logging.debug(\"[fit:error]%s\", error.shape)\n",
    "            # パラメータを計算\n",
    "            self.coef_ = self._gradient_descent(X, error)\n",
    "```"
   ]
  },
  {
   "cell_type": "markdown",
   "metadata": {},
   "source": [
    "### 【問題3】推定\n",
    "推定する仕組みを実装してください。ScratchLogisticRegressionクラスの雛形に含まれるpredictメソッドとpredict_probaメソッドに書き加えてください。\n",
    "\n",
    "仮定関数 $h_\\theta(x)$ の出力がpredict_probaの返り値、さらにその値に閾値を設けて1と0のラベルとしたものがpredictの返り値となります。"
   ]
  },
  {
   "cell_type": "markdown",
   "metadata": {},
   "source": [
    "#### 回答\n",
    "- predict_probaメソッドのリターン処理追加\n",
    "- predictメソッドに処理追加"
   ]
  },
  {
   "cell_type": "markdown",
   "metadata": {},
   "source": [
    "### 【問題4】目的関数\n",
    "以下の数式で表されるロジスティック回帰の 目的関数（損失関数） を実装してください。そして、これをself.loss, self.val_lossに記録するようにしてください。\n",
    "\n",
    "なお、この数式には正則化項が含まれています。\n",
    "\n",
    "＊数式が見切れる場合、DIVERを全画面にして御覧ください。\n",
    "\n",
    "$$\n",
    "J(\\theta)=\\frac{1}{m}\\sum_{i=1}^m[-y^{(i)}log(h_\\theta(x^{(i)}))-(1-y^{(i)})log(1-h_\\theta(x^{(i)}))]+\\frac{\\lambda}{2m}\\sum_{j=1}^n\\theta_j^2\n",
    "$$\n",
    "\n",
    "$m$ : 入力されるデータの数\n",
    "\n",
    "$h_\\theta()$ : 仮定関数\n",
    "\n",
    "$x$ : 特徴量ベクトル\n",
    "\n",
    "$\\theta$ : パラメータ（重み）ベクトル\n",
    "\n",
    "$x^{(i)}$ : i番目のサンプルの特徴量ベクトル\n",
    "\n",
    "$y^{(i)}$ : i番目のサンプルの正解ラベル\n",
    "\n",
    "$\\theta_j$ : j番目のパラメータ（重み）\n",
    "\n",
    "$n$ : 特徴量の数\n",
    "\n",
    "$λ$ : 正則化パラメータ"
   ]
  },
  {
   "cell_type": "markdown",
   "metadata": {},
   "source": [
    "#### 回答\n",
    "- _objectiveメソッドを追加"
   ]
  },
  {
   "cell_type": "markdown",
   "metadata": {},
   "source": [
    "### 【問題5】学習と推定\n",
    "機械学習スクラッチ入門のSprintで用意したirisデータセットのvirgicolorとvirginicaの2値分類に対してスクラッチ実装の学習と推定を行なってください。\n",
    "\n",
    "scikit-learnによる実装と比べ、正しく動いているかを確認してください。\n",
    "\n",
    "AccuracyやPrecision、Recallなどの指標値はscikit-learnを使用してください。"
   ]
  },
  {
   "cell_type": "code",
   "execution_count": 3,
   "metadata": {},
   "outputs": [
    {
     "data": {
      "text/html": [
       "<div>\n",
       "<style scoped>\n",
       "    .dataframe tbody tr th:only-of-type {\n",
       "        vertical-align: middle;\n",
       "    }\n",
       "\n",
       "    .dataframe tbody tr th {\n",
       "        vertical-align: top;\n",
       "    }\n",
       "\n",
       "    .dataframe thead th {\n",
       "        text-align: right;\n",
       "    }\n",
       "</style>\n",
       "<table border=\"1\" class=\"dataframe\">\n",
       "  <thead>\n",
       "    <tr style=\"text-align: right;\">\n",
       "      <th></th>\n",
       "      <th>sepal_length</th>\n",
       "      <th>sepal_width</th>\n",
       "      <th>petal_length</th>\n",
       "      <th>petal_width</th>\n",
       "      <th>Species</th>\n",
       "    </tr>\n",
       "  </thead>\n",
       "  <tbody>\n",
       "    <tr>\n",
       "      <th>count</th>\n",
       "      <td>100.000000</td>\n",
       "      <td>100.000000</td>\n",
       "      <td>100.000000</td>\n",
       "      <td>100.000000</td>\n",
       "      <td>100.000000</td>\n",
       "    </tr>\n",
       "    <tr>\n",
       "      <th>mean</th>\n",
       "      <td>6.262000</td>\n",
       "      <td>2.872000</td>\n",
       "      <td>4.906000</td>\n",
       "      <td>1.676000</td>\n",
       "      <td>1.500000</td>\n",
       "    </tr>\n",
       "    <tr>\n",
       "      <th>std</th>\n",
       "      <td>0.662834</td>\n",
       "      <td>0.332751</td>\n",
       "      <td>0.825578</td>\n",
       "      <td>0.424769</td>\n",
       "      <td>0.502519</td>\n",
       "    </tr>\n",
       "    <tr>\n",
       "      <th>min</th>\n",
       "      <td>4.900000</td>\n",
       "      <td>2.000000</td>\n",
       "      <td>3.000000</td>\n",
       "      <td>1.000000</td>\n",
       "      <td>1.000000</td>\n",
       "    </tr>\n",
       "    <tr>\n",
       "      <th>25%</th>\n",
       "      <td>5.800000</td>\n",
       "      <td>2.700000</td>\n",
       "      <td>4.375000</td>\n",
       "      <td>1.300000</td>\n",
       "      <td>1.000000</td>\n",
       "    </tr>\n",
       "    <tr>\n",
       "      <th>50%</th>\n",
       "      <td>6.300000</td>\n",
       "      <td>2.900000</td>\n",
       "      <td>4.900000</td>\n",
       "      <td>1.600000</td>\n",
       "      <td>1.500000</td>\n",
       "    </tr>\n",
       "    <tr>\n",
       "      <th>75%</th>\n",
       "      <td>6.700000</td>\n",
       "      <td>3.025000</td>\n",
       "      <td>5.525000</td>\n",
       "      <td>2.000000</td>\n",
       "      <td>2.000000</td>\n",
       "    </tr>\n",
       "    <tr>\n",
       "      <th>max</th>\n",
       "      <td>7.900000</td>\n",
       "      <td>3.800000</td>\n",
       "      <td>6.900000</td>\n",
       "      <td>2.500000</td>\n",
       "      <td>2.000000</td>\n",
       "    </tr>\n",
       "  </tbody>\n",
       "</table>\n",
       "</div>"
      ],
      "text/plain": [
       "       sepal_length  sepal_width  petal_length  petal_width     Species\n",
       "count    100.000000   100.000000    100.000000   100.000000  100.000000\n",
       "mean       6.262000     2.872000      4.906000     1.676000    1.500000\n",
       "std        0.662834     0.332751      0.825578     0.424769    0.502519\n",
       "min        4.900000     2.000000      3.000000     1.000000    1.000000\n",
       "25%        5.800000     2.700000      4.375000     1.300000    1.000000\n",
       "50%        6.300000     2.900000      4.900000     1.600000    1.500000\n",
       "75%        6.700000     3.025000      5.525000     2.000000    2.000000\n",
       "max        7.900000     3.800000      6.900000     2.500000    2.000000"
      ]
     },
     "execution_count": 3,
     "metadata": {},
     "output_type": "execute_result"
    }
   ],
   "source": [
    "from sklearn.datasets import load_iris\n",
    "from sklearn.model_selection import train_test_split\n",
    "from sklearn.metrics import accuracy_score, precision_score, recall_score, f1_score, confusion_matrix\n",
    "from sklearn.linear_model import LogisticRegression\n",
    "import pandas as pd\n",
    "\n",
    "data = load_iris()\n",
    "\n",
    "X = pd.DataFrame(data=data.data, columns=['sepal_length', 'sepal_width', 'petal_length', 'petal_width'])\n",
    "y = pd.DataFrame(data=data.target, columns=['Species'])\n",
    "\n",
    "df = pd.concat([X, y], axis=1)\n",
    "df = df.query('Species==[1, 2]')\n",
    "df.describe()"
   ]
  },
  {
   "cell_type": "code",
   "execution_count": 4,
   "metadata": {},
   "outputs": [],
   "source": [
    "X = np.array(df[['sepal_length', 'sepal_width', 'petal_length', 'petal_width']])\n",
    "y = np.array(df[['Species']]).reshape(-1,)\n",
    "\n",
    "X_train, X_test, y_train, y_test = train_test_split(X, y,\n",
    "                                                    test_size=0.25,\n",
    "                                                    random_state=32)"
   ]
  },
  {
   "cell_type": "code",
   "execution_count": 5,
   "metadata": {
    "scrolled": true
   },
   "outputs": [
    {
     "name": "stdout",
     "output_type": "stream",
     "text": [
      "正解率:0.88\n",
      "適合率:1.0\n",
      "再現率:0.8\n",
      "F値:0.888888888888889\n",
      "混合行列\n",
      "[[12  3]\n",
      " [ 0 10]]\n"
     ]
    }
   ],
   "source": [
    "lr = ScratchLogisticRegression(num_iter=500, lr=0.01, verbose=False)\n",
    "lr.fit(X_train, y_train, X_test, y_test)\n",
    "y_pred = lr.predict(X_test)\n",
    "print(\"正解率:{}\".format(accuracy_score(y_test, y_pred)))\n",
    "print(\"適合率:{}\".format(precision_score(y_test, y_pred)))\n",
    "print(\"再現率:{}\".format(recall_score(y_test, y_pred)))\n",
    "print(\"F値:{}\".format(f1_score(y_test, y_pred)))\n",
    "print(\"混合行列\")\n",
    "print(confusion_matrix(y_test ,y_pred))"
   ]
  },
  {
   "cell_type": "code",
   "execution_count": 6,
   "metadata": {
    "scrolled": false
   },
   "outputs": [
    {
     "name": "stdout",
     "output_type": "stream",
     "text": [
      "正解率:0.88\n",
      "適合率:1.0\n",
      "再現率:0.8\n",
      "F値:0.888888888888889\n",
      "混合行列\n",
      "[[12  3]\n",
      " [ 0 10]]\n"
     ]
    }
   ],
   "source": [
    "lr_sklearn = LogisticRegression()\n",
    "lr_sklearn.fit(X_train, y_train)\n",
    "y_pred_sklearn = lr_sklearn.predict(X_test)\n",
    "print(\"正解率:{}\".format(accuracy_score(y_test, y_pred_sklearn)))\n",
    "print(\"適合率:{}\".format(precision_score(y_test, y_pred_sklearn)))\n",
    "print(\"再現率:{}\".format(recall_score(y_test, y_pred_sklearn)))\n",
    "print(\"F値:{}\".format(f1_score(y_test, y_pred_sklearn)))\n",
    "print(\"混合行列\")\n",
    "print(confusion_matrix(y_test ,y_pred))"
   ]
  },
  {
   "cell_type": "markdown",
   "metadata": {},
   "source": [
    "### 【問題6】学習曲線のプロット\n",
    "学習曲線を見て損失が適切に下がっているかどうか確認してください。"
   ]
  },
  {
   "cell_type": "code",
   "execution_count": 7,
   "metadata": {},
   "outputs": [
    {
     "data": {
      "image/png": "[encoded data removed]",
      "text/plain": [
       "<Figure size 432x288 with 1 Axes>"
      ]
     },
     "metadata": {
      "needs_background": "light"
     },
     "output_type": "display_data"
    }
   ],
   "source": [
    "import matplotlib.pyplot as plt\n",
    "\n",
    "x = np.arange(1, len(lr.loss)+1)\n",
    "plt.plot(x, lr.loss, label=\"loss\")\n",
    "plt.plot(x, lr.val_loss, label=\"val_loss\")\n",
    "plt.legend()\n",
    "plt.show()"
   ]
  },
  {
   "cell_type": "markdown",
   "metadata": {},
   "source": [
    "### 【問題7】決定領域の可視化\n",
    "決定領域を可視化してください。"
   ]
  },
  {
   "cell_type": "markdown",
   "metadata": {},
   "source": [
    "決定領域を描画するため、特徴量にsepal_lengthとpetal_lengthを選択する。"
   ]
  },
  {
   "cell_type": "code",
   "execution_count": 8,
   "metadata": {},
   "outputs": [],
   "source": [
    "X_2 = np.array(df[['sepal_length', 'petal_length']])\n",
    "y_2 = np.array(df[['Species']]).reshape(-1,)\n",
    "\n",
    "X_train_2, X_test_2, y_train_2, y_test_2 = train_test_split(X_2, y_2,\n",
    "                                                            test_size=0.25,\n",
    "                                                            random_state=32)"
   ]
  },
  {
   "cell_type": "code",
   "execution_count": 9,
   "metadata": {},
   "outputs": [],
   "source": [
    "from matplotlib.colors import ListedColormap\n",
    "import matplotlib.patches as mpatches\n",
    "\n",
    "def decision_region(X, y, model, step=0.01, title='decision region', xlabel='xlabel', ylabel='ylabel', target_names=['versicolor', 'virginica']):\n",
    "    \"\"\"\n",
    "    2値分類を2次元の特徴量で学習したモデルの決定領域を描く。\n",
    "    背景の色が学習したモデルによる推定値から描画される。\n",
    "    散布図の点は訓練データまたは検証データである。\n",
    "\n",
    "    Parameters\n",
    "    ----------------\n",
    "    X : ndarray, shape(n_samples, 2)\n",
    "        特徴量\n",
    "    y : ndarray, shape(n_samples,)\n",
    "        ラベル\n",
    "    model : object\n",
    "        学習したモデルのインスンタスを入れる\n",
    "    step : float, (default : 0.1)\n",
    "        推定値を計算する間隔を設定する\n",
    "    title : str\n",
    "        グラフのタイトルの文章を与える\n",
    "    xlabel, ylabel : str\n",
    "        軸ラベルの文章を与える\n",
    "    target_names= : list of str\n",
    "        凡例の一覧を与える\n",
    "    \"\"\"\n",
    "    # setting\n",
    "    scatter_color = ['red', 'blue']\n",
    "    contourf_color = ['pink', 'skyblue']\n",
    "    n_class = 2\n",
    "    # pred\n",
    "    mesh_f0, mesh_f1  = np.meshgrid(np.arange(np.min(X[:,0])-0.5, np.max(X[:,0])+0.5, step), np.arange(np.min(X[:,1])-0.5, np.max(X[:,1])+0.5, step))\n",
    "    mesh = np.c_[np.ravel(mesh_f0),np.ravel(mesh_f1)]\n",
    "    y_pred = model.predict(mesh).reshape(mesh_f0.shape)\n",
    "    # plot\n",
    "    plt.title(title)\n",
    "    plt.xlabel(xlabel)\n",
    "    plt.ylabel(ylabel)\n",
    "    plt.contourf(mesh_f0, mesh_f1, y_pred, n_class-1, cmap=ListedColormap(contourf_color))\n",
    "    plt.contour(mesh_f0, mesh_f1, y_pred, n_class-1, colors='y', linewidths=3, alpha=0.5)\n",
    "    for i, target in enumerate(set(y)):\n",
    "        plt.scatter(X[y==target][:, 0], X[y==target][:, 1], s=80, color=scatter_color[i], label=target_names[i], marker='o')\n",
    "    patches = [mpatches.Patch(color=scatter_color[i], label=target_names[i]) for i in range(n_class)]\n",
    "    plt.legend(handles=patches)\n",
    "    plt.legend()\n",
    "    plt.show()"
   ]
  },
  {
   "cell_type": "code",
   "execution_count": 10,
   "metadata": {},
   "outputs": [
    {
     "data": {
      "image/png": "[encoded data removed]",
      "text/plain": [
       "<Figure size 432x288 with 1 Axes>"
      ]
     },
     "metadata": {
      "needs_background": "light"
     },
     "output_type": "display_data"
    }
   ],
   "source": [
    "lr_2 = ScratchLogisticRegression(num_iter=500, lr=0.01, verbose=False)\n",
    "lr_2.fit(X_train_2, y_train_2, X_test_2, y_test_2)\n",
    "# 学習データ\n",
    "decision_region(X_train_2, y_train_2, lr_2)"
   ]
  },
  {
   "cell_type": "code",
   "execution_count": 11,
   "metadata": {},
   "outputs": [
    {
     "data": {
      "image/png": "[encoded data removed]",
      "text/plain": [
       "<Figure size 432x288 with 1 Axes>"
      ]
     },
     "metadata": {
      "needs_background": "light"
     },
     "output_type": "display_data"
    }
   ],
   "source": [
    "# テストデータ\n",
    "decision_region(X_test_2, y_test_2, lr_2)"
   ]
  },
  {
   "cell_type": "markdown",
   "metadata": {},
   "source": [
    "### 【問題8】（アドバンス課題）重みの保存\n",
    "検証が容易になるように、学習した重みを保存および読み込みができるようにしましょう。pickleモジュールやNumPyのnp.savezを利用します。\n",
    "\n",
    "[pickle — Python オブジェクトの直列化 — Python 3.7.4 ドキュメント](https://docs.python.org/ja/3/library/pickle.html)\n",
    "\n",
    "[numpy.savez — NumPy v1.17 Manual](https://numpy.org/doc/stable/reference/generated/numpy.savez.html)"
   ]
  },
  {
   "cell_type": "code",
   "execution_count": 12,
   "metadata": {},
   "outputs": [],
   "source": [
    "filename_np=\"coef_lr_np\"\n",
    "\n",
    "# 保存\n",
    "np.save(filename_np, (lr_2.coef_, lr_2.label_))"
   ]
  },
  {
   "cell_type": "code",
   "execution_count": 13,
   "metadata": {},
   "outputs": [
    {
     "name": "stdout",
     "output_type": "stream",
     "text": [
      "[[-1.01570654  1.34818418]\n",
      " [ 1.          2.        ]]\n",
      "[-1.01570654  1.34818418] [1 2]\n"
     ]
    }
   ],
   "source": [
    "# ロード\n",
    "load_np = np.load(filename_np+\".npy\")\n",
    "print(load_np)\n",
    "print(lr_2.coef_, lr_2.label_)"
   ]
  },
  {
   "cell_type": "code",
   "execution_count": 14,
   "metadata": {
    "scrolled": true
   },
   "outputs": [
    {
     "data": {
      "image/png": "[encoded data removed]",
      "text/plain": [
       "<Figure size 432x288 with 1 Axes>"
      ]
     },
     "metadata": {
      "needs_background": "light"
     },
     "output_type": "display_data"
    },
    {
     "data": {
      "image/png": "[encoded data removed]",
      "text/plain": [
       "<Figure size 432x288 with 1 Axes>"
      ]
     },
     "metadata": {
      "needs_background": "light"
     },
     "output_type": "display_data"
    }
   ],
   "source": [
    "# 学習(ロードした重みを設定)\n",
    "lr_3 = ScratchLogisticRegression(num_iter=500, lr=0.01, verbose=False)\n",
    "lr_3.coef_ = load_np[0]\n",
    "lr_3.label_ = load_np[1]\n",
    "\n",
    "# 予測\n",
    "decision_region(X_train_2, y_train_2, lr_3)\n",
    "decision_region(X_test_2, y_test_2, lr_3)"
   ]
  },
  {
   "cell_type": "markdown",
   "metadata": {},
   "source": [
    "正しく実装できたと思われる。"
   ]
  }
 ],
 "metadata": {
  "kernelspec": {
   "display_name": "Python 3",
   "language": "python",
   "name": "python3"
  },
  "language_info": {
   "codemirror_mode": {
    "name": "ipython",
    "version": 3
   },
   "file_extension": ".py",
   "mimetype": "text/x-python",
   "name": "python",
   "nbconvert_exporter": "python",
   "pygments_lexer": "ipython3",
   "version": "3.7.8"
  }
 },
 "nbformat": 4,
 "nbformat_minor": 4
}
