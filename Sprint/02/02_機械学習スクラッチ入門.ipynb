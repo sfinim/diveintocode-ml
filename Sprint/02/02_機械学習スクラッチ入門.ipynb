{
 "cells": [
  {
   "cell_type": "markdown",
   "metadata": {
    "colab_type": "text",
    "id": "mz-1KQdSiXi5"
   },
   "source": [
    "このSprintでは機械学習手法のスクラッチ課題に取り組む準備を行います。scikit-learnを用いて分類・回帰問題を解くコードを書いておき、今後のSprintではそれと同じ動作をするクラスをスクラッチで作成していきます。\n",
    "\n",
    "#### スクラッチの意義\n",
    "ここでのスクラッチとは、NumPyなどの基本的なライブラリを組み合わせることで、scikit-learnのような応用的なライブラリと同じ機能のクラス・関数を自作することを指します。\n",
    "\n",
    "スクラッチをすることでscikit-learnなどのライブラリを動かすだけでは掴みづらい、アルゴリズムの深い理解を目指します。コーディングのスキル向上も兼ねますが、それは主な目的ではありません。\n",
    "\n",
    "以下のような効果を狙っています。\n",
    "\n",
    "- 新たな手法に出会った時に理論・数式を理解しやすくする\n",
    "- ライブラリを使う上での曖昧さを減らす\n",
    "- 既存の実装を読みやすくする"
   ]
  },
  {
   "cell_type": "markdown",
   "metadata": {
    "colab_type": "text",
    "id": "8BfP0dGaxYnC"
   },
   "source": [
    "### 【問題1】train_test_splitのスクラッチ\n",
    "スクラッチの練習として、scikit-learnのtrain_test_splitを自作してみます。以下の雛形をベースとして関数を完成させてください。\n",
    "```\n",
    "def scratch_train_test_split(X, y, train_size=0.8,):\n",
    "    \"\"\"\n",
    "    検証データを分割する。\n",
    "\n",
    "    Parameters\n",
    "    ----------\n",
    "    X : 次の形のndarray, shape (n_samples, n_features)\n",
    "      訓練データ\n",
    "    y : 次の形のndarray, shape (n_samples, )\n",
    "      正解値\n",
    "    train_size : float (0<train_size<1)\n",
    "      何割をtrainとするか指定\n",
    "\n",
    "    Returns\n",
    "    ----------\n",
    "    X_train : 次の形のndarray, shape (n_samples, n_features)\n",
    "      訓練データ\n",
    "    X_test : 次の形のndarray, shape (n_samples, n_features)\n",
    "      検証データ\n",
    "    y_train : 次の形のndarray, shape (n_samples, )\n",
    "      訓練データの正解値\n",
    "    y_test : 次の形のndarray, shape (n_samples, )\n",
    "      検証データの正解値\n",
    "    \"\"\"\n",
    "    #ここにコードを書く\n",
    "    pass\n",
    "    return X_train, X_test, y_train, y_test\n",
    "```"
   ]
  },
  {
   "cell_type": "code",
   "execution_count": 1,
   "metadata": {
    "colab": {},
    "colab_type": "code",
    "id": "5JtkFq7mDdrF"
   },
   "outputs": [],
   "source": [
    "import numpy as np\n",
    "import pandas as pd\n",
    "\n",
    "def scratch_train_test_split(X, y, train_size=0.8, random_state=None):\n",
    "    \"\"\"\n",
    "    検証データを分割する。\n",
    "\n",
    "    Parameters\n",
    "    ----------\n",
    "    X : 次の形のndarray, shape (n_samples, n_features)\n",
    "      訓練データ\n",
    "    y : 次の形のndarray, shape (n_samples, )\n",
    "      正解値\n",
    "    train_size : float (0<train_size<1)\n",
    "      何割をtrainとするか指定\n",
    "    random_state : int\n",
    "      ランダムシードの作成\n",
    "\n",
    "    Returns\n",
    "    ----------\n",
    "    X_train : 次の形のndarray, shape (n_samples, n_features)\n",
    "      訓練データ\n",
    "    X_test : 次の形のndarray, shape (n_samples, n_features)\n",
    "      検証データ\n",
    "    y_train : 次の形のndarray, shape (n_samples, )\n",
    "      訓練データの正解値\n",
    "    y_test : 次の形のndarray, shape (n_samples, )\n",
    "      検証データの正解値\n",
    "    \"\"\"\n",
    "    # チェック\n",
    "    if not (type(X) == np.ndarray or type(X) == pd.DataFrame) or \\\n",
    "       not (type(y) == np.ndarray or type(y) == pd.DataFrame) :\n",
    "        print(\"Xとyはnp.ndarrayかpd.DataFrameで入力してください\")\n",
    "        return None\n",
    "    if len(X) != len(y):\n",
    "        print(\"Xとyのデータ数が合っていません\")\n",
    "        return None\n",
    "    if type(train_size) != float:\n",
    "        print(\"train_sizeはfloat(0~1)で入力してください\")\n",
    "        return None\n",
    "    elif not (train_size > 0 and train_size < 1):\n",
    "        print(\"データを分割できません。float(0~1)で入力してください\")\n",
    "        return None\n",
    "    if type(random_state) != type(None) and type(random_state) != int:\n",
    "        print(\"random_stateはintで入力してください\")\n",
    "        return None\n",
    "\n",
    "    # 乱数生成\n",
    "    if random_state == None:\n",
    "        np.random.seed()\n",
    "    else:\n",
    "        np.random.seed(random_state)\n",
    "\n",
    "    # データ数    \n",
    "    num_train = int(len(X)*train_size)\n",
    "\n",
    "    # 抽出用インデックスリスト作成(True:train, False:test)\n",
    "    list_tmp = np.random.choice(np.arange(len(X)), num_train, replace=False)\n",
    "    list_index = []\n",
    "    for i in range(len(X)):\n",
    "        if i in list_tmp:\n",
    "            list_index.append(True)\n",
    "        else:\n",
    "            list_index.append(False)\n",
    "\n",
    "    # 学習データ抽出\n",
    "    X_train = X[list_index]\n",
    "    y_train = y[list_index]\n",
    "\n",
    "    # テストデータ抽出\n",
    "    X_test = X[np.logical_not(list_index)]\n",
    "    y_test = y[np.logical_not(list_index)]\n",
    "\n",
    "    return X_train, X_test, y_train, y_test"
   ]
  },
  {
   "cell_type": "code",
   "execution_count": 2,
   "metadata": {
    "colab": {
     "base_uri": "https://localhost:8080/",
     "height": 153
    },
    "colab_type": "code",
    "id": "1sAQnYq21Z14",
    "outputId": "a42a8246-167a-448d-8f5a-c46ed0bfdc7f"
   },
   "outputs": [
    {
     "name": "stdout",
     "output_type": "stream",
     "text": [
      "Xとyはnp.ndarrayかpd.DataFrameで入力してください\n",
      "Xとyはnp.ndarrayかpd.DataFrameで入力してください\n",
      "Xとyはnp.ndarrayかpd.DataFrameで入力してください\n",
      "Xとyのデータ数が合っていません\n",
      "Xとyのデータ数が合っていません\n",
      "train_sizeはfloat(0~1)で入力してください\n",
      "データを分割できません。float(0~1)で入力してください\n",
      "random_stateはintで入力してください\n"
     ]
    }
   ],
   "source": [
    "# 異常パターンテスト\n",
    "scratch_train_test_split(1, 3, train_size=0.8)\n",
    "scratch_train_test_split(np.array([1,2,3]), 3, train_size=0.8)\n",
    "scratch_train_test_split([1,2,3], np.array([1,2]), train_size=0.8)\n",
    "scratch_train_test_split(np.array([1,2,3]), np.array([1,2]), train_size=0.8)\n",
    "scratch_train_test_split(np.array([[1,2],[2,3],[3,4]]), np.array([1,2]), train_size=0.8)\n",
    "scratch_train_test_split(np.array([[1,2],[2,3],[3,4]]), np.array([1,2,3]), train_size=2)\n",
    "scratch_train_test_split(np.array([[1,2],[2,3],[3,4]]), np.array([1,2,3]), train_size=2.0)\n",
    "scratch_train_test_split(np.array([[1,2],[2,3],[3,4]]), np.array([1,2,3]), train_size=0.8, random_state=None) # 正常終了\n",
    "scratch_train_test_split(np.array([[1,2],[2,3],[3,4]]), np.array([1,2,3]), train_size=0.8, random_state=32.0)"
   ]
  },
  {
   "cell_type": "code",
   "execution_count": 3,
   "metadata": {
    "colab": {
     "base_uri": "https://localhost:8080/",
     "height": 136
    },
    "colab_type": "code",
    "id": "IhVSwmTtxUxF",
    "outputId": "d3235bab-8276-4cc3-cb00-ae5eead8bd77"
   },
   "outputs": [
    {
     "name": "stdout",
     "output_type": "stream",
     "text": [
      "[[ 2  3]\n",
      " [ 3  4]\n",
      " [ 5  6]\n",
      " [ 4  6]\n",
      " [12  8]\n",
      " [34 45]]\n",
      "[0 1 2 3 4 5]\n"
     ]
    }
   ],
   "source": [
    "# 正常パターンテスト\n",
    "X = np.array([[2,3],\n",
    "              [3,4],\n",
    "              [5,6],\n",
    "              [4,6],\n",
    "              [12,8],\n",
    "              [34,45]])\n",
    "y = np.array([0,1,2,3,4,5])\n",
    "print(X)\n",
    "print(y)"
   ]
  },
  {
   "cell_type": "code",
   "execution_count": 4,
   "metadata": {
    "colab": {
     "base_uri": "https://localhost:8080/",
     "height": 153
    },
    "colab_type": "code",
    "id": "z1dzRMMpxVb0",
    "outputId": "e7ae9533-8116-4a5d-efd2-323943945cb2"
   },
   "outputs": [
    {
     "name": "stdout",
     "output_type": "stream",
     "text": [
      "[[ 3  4]\n",
      " [ 5  6]\n",
      " [ 4  6]\n",
      " [34 45]]\n",
      "[[ 2  3]\n",
      " [12  8]]\n",
      "[1 2 3 5]\n",
      "[0 4]\n"
     ]
    }
   ],
   "source": [
    "X_train, X_test, y_train, y_test = scratch_train_test_split(X, y, train_size=0.8)\n",
    "print(X_train)\n",
    "print(X_test)\n",
    "print(y_train)\n",
    "print(y_test)"
   ]
  },
  {
   "cell_type": "code",
   "execution_count": 5,
   "metadata": {
    "colab": {
     "base_uri": "https://localhost:8080/",
     "height": 255
    },
    "colab_type": "code",
    "id": "HVdwXxoMDwXu",
    "outputId": "5c255633-d74e-46a7-8bb0-cda3aed6f55e"
   },
   "outputs": [
    {
     "name": "stdout",
     "output_type": "stream",
     "text": [
      "    0   1\n",
      "0   2   3\n",
      "1   3   4\n",
      "2   5   6\n",
      "3   4   6\n",
      "4  12   8\n",
      "5  34  45\n",
      "   0\n",
      "0  0\n",
      "1  1\n",
      "2  2\n",
      "3  3\n",
      "4  4\n",
      "5  5\n"
     ]
    }
   ],
   "source": [
    "X = pd.DataFrame([[2,3],[3,4],[5,6],[4,6],[12,8],[34,45]])\n",
    "y = pd.DataFrame([0,1,2,3,4,5])\n",
    "print(X)\n",
    "print(y)"
   ]
  },
  {
   "cell_type": "code",
   "execution_count": 6,
   "metadata": {
    "colab": {
     "base_uri": "https://localhost:8080/",
     "height": 289
    },
    "colab_type": "code",
    "id": "pDhpVASzEJsr",
    "outputId": "cf961fa4-318d-47c5-9861-41a7cb3d124f"
   },
   "outputs": [
    {
     "name": "stdout",
     "output_type": "stream",
     "text": [
      "    0   1\n",
      "0   2   3\n",
      "1   3   4\n",
      "2   5   6\n",
      "5  34  45\n",
      "    0  1\n",
      "3   4  6\n",
      "4  12  8\n",
      "   0\n",
      "0  0\n",
      "1  1\n",
      "2  2\n",
      "5  5\n",
      "   0\n",
      "3  3\n",
      "4  4\n"
     ]
    }
   ],
   "source": [
    "X_train, X_test, y_train, y_test = scratch_train_test_split(X, y, train_size=0.8)\n",
    "print(X_train)\n",
    "print(X_test)\n",
    "print(y_train)\n",
    "print(y_test)"
   ]
  },
  {
   "cell_type": "code",
   "execution_count": 7,
   "metadata": {
    "colab": {
     "base_uri": "https://localhost:8080/",
     "height": 153
    },
    "colab_type": "code",
    "id": "hNyGyam9DhSB",
    "outputId": "856bb271-e7e1-4ad6-a133-f35154f62606"
   },
   "outputs": [
    {
     "name": "stdout",
     "output_type": "stream",
     "text": [
      "    0   1\n",
      "4  12   8\n",
      "3   4   6\n",
      "5  34  45\n",
      "2   5   6\n",
      "   0  1\n",
      "0  2  3\n",
      "1  3  4\n",
      "   0\n",
      "4  4\n",
      "3  3\n",
      "5  5\n",
      "2  2\n",
      "   0\n",
      "0  0\n",
      "1  1\n"
     ]
    }
   ],
   "source": [
    "from sklearn.model_selection import train_test_split\n",
    "\n",
    "X_train, X_test, y_train, y_test = train_test_split(X, y, train_size=0.8)\n",
    "print(X_train)\n",
    "print(X_test)\n",
    "print(y_train)\n",
    "print(y_test)"
   ]
  },
  {
   "cell_type": "markdown",
   "metadata": {
    "colab_type": "text",
    "id": "hM0XHJ_xhDJf"
   },
   "source": [
    "scikit-learnを使ったコードを作成していきます。\n",
    "\n",
    "検証データの分割には問題1で作成した自作の関数を用いてください。クロスバリデーションではなくホールドアウト法で構いません。\n",
    "\n",
    "#### 分類問題\n",
    "分類は3種類の手法をスクラッチします。\n",
    "\n",
    "- ロジスティック回帰\n",
    "- SVM\n",
    "- 決定木\n",
    "\n",
    "ロジスティック回帰はscikit-learnにおいてLogisticRegressionクラスとSGDClassifierクラスの2種類から使用できます。ここでは勾配降下法を用いて計算するSGDClassifierクラスを利用してください。引数でloss=\"log\"とすることでロジスティック回帰の計算になります。\n",
    "\n",
    "- [sklearn.linear_model.SGDClassifier — scikit-learn 0.21.3 documentation](https://scikit-learn.org/stable/modules/generated/sklearn.linear_model.SGDClassifier.html#sklearn.linear_model.SGDClassifier)\n",
    "- [sklearn.svm.SVC — scikit-learn 0.21.3 documentation](https://scikit-learn.org/stable/modules/generated/sklearn.svm.SVC.html#sklearn.svm.SVC)\n",
    "- [sklearn.tree.DecisionTreeClassifier — scikit-learn 0.21.3 documentation](https://scikit-learn.org/stable/modules/generated/sklearn.tree.DecisionTreeClassifier.html#sklearn.tree.DecisionTreeClassifier)\n",
    "\n",
    "データセットは3種類用意します。\n",
    "1つ目は事前学習期間同様にirisデータセットです。\n",
    "\n",
    "[sklearn.datasets.load_iris — scikit-learn 0.20.2 documentation](https://scikit-learn.org/stable/modules/generated/sklearn.datasets.load_iris.html)\n",
    "\n",
    "2値分類としたいため、以下の2つの目的変数のみ利用します。特徴量は4種類全て使います。\n",
    "\n",
    "- virgicolorとvirginica\n",
    "\n",
    "残り2つは特徴量が2つのデータセットを人工的に用意します。以下のコードで説明変数X,目的変数yが作成可能です。「シンプルデータセット1」「シンプルデータセット2」とします。特徴量が2つであるため可視化が容易です。"
   ]
  },
  {
   "cell_type": "markdown",
   "metadata": {
    "colab_type": "text",
    "id": "iWb-q1FliM1L"
   },
   "source": [
    "### 【問題2】 分類問題を解くコードの作成\n",
    "上記3種類の手法で3種類のデータセットを学習・推定するコードを作成してください。"
   ]
  },
  {
   "cell_type": "code",
   "execution_count": 8,
   "metadata": {
    "colab": {},
    "colab_type": "code",
    "id": "36GlDQT4f7fu"
   },
   "outputs": [],
   "source": [
    "### 途中で問題を勘違いしていることに気づきました。 ###\n",
    "\n",
    "# class Scratch_SGDClassifier():\n",
    "\n",
    "#     def __init__(self, loss='hinge'):\n",
    "#         if not (loss == \"hinge\" or loss == \"log\"):\n",
    "#             print(\"入力が対応していません\")\n",
    "#             return\n",
    "#         self.loss = loss\n",
    "\n",
    "#     def sigmoid(self, w, x):\n",
    "#         return 1 / (1 + np.exp(-w.T * x))\n",
    "    \n",
    "#     def cross_entropy_error(self, x, y):\n",
    "#         delta = 1e-7 # log(0)防止用\n",
    "#         return -np.sum((y * np.log(self.sigmoid(x) + delta)) + ((1-y) * np.log(1 - self.sigmoid(x) + delta)))\n",
    "\n",
    "#     def fit(self, X, y):\n",
    "#         if self.loss == \"hinge\":\n",
    "#             pass\n",
    "#         else self.loss == \"log\":\n",
    "#             pass\n",
    "    \n",
    "#     def predict(self, X):\n",
    "#         pass\n",
    "    "
   ]
  },
  {
   "cell_type": "code",
   "execution_count": 9,
   "metadata": {
    "colab": {},
    "colab_type": "code",
    "id": "QgctfcI70p9G"
   },
   "outputs": [],
   "source": [
    "from sklearn.linear_model import SGDClassifier\n",
    "from sklearn.svm import SVC\n",
    "from sklearn.tree import DecisionTreeClassifier\n",
    "from sklearn.metrics import accuracy_score, precision_score, recall_score, f1_score, confusion_matrix"
   ]
  },
  {
   "cell_type": "code",
   "execution_count": 10,
   "metadata": {
    "colab": {},
    "colab_type": "code",
    "id": "OlPWwzjL9nI2"
   },
   "outputs": [],
   "source": [
    "# 試験用関数の定義\n",
    "def train2evaluate(X_train, X_test, y_train, y_test, model):\n",
    "    model.fit(X_train, y_train)\n",
    "    y_pred = model.predict(X_test)\n",
    "    print(\"正解率:{}\".format(accuracy_score(y_test ,y_pred)))\n",
    "    print(\"適合率:{}\".format(precision_score(y_test ,y_pred, average='macro')))\n",
    "    print(\"再現率:{}\".format(recall_score(y_test ,y_pred, average='macro')))\n",
    "    print(\"F値:{}\".format(f1_score(y_test ,y_pred, average='macro')))\n",
    "    print(\"混合行列\")\n",
    "    print(confusion_matrix(y_test ,y_pred))"
   ]
  },
  {
   "cell_type": "code",
   "execution_count": 11,
   "metadata": {
    "colab": {},
    "colab_type": "code",
    "id": "jwPGPVJ-9WOD"
   },
   "outputs": [],
   "source": [
    "# irisデータセット\n",
    "from sklearn.datasets import load_iris\n",
    "import pandas as pd\n",
    "\n",
    "data = load_iris()\n",
    "\n",
    "X = pd.DataFrame(data=data.data, columns=['sepal_length', 'sepal_width', 'petal_length', 'petal_width'])\n",
    "y = pd.DataFrame(data=data.target, columns=['Species'])\n",
    "\n",
    "df = pd.concat([X, y], axis=1)\n",
    "df = df.query('Species==[1, 2]')\n",
    "\n",
    "X_1 = df[['sepal_length', 'sepal_width', 'petal_length', 'petal_width']]\n",
    "y_1 = df[['Species']]"
   ]
  },
  {
   "cell_type": "code",
   "execution_count": 12,
   "metadata": {
    "colab": {
     "base_uri": "https://localhost:8080/",
     "height": 297
    },
    "colab_type": "code",
    "id": "eBOQATPEBxC8",
    "outputId": "06c77892-cc98-4814-a143-621c5a18eaac"
   },
   "outputs": [
    {
     "data": {
      "text/html": [
       "<div>\n",
       "<style scoped>\n",
       "    .dataframe tbody tr th:only-of-type {\n",
       "        vertical-align: middle;\n",
       "    }\n",
       "\n",
       "    .dataframe tbody tr th {\n",
       "        vertical-align: top;\n",
       "    }\n",
       "\n",
       "    .dataframe thead th {\n",
       "        text-align: right;\n",
       "    }\n",
       "</style>\n",
       "<table border=\"1\" class=\"dataframe\">\n",
       "  <thead>\n",
       "    <tr style=\"text-align: right;\">\n",
       "      <th></th>\n",
       "      <th>sepal_length</th>\n",
       "      <th>sepal_width</th>\n",
       "      <th>petal_length</th>\n",
       "      <th>petal_width</th>\n",
       "    </tr>\n",
       "  </thead>\n",
       "  <tbody>\n",
       "    <tr>\n",
       "      <th>count</th>\n",
       "      <td>100.000000</td>\n",
       "      <td>100.000000</td>\n",
       "      <td>100.000000</td>\n",
       "      <td>100.000000</td>\n",
       "    </tr>\n",
       "    <tr>\n",
       "      <th>mean</th>\n",
       "      <td>6.262000</td>\n",
       "      <td>2.872000</td>\n",
       "      <td>4.906000</td>\n",
       "      <td>1.676000</td>\n",
       "    </tr>\n",
       "    <tr>\n",
       "      <th>std</th>\n",
       "      <td>0.662834</td>\n",
       "      <td>0.332751</td>\n",
       "      <td>0.825578</td>\n",
       "      <td>0.424769</td>\n",
       "    </tr>\n",
       "    <tr>\n",
       "      <th>min</th>\n",
       "      <td>4.900000</td>\n",
       "      <td>2.000000</td>\n",
       "      <td>3.000000</td>\n",
       "      <td>1.000000</td>\n",
       "    </tr>\n",
       "    <tr>\n",
       "      <th>25%</th>\n",
       "      <td>5.800000</td>\n",
       "      <td>2.700000</td>\n",
       "      <td>4.375000</td>\n",
       "      <td>1.300000</td>\n",
       "    </tr>\n",
       "    <tr>\n",
       "      <th>50%</th>\n",
       "      <td>6.300000</td>\n",
       "      <td>2.900000</td>\n",
       "      <td>4.900000</td>\n",
       "      <td>1.600000</td>\n",
       "    </tr>\n",
       "    <tr>\n",
       "      <th>75%</th>\n",
       "      <td>6.700000</td>\n",
       "      <td>3.025000</td>\n",
       "      <td>5.525000</td>\n",
       "      <td>2.000000</td>\n",
       "    </tr>\n",
       "    <tr>\n",
       "      <th>max</th>\n",
       "      <td>7.900000</td>\n",
       "      <td>3.800000</td>\n",
       "      <td>6.900000</td>\n",
       "      <td>2.500000</td>\n",
       "    </tr>\n",
       "  </tbody>\n",
       "</table>\n",
       "</div>"
      ],
      "text/plain": [
       "       sepal_length  sepal_width  petal_length  petal_width\n",
       "count    100.000000   100.000000    100.000000   100.000000\n",
       "mean       6.262000     2.872000      4.906000     1.676000\n",
       "std        0.662834     0.332751      0.825578     0.424769\n",
       "min        4.900000     2.000000      3.000000     1.000000\n",
       "25%        5.800000     2.700000      4.375000     1.300000\n",
       "50%        6.300000     2.900000      4.900000     1.600000\n",
       "75%        6.700000     3.025000      5.525000     2.000000\n",
       "max        7.900000     3.800000      6.900000     2.500000"
      ]
     },
     "execution_count": 12,
     "metadata": {},
     "output_type": "execute_result"
    }
   ],
   "source": [
    "X_1.describe()"
   ]
  },
  {
   "cell_type": "code",
   "execution_count": 13,
   "metadata": {
    "colab": {
     "base_uri": "https://localhost:8080/",
     "height": 297
    },
    "colab_type": "code",
    "id": "LGzVRAhfBzWN",
    "outputId": "5007c345-1dd3-4d60-afab-893984bbae68"
   },
   "outputs": [
    {
     "data": {
      "text/html": [
       "<div>\n",
       "<style scoped>\n",
       "    .dataframe tbody tr th:only-of-type {\n",
       "        vertical-align: middle;\n",
       "    }\n",
       "\n",
       "    .dataframe tbody tr th {\n",
       "        vertical-align: top;\n",
       "    }\n",
       "\n",
       "    .dataframe thead th {\n",
       "        text-align: right;\n",
       "    }\n",
       "</style>\n",
       "<table border=\"1\" class=\"dataframe\">\n",
       "  <thead>\n",
       "    <tr style=\"text-align: right;\">\n",
       "      <th></th>\n",
       "      <th>Species</th>\n",
       "    </tr>\n",
       "  </thead>\n",
       "  <tbody>\n",
       "    <tr>\n",
       "      <th>count</th>\n",
       "      <td>100.000000</td>\n",
       "    </tr>\n",
       "    <tr>\n",
       "      <th>mean</th>\n",
       "      <td>1.500000</td>\n",
       "    </tr>\n",
       "    <tr>\n",
       "      <th>std</th>\n",
       "      <td>0.502519</td>\n",
       "    </tr>\n",
       "    <tr>\n",
       "      <th>min</th>\n",
       "      <td>1.000000</td>\n",
       "    </tr>\n",
       "    <tr>\n",
       "      <th>25%</th>\n",
       "      <td>1.000000</td>\n",
       "    </tr>\n",
       "    <tr>\n",
       "      <th>50%</th>\n",
       "      <td>1.500000</td>\n",
       "    </tr>\n",
       "    <tr>\n",
       "      <th>75%</th>\n",
       "      <td>2.000000</td>\n",
       "    </tr>\n",
       "    <tr>\n",
       "      <th>max</th>\n",
       "      <td>2.000000</td>\n",
       "    </tr>\n",
       "  </tbody>\n",
       "</table>\n",
       "</div>"
      ],
      "text/plain": [
       "          Species\n",
       "count  100.000000\n",
       "mean     1.500000\n",
       "std      0.502519\n",
       "min      1.000000\n",
       "25%      1.000000\n",
       "50%      1.500000\n",
       "75%      2.000000\n",
       "max      2.000000"
      ]
     },
     "execution_count": 13,
     "metadata": {},
     "output_type": "execute_result"
    }
   ],
   "source": [
    "y_1.describe()"
   ]
  },
  {
   "cell_type": "code",
   "execution_count": 14,
   "metadata": {
    "colab": {},
    "colab_type": "code",
    "id": "xqXT_9H77oRJ"
   },
   "outputs": [],
   "source": [
    "sgd = SGDClassifier(loss=\"log\")\n",
    "svc = SVC()\n",
    "dt = DecisionTreeClassifier()\n",
    "\n",
    "dict_model = {\"SGDClassifier\": sgd, \"SVC\": svc, \"DecisionTreeClassifier\":dt}"
   ]
  },
  {
   "cell_type": "code",
   "execution_count": 15,
   "metadata": {
    "colab": {
     "base_uri": "https://localhost:8080/",
     "height": 544
    },
    "colab_type": "code",
    "id": "_b5hymUlGIOg",
    "outputId": "8201ca53-d260-4dd7-bfda-3fe8e723a961"
   },
   "outputs": [
    {
     "name": "stdout",
     "output_type": "stream",
     "text": [
      "#####SGDClassifier#####\n",
      "正解率:1.0\n",
      "適合率:1.0\n",
      "再現率:1.0\n",
      "F値:1.0\n",
      "混合行列\n",
      "[[11  0]\n",
      " [ 0  9]]\n",
      "\n",
      "#####SVC#####\n",
      "正解率:0.95\n",
      "適合率:0.9583333333333333\n",
      "再現率:0.9444444444444444\n",
      "F値:0.948849104859335\n",
      "混合行列\n",
      "[[11  0]\n",
      " [ 1  8]]\n",
      "\n",
      "#####DecisionTreeClassifier#####\n",
      "正解率:1.0\n",
      "適合率:1.0\n",
      "再現率:1.0\n",
      "F値:1.0\n",
      "混合行列\n",
      "[[11  0]\n",
      " [ 0  9]]\n",
      "\n"
     ]
    },
    {
     "name": "stderr",
     "output_type": "stream",
     "text": [
      "/home/timanishi/.pyenv/versions/3.7.8/lib/python3.7/site-packages/sklearn/utils/validation.py:73: DataConversionWarning: A column-vector y was passed when a 1d array was expected. Please change the shape of y to (n_samples, ), for example using ravel().\n",
      "  return f(**kwargs)\n",
      "/home/timanishi/.pyenv/versions/3.7.8/lib/python3.7/site-packages/sklearn/utils/validation.py:73: DataConversionWarning: A column-vector y was passed when a 1d array was expected. Please change the shape of y to (n_samples, ), for example using ravel().\n",
      "  return f(**kwargs)\n"
     ]
    }
   ],
   "source": [
    "X_1_train, X_1_test, y_1_train, y_1_test = scratch_train_test_split(X_1, y_1, train_size=0.8)\n",
    "\n",
    "for name, model in dict_model.items():\n",
    "  print(\"#####\"+name+\"#####\")\n",
    "  train2evaluate(X_1_train, X_1_test, y_1_train, y_1_test, model)\n",
    "  print()"
   ]
  },
  {
   "cell_type": "code",
   "execution_count": 16,
   "metadata": {
    "colab": {},
    "colab_type": "code",
    "id": "8cdxPzvwK_Xw"
   },
   "outputs": [],
   "source": [
    "# シンプルデータセット1\n",
    "import numpy as np\n",
    "np.random.seed(seed=0)\n",
    "n_samples = 500\n",
    "f0 = [-1, 2]\n",
    "f1 = [2, -1]\n",
    "cov = [[1.0,0.8], [0.8, 1.0]]\n",
    "f0 = np.random.multivariate_normal(f0, cov, int(n_samples/2))\n",
    "f1 = np.random.multivariate_normal(f1, cov, int(n_samples/2))\n",
    "X_2 = np.concatenate((f0, f1))\n",
    "y_2 = np.concatenate((np.ones((int(n_samples/2))), np.ones((int(n_samples/2))) *(-1))).astype(np.int)\n",
    "random_index = np.random.permutation(np.arange(n_samples))\n",
    "X_2 = X_2[random_index]\n",
    "y_2 = y_2[random_index]"
   ]
  },
  {
   "cell_type": "code",
   "execution_count": 17,
   "metadata": {
    "colab": {
     "base_uri": "https://localhost:8080/",
     "height": 500
    },
    "colab_type": "code",
    "id": "YRpdJvcADOmW",
    "outputId": "fb4a74a0-3539-4bc5-fd8e-7322b7a1c176"
   },
   "outputs": [
    {
     "data": {
      "text/plain": [
       "<function matplotlib.pyplot.show(*args, **kw)>"
      ]
     },
     "execution_count": 17,
     "metadata": {},
     "output_type": "execute_result"
    },
    {
     "data": {
      "image/png": "[encoded data removed]",
      "text/plain": [
       "<Figure size 576x576 with 1 Axes>"
      ]
     },
     "metadata": {
      "needs_background": "light"
     },
     "output_type": "display_data"
    }
   ],
   "source": [
    "import matplotlib.pyplot as plt\n",
    "\n",
    "# 散布図\n",
    "plt.figure(figsize=(8, 8))\n",
    "plt.scatter(X_2[:, 0], X_2[:, 1], \n",
    "            marker=\"x\", alpha=0.7, c=\"r\")\n",
    "\n",
    "plt.show"
   ]
  },
  {
   "cell_type": "code",
   "execution_count": 18,
   "metadata": {
    "colab": {
     "base_uri": "https://localhost:8080/",
     "height": 476
    },
    "colab_type": "code",
    "id": "5_dGRYAyDPH9",
    "outputId": "d06c3f60-af1b-43f2-c095-d5ae0028308d"
   },
   "outputs": [
    {
     "name": "stdout",
     "output_type": "stream",
     "text": [
      "#####SGDClassifier#####\n",
      "正解率:1.0\n",
      "適合率:1.0\n",
      "再現率:1.0\n",
      "F値:1.0\n",
      "混合行列\n",
      "[[44  0]\n",
      " [ 0 56]]\n",
      "\n",
      "#####SVC#####\n",
      "正解率:1.0\n",
      "適合率:1.0\n",
      "再現率:1.0\n",
      "F値:1.0\n",
      "混合行列\n",
      "[[44  0]\n",
      " [ 0 56]]\n",
      "\n",
      "#####DecisionTreeClassifier#####\n",
      "正解率:1.0\n",
      "適合率:1.0\n",
      "再現率:1.0\n",
      "F値:1.0\n",
      "混合行列\n",
      "[[44  0]\n",
      " [ 0 56]]\n",
      "\n"
     ]
    }
   ],
   "source": [
    "X_2_train, X_2_test, y_2_train, y_2_test = scratch_train_test_split(X_2, y_2, train_size=0.8)\n",
    "\n",
    "for name, model in dict_model.items():\n",
    "  print(\"#####\"+name+\"#####\")\n",
    "  train2evaluate(X_2_train, X_2_test, y_2_train, y_2_test, model)\n",
    "  print()"
   ]
  },
  {
   "cell_type": "code",
   "execution_count": 19,
   "metadata": {
    "colab": {},
    "colab_type": "code",
    "id": "dUlqT3fXf6q_"
   },
   "outputs": [],
   "source": [
    "# シンプルデータセット2\n",
    "X_3 = np.array([[-0.44699 , -2.8073  ],[-1.4621  , -2.4586  ],\n",
    "       [ 0.10645 ,  1.9242  ],[-3.5944  , -4.0112  ],\n",
    "       [-0.9888  ,  4.5718  ],[-3.1625  , -3.9606  ],\n",
    "       [ 0.56421 ,  0.72888 ],[-0.60216 ,  8.4636  ],\n",
    "       [-0.61251 , -0.75345 ],[-0.73535 , -2.2718  ],\n",
    "       [-0.80647 , -2.2135  ],[ 0.86291 ,  2.3946  ],\n",
    "       [-3.1108  ,  0.15394 ],[-2.9362  ,  2.5462  ],\n",
    "       [-0.57242 , -2.9915  ],[ 1.4771  ,  3.4896  ],\n",
    "       [ 0.58619 ,  0.37158 ],[ 0.6017  ,  4.3439  ],\n",
    "       [-2.1086  ,  8.3428  ],[-4.1013  , -4.353   ],\n",
    "       [-1.9948  , -1.3927  ],[ 0.35084 , -0.031994],\n",
    "       [ 0.96765 ,  7.8929  ],[-1.281   , 15.6824  ],\n",
    "       [ 0.96765 , 10.083   ],[ 1.3763  ,  1.3347  ],\n",
    "       [-2.234   , -2.5323  ],[-2.9452  , -1.8219  ],\n",
    "       [ 0.14654 , -0.28733 ],[ 0.5461  ,  5.8245  ],\n",
    "       [-0.65259 ,  9.3444  ],[ 0.59912 ,  5.3524  ],\n",
    "       [ 0.50214 , -0.31818 ],[-3.0603  , -3.6461  ],\n",
    "       [-6.6797  ,  0.67661 ],[-2.353   , -0.72261 ],\n",
    "       [ 1.1319  ,  2.4023  ],[-0.12243 ,  9.0162  ],\n",
    "       [-2.5677  , 13.1779  ],[ 0.057313,  5.4681  ]])\n",
    "y_3 = np.array([0, 0, 0, 0, 0, 0, 0, 0, 0, 0, 0, 0, 0, 0, 0, 0, 0, 0, 0, 0, 1, 1,\n",
    "       1, 1, 1, 1, 1, 1, 1, 1, 1, 1, 1, 1, 1, 1, 1, 1, 1, 1])"
   ]
  },
  {
   "cell_type": "code",
   "execution_count": 20,
   "metadata": {
    "colab": {
     "base_uri": "https://localhost:8080/",
     "height": 500
    },
    "colab_type": "code",
    "id": "nIbpuTktf71G",
    "outputId": "dd8ac46e-c030-42fe-b314-e092eb7d9299"
   },
   "outputs": [
    {
     "data": {
      "text/plain": [
       "<function matplotlib.pyplot.show(*args, **kw)>"
      ]
     },
     "execution_count": 20,
     "metadata": {},
     "output_type": "execute_result"
    },
    {
     "data": {
      "image/png": "[encoded data removed]",
      "text/plain": [
       "<Figure size 576x576 with 1 Axes>"
      ]
     },
     "metadata": {
      "needs_background": "light"
     },
     "output_type": "display_data"
    }
   ],
   "source": [
    "# 散布図\n",
    "plt.figure(figsize=(8, 8))\n",
    "plt.scatter(X_3[:20, 0], X_3[:20, 1], \n",
    "            marker=\"x\", alpha=0.7, c=\"r\")\n",
    "plt.scatter(X_3[20:, 0], X_3[20:, 1], \n",
    "            marker=\"x\", alpha=0.7, c=\"b\")\n",
    "\n",
    "plt.show"
   ]
  },
  {
   "cell_type": "code",
   "execution_count": 21,
   "metadata": {
    "colab": {
     "base_uri": "https://localhost:8080/",
     "height": 476
    },
    "colab_type": "code",
    "id": "tYeCUByif749",
    "outputId": "4b29249e-02a4-40a6-b142-368bb226aa41"
   },
   "outputs": [
    {
     "name": "stdout",
     "output_type": "stream",
     "text": [
      "#####SGDClassifier#####\n",
      "正解率:0.375\n",
      "適合率:0.43333333333333335\n",
      "再現率:0.41666666666666663\n",
      "F値:0.3650793650793651\n",
      "混合行列\n",
      "[[1 1]\n",
      " [4 2]]\n",
      "\n",
      "#####SVC#####\n",
      "正解率:0.5\n",
      "適合率:0.6666666666666666\n",
      "再現率:0.6666666666666666\n",
      "F値:0.5\n",
      "混合行列\n",
      "[[2 0]\n",
      " [4 2]]\n",
      "\n",
      "#####DecisionTreeClassifier#####\n",
      "正解率:0.625\n",
      "適合率:0.35714285714285715\n",
      "再現率:0.4166666666666667\n",
      "F値:0.3846153846153846\n",
      "混合行列\n",
      "[[0 2]\n",
      " [1 5]]\n",
      "\n"
     ]
    }
   ],
   "source": [
    "X_3_train, X_3_test, y_3_train, y_3_test = scratch_train_test_split(X_3, y_3, train_size=0.8)\n",
    "\n",
    "for name, model in dict_model.items():\n",
    "  print(\"#####\"+name+\"#####\")\n",
    "  train2evaluate(X_3_train, X_3_test, y_3_train, y_3_test, model)\n",
    "  print()"
   ]
  },
  {
   "cell_type": "markdown",
   "metadata": {
    "colab_type": "text",
    "id": "l5nl0j0sjCiy"
   },
   "source": [
    "#### 回帰問題\n",
    "回帰は1種類をスクラッチします。\n",
    "\n",
    "- 線形回帰\n",
    "\n",
    "線形回帰は勾配降下法を用いて計算するSGDRegressorクラスを利用してください。\n",
    "\n",
    "[sklearn.linear_model.SGDRegressor — scikit-learn 0.21.3 documentation](https://scikit-learn.org/stable/modules/generated/sklearn.linear_model.SGDRegressor.html)\n",
    "\n",
    "データセットは事前学習期間同様にHouse Pricesコンペティションのものを使います。\n",
    "\n",
    "[House Prices: Advanced Regression Techniques](https://www.kaggle.com/c/house-prices-advanced-regression-techniques/data)\n",
    "\n",
    "train.csvをダウンロードし、目的変数としてSalePrice、説明変数として、GrLivAreaとYearBuiltを使います。\n",
    "\n",
    "### 【問題3】 回帰問題を解くコードの作成\n",
    "線形回帰でHouse Pricesデータセットを学習・推定するコードを作成してください。"
   ]
  },
  {
   "cell_type": "code",
   "execution_count": 22,
   "metadata": {
    "colab": {},
    "colab_type": "code",
    "id": "IEMffjU8f7_d"
   },
   "outputs": [],
   "source": [
    "from sklearn.linear_model import SGDRegressor"
   ]
  },
  {
   "cell_type": "code",
   "execution_count": 24,
   "metadata": {
    "colab": {
     "base_uri": "https://localhost:8080/",
     "height": 412
    },
    "colab_type": "code",
    "id": "mG22hNtXf8Cd",
    "outputId": "71fb7057-600f-4746-9509-7f1122561383"
   },
   "outputs": [
    {
     "data": {
      "text/html": [
       "<div>\n",
       "<style scoped>\n",
       "    .dataframe tbody tr th:only-of-type {\n",
       "        vertical-align: middle;\n",
       "    }\n",
       "\n",
       "    .dataframe tbody tr th {\n",
       "        vertical-align: top;\n",
       "    }\n",
       "\n",
       "    .dataframe thead th {\n",
       "        text-align: right;\n",
       "    }\n",
       "</style>\n",
       "<table border=\"1\" class=\"dataframe\">\n",
       "  <thead>\n",
       "    <tr style=\"text-align: right;\">\n",
       "      <th></th>\n",
       "      <th>GrLivArea</th>\n",
       "      <th>YearBuilt</th>\n",
       "      <th>SalePrice</th>\n",
       "    </tr>\n",
       "  </thead>\n",
       "  <tbody>\n",
       "    <tr>\n",
       "      <th>count</th>\n",
       "      <td>1460.000000</td>\n",
       "      <td>1460.000000</td>\n",
       "      <td>1460.000000</td>\n",
       "    </tr>\n",
       "    <tr>\n",
       "      <th>mean</th>\n",
       "      <td>1515.463699</td>\n",
       "      <td>1971.267808</td>\n",
       "      <td>180921.195890</td>\n",
       "    </tr>\n",
       "    <tr>\n",
       "      <th>std</th>\n",
       "      <td>525.480383</td>\n",
       "      <td>30.202904</td>\n",
       "      <td>79442.502883</td>\n",
       "    </tr>\n",
       "    <tr>\n",
       "      <th>min</th>\n",
       "      <td>334.000000</td>\n",
       "      <td>1872.000000</td>\n",
       "      <td>34900.000000</td>\n",
       "    </tr>\n",
       "    <tr>\n",
       "      <th>25%</th>\n",
       "      <td>1129.500000</td>\n",
       "      <td>1954.000000</td>\n",
       "      <td>129975.000000</td>\n",
       "    </tr>\n",
       "    <tr>\n",
       "      <th>50%</th>\n",
       "      <td>1464.000000</td>\n",
       "      <td>1973.000000</td>\n",
       "      <td>163000.000000</td>\n",
       "    </tr>\n",
       "    <tr>\n",
       "      <th>75%</th>\n",
       "      <td>1776.750000</td>\n",
       "      <td>2000.000000</td>\n",
       "      <td>214000.000000</td>\n",
       "    </tr>\n",
       "    <tr>\n",
       "      <th>max</th>\n",
       "      <td>5642.000000</td>\n",
       "      <td>2010.000000</td>\n",
       "      <td>755000.000000</td>\n",
       "    </tr>\n",
       "  </tbody>\n",
       "</table>\n",
       "</div>"
      ],
      "text/plain": [
       "         GrLivArea    YearBuilt      SalePrice\n",
       "count  1460.000000  1460.000000    1460.000000\n",
       "mean   1515.463699  1971.267808  180921.195890\n",
       "std     525.480383    30.202904   79442.502883\n",
       "min     334.000000  1872.000000   34900.000000\n",
       "25%    1129.500000  1954.000000  129975.000000\n",
       "50%    1464.000000  1973.000000  163000.000000\n",
       "75%    1776.750000  2000.000000  214000.000000\n",
       "max    5642.000000  2010.000000  755000.000000"
      ]
     },
     "execution_count": 24,
     "metadata": {},
     "output_type": "execute_result"
    }
   ],
   "source": [
    "df = pd.read_csv('train.csv')\n",
    "df_select = df[['GrLivArea', 'YearBuilt', 'SalePrice']]\n",
    "df_select.describe()"
   ]
  },
  {
   "cell_type": "code",
   "execution_count": 47,
   "metadata": {
    "colab": {},
    "colab_type": "code",
    "id": "dTLGC1pBKDFX"
   },
   "outputs": [],
   "source": [
    "from sklearn.preprocessing import StandardScaler\n",
    "from sklearn.metrics import mean_squared_error, mean_absolute_error, r2_score\n",
    "\n",
    "# 試験用関数の定義\n",
    "def scale2evaluate(scaler, X_train, X_test, y_train, y_test, model):\n",
    "    scaler.fit(X_train)\n",
    "    X_train_scaled = scaler.transform(X_train)\n",
    "    X_test_scaled = scaler.transform(X_test)\n",
    "    y_train_scaled = np.log(y_train)\n",
    "    model.fit(X_train_scaled, y_train_scaled)\n",
    "    y_pred = model.predict(X_test_scaled)\n",
    "    mse = mean_squared_error(y_test ,np.exp(y_pred))\n",
    "    mae = mean_absolute_error(y_test ,np.exp(y_pred))\n",
    "    r2 = r2_score(y_test ,np.exp(y_pred))\n",
    "    print(\"平均二乗誤差(RMSE):{:e}({:e})\".format((mse), np.sqrt(mse)))\n",
    "    print(\"平均絶対誤差:{:e}\".format(mae))\n",
    "    print(\"決定係数:{}\".format(r2))"
   ]
  },
  {
   "cell_type": "code",
   "execution_count": 58,
   "metadata": {},
   "outputs": [
    {
     "name": "stdout",
     "output_type": "stream",
     "text": [
      "平均二乗誤差(RMSE):1.179966e+09(3.435064e+04)\n",
      "平均絶対誤差:2.438438e+04\n",
      "決定係数:0.7458888584755542\n"
     ]
    },
    {
     "name": "stderr",
     "output_type": "stream",
     "text": [
      "/home/timanishi/.pyenv/versions/3.7.8/lib/python3.7/site-packages/sklearn/utils/validation.py:73: DataConversionWarning: A column-vector y was passed when a 1d array was expected. Please change the shape of y to (n_samples, ), for example using ravel().\n",
      "  return f(**kwargs)\n"
     ]
    }
   ],
   "source": [
    "sgd_r = SGDRegressor()\n",
    "scaler = StandardScaler()\n",
    "\n",
    "X_4 = df_select[['GrLivArea', 'YearBuilt']]\n",
    "y_4 = df_select[['SalePrice']]\n",
    "\n",
    "X_4_train, X_4_test, y_4_train, y_4_test = scratch_train_test_split(X_4, y_4, train_size=0.8)\n",
    "\n",
    "scale2evaluate(scaler, X_4_train, X_4_test, y_4_train, y_4_test, sgd_r)"
   ]
  }
 ],
 "metadata": {
  "colab": {
   "collapsed_sections": [],
   "name": "01_機械学習スクラッチ入門.ipynb",
   "provenance": []
  },
  "kernelspec": {
   "display_name": "Python 3",
   "language": "python",
   "name": "python3"
  },
  "language_info": {
   "codemirror_mode": {
    "name": "ipython",
    "version": 3
   },
   "file_extension": ".py",
   "mimetype": "text/x-python",
   "name": "python",
   "nbconvert_exporter": "python",
   "pygments_lexer": "ipython3",
   "version": "3.7.8"
  }
 },
 "nbformat": 4,
 "nbformat_minor": 1
}
