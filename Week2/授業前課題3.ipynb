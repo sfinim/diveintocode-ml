{
 "cells": [
  {
   "cell_type": "markdown",
   "metadata": {},
   "source": [
    "以下のような行列A、Bを考えます。\n",
    "\n",
    "$$\n",
    "\\boldsymbol{A} = \\left[\\begin{array}{c}\n",
    "-1 & 2 & 3 \\\\\n",
    "4 & -5 & 6 \\\\\n",
    "7 & 8 & -9 \\\\\n",
    "\\end{array}\\right]\n",
    ",\n",
    "\\boldsymbol{B} = \\left[\\begin{array}{c}\n",
    "0 & 2 & 1 \\\\\n",
    "0 & 2 & -8 \\\\\n",
    "2 & 9 & -1 \\\\\n",
    "\\end{array}\\right]\n",
    "$$"
   ]
  },
  {
   "cell_type": "code",
   "execution_count": 1,
   "metadata": {},
   "outputs": [],
   "source": [
    "import numpy as np\n",
    "a_ndarray = np.array([[-1, 2, 3], [4, -5, 6], [7, 8, -9]])\n",
    "b_ndarray = np.array([[0, 2, 1], [0, 2, -8], [2, 9, -1]])"
   ]
  },
  {
   "cell_type": "markdown",
   "metadata": {},
   "source": [
    "### 【問題1】行列積を手計算する\n",
    "AとBの行列積を手計算で解いてください。\n",
    "\n",
    "計算過程もマークダウンテキストを用いて説明してください。"
   ]
  },
  {
   "cell_type": "markdown",
   "metadata": {},
   "source": [
    "#### 解答\n",
    "行列$\\boldsymbol{A}, \\boldsymbol{B}$を以下のように表したときの行列式を考える。\n",
    "\n",
    "$$\n",
    "\\boldsymbol{A} = \\left[\\begin{array}{c}\n",
    "a_{0,0} & a_{0,1} & a_{0,2} \\\\\n",
    "a_{1,0} & a_{1,1} & a_{1,2} \\\\\n",
    "a_{2,0} & a_{2,1} & a_{2,2} \\\\\n",
    "\\end{array}\\right]\n",
    ",\n",
    "\\boldsymbol{B} = \\left[\\begin{array}{c}\n",
    "b_{0,0} & b_{0,1} & b_{0,2} \\\\\n",
    "b_{1,0} & b_{1,1} & b_{1,2} \\\\\n",
    "b_{2,0} & b_{2,1} & b_{2,2} \\\\\n",
    "\\end{array}\\right]\n",
    "$$\n",
    "\n",
    "$$\n",
    "\\boldsymbol{A・B} = \\left[\\begin{array}{c}\n",
    "a_{0,0}・b_{0,0}+a_{0,1}・b_{1,0}+a_{0,2}・b_{2,0} & a_{0,0}・b_{0,1}+a_{0,1}・b_{1,1}+a_{0,2}・b_{2,1} & a_{0,0}・b_{0,2}+a_{0,1}・b_{1,2}+a_{0,2}・b_{2,2} \\\\\n",
    "a_{1,0}・b_{0,0}+a_{1,1}・b_{1,0}+a_{1,2}・b_{2,0} & a_{1,0}・b_{0,1}+a_{1,1}・b_{1,1}+a_{1,2}・b_{2,1} & a_{1,0}・b_{0,2}+a_{1,1}・b_{1,2}+a_{1,2}・b_{2,2} \\\\\n",
    "a_{2,0}・b_{0,0}+a_{2,1}・b_{1,0}+a_{2,2}・b_{2,0} & a_{2,0}・b_{0,1}+a_{2,1}・b_{1,1}+a_{2,2}・b_{2,1} & a_{2,0}・b_{0,2}+a_{2,1}・b_{1,2}+a_{2,2}・b_{2,2}\n",
    "\\end{array}\\right]\n",
    "$$"
   ]
  },
  {
   "cell_type": "markdown",
   "metadata": {},
   "source": [
    "上記の式に、行列$\\boldsymbol{A}, \\boldsymbol{B}$の値を代入する。\n",
    "\n",
    "$$\n",
    "\\boldsymbol{A・B} = \\left[\\begin{array}{c}\n",
    "-1・0+2・0+3・2 \\quad -1・2+2・2+3・9 \\quad -1・1+2・-8+3・-1 \\\\\n",
    "4・0+-5・0+6・2 \\quad 4・2+-5・2+6・9 \\quad 4・1+-5・-8+6・-1 \\\\\n",
    "7・0+8・0+-9・2 \\quad 7・2+8・2+-9・9 \\quad 7・1+8・-8+-9・-1\n",
    "\\end{array}\\right] \\\\\n",
    "=\\left[\\begin{array}{c}\n",
    "6 & 29 & -20 \\\\\n",
    "12 & 52 & 38 \\\\\n",
    "-18 & -51 & -48\n",
    "\\end{array}\\right]\n",
    "$$\n"
   ]
  },
  {
   "cell_type": "markdown",
   "metadata": {},
   "source": [
    "### 【問題2】NumPyの関数による計算\n",
    "この行列積はNumPyの`np.matmul()`や`np.dot()`、または@演算子を使うことで簡単に計算できます。\n",
    "\n",
    "これらを使い行列積を計算してください。"
   ]
  },
  {
   "cell_type": "code",
   "execution_count": 2,
   "metadata": {},
   "outputs": [
    {
     "name": "stdout",
     "output_type": "stream",
     "text": [
      "[[  6  29 -20]\n",
      " [ 12  52  38]\n",
      " [-18 -51 -48]]\n"
     ]
    }
   ],
   "source": [
    "mp_AB = np.dot(a_ndarray, b_ndarray)\n",
    "print(mp_AB)"
   ]
  },
  {
   "cell_type": "code",
   "execution_count": 3,
   "metadata": {},
   "outputs": [
    {
     "name": "stdout",
     "output_type": "stream",
     "text": [
      "[[  6  29 -20]\n",
      " [ 12  52  38]\n",
      " [-18 -51 -48]]\n"
     ]
    }
   ],
   "source": [
    "mp_AB = np.matmul(a_ndarray, b_ndarray)\n",
    "print(mp_AB)"
   ]
  },
  {
   "cell_type": "code",
   "execution_count": 4,
   "metadata": {},
   "outputs": [
    {
     "name": "stdout",
     "output_type": "stream",
     "text": [
      "[[  6  29 -20]\n",
      " [ 12  52  38]\n",
      " [-18 -51 -48]]\n"
     ]
    }
   ],
   "source": [
    "mp_AB = a_ndarray @ b_ndarray\n",
    "print(mp_AB)"
   ]
  },
  {
   "cell_type": "markdown",
   "metadata": {},
   "source": [
    "### 【問題3】ある要素の計算を実装\n",
    "手計算をする際はまず行列Aの0行目と行列Bの0列目に注目し、以下の計算を行ったかと思います。\n",
    "\n",
    "\n",
    "行列Aの(0,0)の要素 $a_{0, 0}$ と行列Bの(0,0)の要素 $b_{0, 0}$ を掛け合わせる\n",
    "行列Aの(0,1)の要素 $a_{0, 1}$ と行列Bの(1,0)の要素 $b_{1, 0}$ を掛け合わせる\n",
    "行列Aの(0,2)の要素 $a_{0, 2}$ と行列Bの(2,0)の要素 $b_{2, 0}$ を掛け合わせる\n",
    "それらの値を全て足し合わせる\n",
    "\n",
    "数式で表すと\n",
    "\n",
    "$$\n",
    "\\sum_{k=0}^{2}a_{0,k}b_{k,0}\n",
    "$$\n",
    "\n",
    "です。\n",
    "\n",
    "\n",
    "この計算を`np.matmul()`や`np.dot()`、または@演算子を使わずに行うコードを書いてください。"
   ]
  },
  {
   "cell_type": "code",
   "execution_count": 22,
   "metadata": {},
   "outputs": [
    {
     "name": "stdout",
     "output_type": "stream",
     "text": [
      "6\n"
     ]
    }
   ],
   "source": [
    "tmp_array = a_ndarray[0] * b_ndarray[:, 0]\n",
    "print(sum(tmp_array))"
   ]
  },
  {
   "cell_type": "markdown",
   "metadata": {},
   "source": [
    "### 【問題4】行列積を行う関数の作成\n",
    "問題3のコードを拡張し、行列積のスクラッチ実装を完成させてください。行列AとBを引数に受け取り、行列積を返す関数としてください。\n",
    "\n",
    "行列積を計算する場合は、問題3の計算を異なる行や列に対して繰り返していくことになります。\n",
    "\n",
    "計算結果である $3 \\times 3$ の行列Cの各要素 $c_{i, j}$ は数式で表すと次のようになります。\n",
    "\n",
    "$$\n",
    "c_{i,j} = \\sum_{k=0}^{2}a_{i,k}b_{k,j}\n",
    "$$\n",
    "\n",
    "for文を使い、ndarrayのインデックスを動かしていくことで、合計9つの要素が計算できます。インデックス $i$ や $j$ を1増やすと、次の行や列に移ることができます。"
   ]
  },
  {
   "cell_type": "code",
   "execution_count": 71,
   "metadata": {},
   "outputs": [],
   "source": [
    "def compute_mp(matrix_A, matrix_B):\n",
    "\n",
    "    list_mp_AB = []\n",
    "\n",
    "    for a in matrix_A:\n",
    "        for cnt in range(matrix_B.shape[1]):\n",
    "            tmp_array = a * matrix_B[:, cnt]\n",
    "            list_mp_AB.append(sum(tmp_array))\n",
    "\n",
    "    return np.reshape(list_mp_AB, (3, 3))"
   ]
  },
  {
   "cell_type": "code",
   "execution_count": 72,
   "metadata": {},
   "outputs": [
    {
     "data": {
      "text/plain": [
       "array([[  6,  29, -20],\n",
       "       [ 12,  52,  38],\n",
       "       [-18, -51, -48]])"
      ]
     },
     "execution_count": 72,
     "metadata": {},
     "output_type": "execute_result"
    }
   ],
   "source": [
    "mp_AB = compute_mp(a_ndarray, b_ndarray)\n",
    "mp_AB"
   ]
  },
  {
   "cell_type": "markdown",
   "metadata": {},
   "source": [
    "---"
   ]
  },
  {
   "cell_type": "markdown",
   "metadata": {},
   "source": [
    "次に以下のような例を考えます。\n",
    "\n",
    "$$\n",
    "\\boldsymbol{D} = \\left[\\begin{array}{c}\n",
    "-1 & 2 & 3 \\\\\n",
    "4 & -5 & 6 \n",
    "\\end{array}\\right]\n",
    ",\n",
    "\\boldsymbol{E} = \\left[\\begin{array}{c}\n",
    "-9 & 8 & 7 \\\\\n",
    "6 & -5 & 4 \n",
    "\\end{array}\\right]\n",
    "$$"
   ]
  },
  {
   "cell_type": "code",
   "execution_count": 73,
   "metadata": {},
   "outputs": [],
   "source": [
    "d_ndarray = np.array([[-1, 2, 3], [4, -5, 6]])\n",
    "e_ndarray = np.array([[-9, 8, 7], [6, -5, 4]])"
   ]
  },
  {
   "cell_type": "markdown",
   "metadata": {},
   "source": [
    "### 【問題5】計算が定義されない入力を判定する\n",
    "問題4で作成した関数は、実装方法によってはこのDとEの配列を入力しても動いてしまう可能性があります。この場合、不適切な計算が行われることになります。また、途中でエラーになる場合でも、なぜエラーになったかが直接的には分かりづらいメッセージが表示されます。\n",
    "\n",
    "if文などによってこれを防ぎ、入力される形に問題があることを`print()`を使い表示するコードを書き加えてください。"
   ]
  },
  {
   "cell_type": "code",
   "execution_count": 79,
   "metadata": {},
   "outputs": [],
   "source": [
    "def compute_mp_kai(matrix_A, matrix_B):\n",
    "\n",
    "    # 入力チェック\n",
    "    if matrix_A.shape[1] != matrix_B.shape[0]:\n",
    "        print(\"行列積を計算できる入力ではありません\")\n",
    "        print(\"matrix_A.shape:{}\".format(matrix_A.shape))\n",
    "        print(\"matrix_B.shape:{}\".format(matrix_B.shape))\n",
    "        return \n",
    "    \n",
    "    list_mp_AB = []\n",
    "\n",
    "    for a in matrix_A:\n",
    "        for cnt in range(matrix_B.shape[1]):\n",
    "            tmp_array = a * matrix_B[:, cnt]\n",
    "            list_mp_AB.append(sum(tmp_array))\n",
    "\n",
    "    return np.reshape(list_mp_AB, (matrix_A.shape[0], matrix_B.shape[1]))"
   ]
  },
  {
   "cell_type": "code",
   "execution_count": 80,
   "metadata": {},
   "outputs": [
    {
     "name": "stdout",
     "output_type": "stream",
     "text": [
      "行列積を計算できる入力ではありません\n",
      "matrix_A.shape:(2, 3)\n",
      "matrix_B.shape:(2, 3)\n",
      "None\n"
     ]
    }
   ],
   "source": [
    "print(compute_mp_kai(d_ndarray, e_ndarray))"
   ]
  },
  {
   "cell_type": "markdown",
   "metadata": {},
   "source": [
    "### 【問題6】転置\n",
    "片方の行列を転置することで、行列積が計算できるようになります。"
   ]
  },
  {
   "cell_type": "code",
   "execution_count": 81,
   "metadata": {},
   "outputs": [
    {
     "name": "stdout",
     "output_type": "stream",
     "text": [
      "[[-1  4]\n",
      " [ 2 -5]\n",
      " [ 3  6]]\n",
      "[[-9  8  7]\n",
      " [ 6 -5  4]]\n",
      "[[ 33 -28   9]\n",
      " [-48  41  -6]\n",
      " [  9  -6  45]]\n"
     ]
    }
   ],
   "source": [
    "print(d_ndarray.T)\n",
    "print(e_ndarray)\n",
    "print(compute_mp_kai(d_ndarray.T, e_ndarray))"
   ]
  },
  {
   "cell_type": "code",
   "execution_count": 82,
   "metadata": {},
   "outputs": [
    {
     "name": "stdout",
     "output_type": "stream",
     "text": [
      "[[-1  2  3]\n",
      " [ 4 -5  6]]\n",
      "[[-9  6]\n",
      " [ 8 -5]\n",
      " [ 7  4]]\n",
      "[[ 46  -4]\n",
      " [-34  73]]\n"
     ]
    }
   ],
   "source": [
    "print(d_ndarray)\n",
    "print(e_ndarray.T)\n",
    "print(compute_mp_kai(d_ndarray, e_ndarray.T))"
   ]
  },
  {
   "cell_type": "code",
   "execution_count": null,
   "metadata": {},
   "outputs": [],
   "source": []
  }
 ],
 "metadata": {
  "kernelspec": {
   "display_name": "Python 3",
   "language": "python",
   "name": "python3"
  },
  "language_info": {
   "codemirror_mode": {
    "name": "ipython",
    "version": 3
   },
   "file_extension": ".py",
   "mimetype": "text/x-python",
   "name": "python",
   "nbconvert_exporter": "python",
   "pygments_lexer": "ipython3",
   "version": "3.7.8"
  }
 },
 "nbformat": 4,
 "nbformat_minor": 4
}
